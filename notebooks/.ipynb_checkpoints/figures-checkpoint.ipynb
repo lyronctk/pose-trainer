{
 "cells": [
  {
   "cell_type": "code",
   "execution_count": 1,
   "id": "massive-butterfly",
   "metadata": {},
   "outputs": [],
   "source": [
    "import pandas as pd\n",
    "import numpy as np\n",
    "import sklearn\n",
    "from sklearn import metrics"
   ]
  },
  {
   "cell_type": "code",
   "execution_count": 2,
   "id": "sophisticated-jamaica",
   "metadata": {},
   "outputs": [],
   "source": [
    "class1label = 'proper'\n",
    "class2label = 'squat'\n",
    "class3label = 'rounded'\n",
    "class4label = 'crooked'\n",
    "class5label = 'lockout'\n",
    "\n",
    "pth1 = '~/gcloud/trainer/data/class1.csv'\n",
    "pth2 = '~/gcloud/trainer/data/class2.csv'\n",
    "pth3 = '~/gcloud/trainer/data/class3.csv'\n",
    "pth4 = '~/gcloud/trainer/data/class4.csv'\n",
    "pth5 = '~/gcloud/trainer/data/class5.csv'\n",
    "class1 = pd.read_csv(pth1, header=None)\n",
    "class2 = pd.read_csv(pth2, header=None)\n",
    "class3 = pd.read_csv(pth3, header=None)\n",
    "class4 = pd.read_csv(pth4, header=None)\n",
    "class5 = pd.read_csv(pth5, header=None)"
   ]
  },
  {
   "cell_type": "code",
   "execution_count": 3,
   "id": "monetary-creek",
   "metadata": {},
   "outputs": [],
   "source": [
    "#array of class dataframes\n",
    "classes = [class1, class2, class3, class4, class5]\n",
    "#array of video names\n",
    "labels = class1[1].unique()"
   ]
  },
  {
   "cell_type": "code",
   "execution_count": 4,
   "id": "civil-venezuela",
   "metadata": {},
   "outputs": [
    {
     "data": {
      "text/html": [
       "<div>\n",
       "<style scoped>\n",
       "    .dataframe tbody tr th:only-of-type {\n",
       "        vertical-align: middle;\n",
       "    }\n",
       "\n",
       "    .dataframe tbody tr th {\n",
       "        vertical-align: top;\n",
       "    }\n",
       "\n",
       "    .dataframe thead th {\n",
       "        text-align: right;\n",
       "    }\n",
       "</style>\n",
       "<table border=\"1\" class=\"dataframe\">\n",
       "  <thead>\n",
       "    <tr style=\"text-align: right;\">\n",
       "      <th></th>\n",
       "      <th>0</th>\n",
       "      <th>1</th>\n",
       "      <th>2</th>\n",
       "      <th>3</th>\n",
       "    </tr>\n",
       "  </thead>\n",
       "  <tbody>\n",
       "    <tr>\n",
       "      <th>0</th>\n",
       "      <td>/home/amolsingh/gcloud/trainer/data/frames/1_p...</td>\n",
       "      <td>amol_deg135_take2</td>\n",
       "      <td>frame21.jpg</td>\n",
       "      <td>proper</td>\n",
       "    </tr>\n",
       "    <tr>\n",
       "      <th>1</th>\n",
       "      <td>/home/amolsingh/gcloud/trainer/data/frames/1_p...</td>\n",
       "      <td>amol_deg135_take2</td>\n",
       "      <td>frame19.jpg</td>\n",
       "      <td>proper</td>\n",
       "    </tr>\n",
       "    <tr>\n",
       "      <th>2</th>\n",
       "      <td>/home/amolsingh/gcloud/trainer/data/frames/1_p...</td>\n",
       "      <td>amol_deg135_take2</td>\n",
       "      <td>frame5.jpg</td>\n",
       "      <td>crooked</td>\n",
       "    </tr>\n",
       "    <tr>\n",
       "      <th>3</th>\n",
       "      <td>/home/amolsingh/gcloud/trainer/data/frames/1_p...</td>\n",
       "      <td>amol_deg135_take2</td>\n",
       "      <td>frame61.jpg</td>\n",
       "      <td>proper</td>\n",
       "    </tr>\n",
       "    <tr>\n",
       "      <th>4</th>\n",
       "      <td>/home/amolsingh/gcloud/trainer/data/frames/1_p...</td>\n",
       "      <td>amol_deg135_take2</td>\n",
       "      <td>frame12.jpg</td>\n",
       "      <td>proper</td>\n",
       "    </tr>\n",
       "  </tbody>\n",
       "</table>\n",
       "</div>"
      ],
      "text/plain": [
       "                                                   0                  1  \\\n",
       "0  /home/amolsingh/gcloud/trainer/data/frames/1_p...  amol_deg135_take2   \n",
       "1  /home/amolsingh/gcloud/trainer/data/frames/1_p...  amol_deg135_take2   \n",
       "2  /home/amolsingh/gcloud/trainer/data/frames/1_p...  amol_deg135_take2   \n",
       "3  /home/amolsingh/gcloud/trainer/data/frames/1_p...  amol_deg135_take2   \n",
       "4  /home/amolsingh/gcloud/trainer/data/frames/1_p...  amol_deg135_take2   \n",
       "\n",
       "             2        3  \n",
       "0  frame21.jpg   proper  \n",
       "1  frame19.jpg   proper  \n",
       "2   frame5.jpg  crooked  \n",
       "3  frame61.jpg   proper  \n",
       "4  frame12.jpg   proper  "
      ]
     },
     "execution_count": 4,
     "metadata": {},
     "output_type": "execute_result"
    }
   ],
   "source": [
    "class1.head()"
   ]
  },
  {
   "cell_type": "code",
   "execution_count": 5,
   "id": "documentary-diabetes",
   "metadata": {},
   "outputs": [
    {
     "name": "stdout",
     "output_type": "stream",
     "text": [
      "amol_deg135_take2\n",
      "lance_deg90_take2\n",
      "lyron_deg90_take1\n",
      "amol_deg45_take1\n",
      "lance_deg135_take2\n",
      "lyron_deg90_take2\n",
      "amol_deg135_take1\n",
      "lance_deg45_take1\n",
      "lance_deg135_take1\n",
      "lyron_deg45_take2\n",
      "lyron_deg135_take1\n",
      "lyron_deg135_take2\n",
      "amol_deg45_take2\n",
      "lyron_deg45_take1\n",
      "lance_deg45_take2\n",
      "amol_deg90_take2\n",
      "amol_deg90_take1\n",
      "lance_deg90_take1\n"
     ]
    }
   ],
   "source": [
    "videolabels1 = {}\n",
    "classt = class1\n",
    "\n",
    "subset = classt.loc[classt[1] == labels[0]]\n",
    "subset.head()\n",
    "\n",
    "for label in labels:\n",
    "    print(label)\n",
    "    subset = classt.loc[classt[1] == label]\n",
    "    counts = subset[3].value_counts()\n",
    "    if len(counts) >= 3:\n",
    "        videolabels1[label] = ([counts == counts[0]][0].index[0], counts[0], [counts == counts[0]][0].index[1], counts[1], [counts == counts[0]][0].index[2], counts[2] )\n",
    "    elif len(counts) == 2:\n",
    "        videolabels1[label] = ([counts == counts[0]][0].index[0], counts[0], [counts == counts[0]][0].index[1], counts[1])\n",
    "    else:\n",
    "        videolabels1[label] = ([counts == counts[0]][0].index[0], counts[0])"
   ]
  },
  {
   "cell_type": "code",
   "execution_count": 6,
   "id": "atlantic-tribe",
   "metadata": {},
   "outputs": [
    {
     "name": "stdout",
     "output_type": "stream",
     "text": [
      "amol_deg135_take2\n",
      "lance_deg90_take2\n",
      "lyron_deg90_take1\n",
      "amol_deg45_take1\n",
      "lance_deg135_take2\n",
      "lyron_deg90_take2\n",
      "amol_deg135_take1\n",
      "lance_deg45_take1\n",
      "lance_deg135_take1\n",
      "lyron_deg45_take2\n",
      "lyron_deg135_take1\n",
      "lyron_deg135_take2\n",
      "amol_deg45_take2\n",
      "lyron_deg45_take1\n",
      "lance_deg45_take2\n",
      "amol_deg90_take2\n",
      "amol_deg90_take1\n",
      "lance_deg90_take1\n"
     ]
    }
   ],
   "source": [
    "videolabels2 = {}\n",
    "classt = class2\n",
    "\n",
    "subset = classt.loc[classt[1] == labels[0]]\n",
    "subset.head()\n",
    "\n",
    "for label in labels:\n",
    "    print(label)\n",
    "    subset = classt.loc[classt[1] == label]\n",
    "    counts = subset[3].value_counts()\n",
    "    if len(counts) >= 3:\n",
    "        videolabels2[label] = ([counts == counts[0]][0].index[0], counts[0], [counts == counts[0]][0].index[1], counts[1], [counts == counts[0]][0].index[2], counts[2] )\n",
    "    elif len(counts) == 2:\n",
    "        videolabels2[label] = ([counts == counts[0]][0].index[0], counts[0], [counts == counts[0]][0].index[1], counts[1])\n",
    "    else:\n",
    "        videolabels2[label] = ([counts == counts[0]][0].index[0], counts[0])"
   ]
  },
  {
   "cell_type": "code",
   "execution_count": 7,
   "id": "metallic-swift",
   "metadata": {},
   "outputs": [
    {
     "name": "stdout",
     "output_type": "stream",
     "text": [
      "amol_deg135_take2\n",
      "lance_deg90_take2\n",
      "lyron_deg90_take1\n",
      "amol_deg45_take1\n",
      "lance_deg135_take2\n",
      "lyron_deg90_take2\n",
      "amol_deg135_take1\n",
      "lance_deg45_take1\n",
      "lance_deg135_take1\n",
      "lyron_deg45_take2\n",
      "lyron_deg135_take1\n",
      "lyron_deg135_take2\n",
      "amol_deg45_take2\n",
      "lyron_deg45_take1\n",
      "lance_deg45_take2\n",
      "amol_deg90_take2\n",
      "amol_deg90_take1\n",
      "lance_deg90_take1\n"
     ]
    }
   ],
   "source": [
    "videolabels4 = {}\n",
    "classt = class4\n",
    "\n",
    "subset = classt.loc[classt[1] == labels[0]]\n",
    "subset.head()\n",
    "\n",
    "for label in labels:\n",
    "    print(label)\n",
    "    subset = classt.loc[classt[1] == label]\n",
    "    counts = subset[3].value_counts()\n",
    "    if len(counts) >= 3:\n",
    "        videolabels4[label] = ([counts == counts[0]][0].index[0], counts[0], [counts == counts[0]][0].index[1], counts[1], [counts == counts[0]][0].index[2], counts[2] )\n",
    "    elif len(counts) == 2:\n",
    "        videolabels4[label] = ([counts == counts[0]][0].index[0], counts[0], [counts == counts[0]][0].index[1], counts[1])\n",
    "    else:\n",
    "        videolabels4[label] = ([counts == counts[0]][0].index[0], counts[0])"
   ]
  },
  {
   "cell_type": "code",
   "execution_count": 8,
   "id": "declared-valuable",
   "metadata": {},
   "outputs": [
    {
     "name": "stdout",
     "output_type": "stream",
     "text": [
      "amol_deg135_take2\n",
      "lance_deg90_take2\n",
      "lyron_deg90_take1\n",
      "amol_deg45_take1\n",
      "lance_deg135_take2\n",
      "lyron_deg90_take2\n",
      "amol_deg135_take1\n",
      "lance_deg45_take1\n",
      "lance_deg135_take1\n",
      "lyron_deg45_take2\n",
      "lyron_deg135_take1\n",
      "lyron_deg135_take2\n",
      "amol_deg45_take2\n",
      "lyron_deg45_take1\n",
      "lance_deg45_take2\n",
      "amol_deg90_take2\n",
      "amol_deg90_take1\n",
      "lance_deg90_take1\n"
     ]
    }
   ],
   "source": [
    "videolabels5 = {}\n",
    "classt = class5\n",
    "\n",
    "subset = classt.loc[classt[1] == labels[0]]\n",
    "subset.head()\n",
    "\n",
    "for label in labels:\n",
    "    print(label)\n",
    "    subset = classt.loc[classt[1] == label]\n",
    "    counts = subset[3].value_counts()\n",
    "    if len(counts) >= 3:\n",
    "        videolabels5[label] = ([counts == counts[0]][0].index[0], counts[0], [counts == counts[0]][0].index[1], counts[1], [counts == counts[0]][0].index[2], counts[2] )\n",
    "    elif len(counts) == 2:\n",
    "        videolabels5[label] = ([counts == counts[0]][0].index[0], counts[0], [counts == counts[0]][0].index[1], counts[1])\n",
    "    elif len(counts) == 1:\n",
    "        videolabels5[label] = ([counts == counts[0]][0].index[0], counts[0])"
   ]
  },
  {
   "cell_type": "code",
   "execution_count": 132,
   "id": "revolutionary-status",
   "metadata": {},
   "outputs": [
    {
     "name": "stdout",
     "output_type": "stream",
     "text": [
      "17\n"
     ]
    }
   ],
   "source": [
    "truelabel = 'proper'\n",
    "count = 0\n",
    "for key, value in videolabels1.items():\n",
    "    if value[0] == truelabel:\n",
    "        count+= 1\n",
    "#     if len(value) == 6:\n",
    "#         if value[0] == truelabel or value[2] == truelabel or value[4] == truelabel:\n",
    "#             count += 1\n",
    "#     if len(value) == 4:\n",
    "#         if value[0] == truelabel or value[2] == truelabel:\n",
    "#             count += 1\n",
    "#     if len(value) == 2:\n",
    "#         if value[0] == truelabel:\n",
    "#             count += 1\n",
    "        \n",
    "print(count)"
   ]
  },
  {
   "cell_type": "code",
   "execution_count": null,
   "id": "changed-terrorism",
   "metadata": {},
   "outputs": [],
   "source": []
  },
  {
   "cell_type": "code",
   "execution_count": 78,
   "id": "shared-chorus",
   "metadata": {},
   "outputs": [
    {
     "name": "stdout",
     "output_type": "stream",
     "text": [
      "26\n",
      "proper proper     2711\n",
      "lockout     577\n",
      "squat       230\n",
      "crooked      26\n",
      "Name: 3, dtype: int64 proper     0.764955\n",
      "lockout    0.162810\n",
      "squat      0.064898\n",
      "crooked    0.007336\n",
      "Name: 3, dtype: float64\n"
     ]
    }
   ],
   "source": [
    "c1counts = class1[3].value_counts()\n",
    "c1ratios = class1[3].value_counts(normalize=True)\n",
    "print(c1counts[3])\n",
    "print(class1label, c1counts, c1ratios)"
   ]
  },
  {
   "cell_type": "code",
   "execution_count": 25,
   "id": "clinical-omaha",
   "metadata": {},
   "outputs": [
    {
     "name": "stdout",
     "output_type": "stream",
     "text": [
      "squat proper     1917\n",
      "lockout     715\n",
      "squat       389\n",
      "crooked      71\n",
      "Name: 3, dtype: int64 proper     0.619987\n",
      "lockout    0.231242\n",
      "squat      0.125809\n",
      "crooked    0.022962\n",
      "Name: 3, dtype: float64\n"
     ]
    }
   ],
   "source": [
    "c2counts = class2[3].value_counts()\n",
    "c2ratios = class2[3].value_counts(normalize=True)\n",
    "\n",
    "print(class2label, c2counts, c2ratios)"
   ]
  },
  {
   "cell_type": "code",
   "execution_count": 26,
   "id": "committed-worker",
   "metadata": {},
   "outputs": [
    {
     "name": "stdout",
     "output_type": "stream",
     "text": [
      "rounded proper     3004\n",
      "lockout     854\n",
      "crooked      43\n",
      "squat        16\n",
      "Name: 3, dtype: int64 proper     0.766913\n",
      "lockout    0.218024\n",
      "crooked    0.010978\n",
      "squat      0.004085\n",
      "Name: 3, dtype: float64\n"
     ]
    }
   ],
   "source": [
    "c3counts = class3[3].value_counts()\n",
    "c3ratios = class3[3].value_counts(normalize=True)\n",
    "\n",
    "print(class3label, c3counts, c3ratios)"
   ]
  },
  {
   "cell_type": "code",
   "execution_count": 27,
   "id": "invisible-promotion",
   "metadata": {},
   "outputs": [
    {
     "name": "stdout",
     "output_type": "stream",
     "text": [
      "crooked proper     2404\n",
      "lockout     580\n",
      "crooked     450\n",
      "squat        73\n",
      "Name: 3, dtype: int64 proper     0.685486\n",
      "lockout    0.165384\n",
      "crooked    0.128315\n",
      "squat      0.020816\n",
      "Name: 3, dtype: float64\n"
     ]
    }
   ],
   "source": [
    "c4counts = class4[3].value_counts()\n",
    "c4ratios = class4[3].value_counts(normalize=True)\n",
    "\n",
    "print(class4label, c4counts, c4ratios)"
   ]
  },
  {
   "cell_type": "code",
   "execution_count": 28,
   "id": "comparative-jewel",
   "metadata": {},
   "outputs": [
    {
     "name": "stdout",
     "output_type": "stream",
     "text": [
      "lockout proper     2755\n",
      "lockout    1028\n",
      "squat        44\n",
      "crooked      33\n",
      "Name: 3, dtype: int64 proper     0.713731\n",
      "lockout    0.266321\n",
      "squat      0.011399\n",
      "crooked    0.008549\n",
      "Name: 3, dtype: float64\n"
     ]
    }
   ],
   "source": [
    "c5counts = class5[3].value_counts()\n",
    "c5ratios = class5[3].value_counts(normalize=True)\n",
    "\n",
    "print(class5label, c5counts, c5ratios)\n"
   ]
  },
  {
   "cell_type": "code",
   "execution_count": 36,
   "id": "loving-professional",
   "metadata": {},
   "outputs": [],
   "source": [
    "y1 = np.full(len(class1[3].to_numpy()), class1label)\n",
    "y2 = np.full(len(class2[3].to_numpy()), class2label)\n",
    "y3 = np.full(len(class3[3].to_numpy()), class3label)\n",
    "y4 = np.full(len(class4[3].to_numpy()), class4label)\n",
    "y5 = np.full(len(class5[3].to_numpy()), class5label)\n",
    "\n",
    "y_true = np.concatenate((y1, y2, y3, y4, y5))"
   ]
  },
  {
   "cell_type": "code",
   "execution_count": 37,
   "id": "joined-scanning",
   "metadata": {},
   "outputs": [
    {
     "name": "stdout",
     "output_type": "stream",
     "text": [
      "['proper' 'proper' 'crooked' ... 'lockout' 'lockout' 'proper']\n"
     ]
    }
   ],
   "source": [
    "y_preds = np.concatenate((class1[3].to_numpy(), class2[3].to_numpy(), class3[3].to_numpy(), class4[3].to_numpy(), class5[3].to_numpy()))\n",
    "print(y_preds)"
   ]
  },
  {
   "cell_type": "code",
   "execution_count": 55,
   "id": "revised-genome",
   "metadata": {},
   "outputs": [
    {
     "name": "stdout",
     "output_type": "stream",
     "text": [
      "[[ 450  580 2404    0   73]\n",
      " [  33 1028 2755    0   44]\n",
      " [  26  577 2711    0  230]\n",
      " [  43  854 3004    0   16]\n",
      " [  71  715 1917    0  389]]\n"
     ]
    }
   ],
   "source": [
    "cm1 = sklearn.metrics.multilabel_confusion_matrix(y_true, y_preds)\n",
    "from mlxtend.evaluate import confusion_matrix\n",
    "\n",
    "cm = confusion_matrix(y_target=y_true, \n",
    "                      y_predicted=y_preds, \n",
    "                      binary=False)\n",
    "print(cm)"
   ]
  },
  {
   "cell_type": "code",
   "execution_count": 58,
   "id": "harmful-reliance",
   "metadata": {},
   "outputs": [
    {
     "data": {
      "image/png": "[encoded data removed]",
      "text/plain": [
       "<Figure size 576x432 with 2 Axes>"
      ]
     },
     "metadata": {
      "needs_background": "light"
     },
     "output_type": "display_data"
    },
    {
     "ename": "TypeError",
     "evalue": "cannot unpack non-iterable NoneType object",
     "output_type": "error",
     "traceback": [
      "\u001b[0;31m---------------------------------------------------------------------------\u001b[0m",
      "\u001b[0;31mTypeError\u001b[0m                                 Traceback (most recent call last)",
      "\u001b[0;32m<ipython-input-58-cb405f7601e1>\u001b[0m in \u001b[0;36m<module>\u001b[0;34m\u001b[0m\n\u001b[1;32m      2\u001b[0m \u001b[0;32mfrom\u001b[0m \u001b[0mmlxtend\u001b[0m\u001b[0;34m.\u001b[0m\u001b[0mevaluate\u001b[0m \u001b[0;32mimport\u001b[0m \u001b[0mconfusion_matrix\u001b[0m\u001b[0;34m\u001b[0m\u001b[0;34m\u001b[0m\u001b[0m\n\u001b[1;32m      3\u001b[0m \u001b[0;34m\u001b[0m\u001b[0m\n\u001b[0;32m----> 4\u001b[0;31m \u001b[0mfig\u001b[0m\u001b[0;34m,\u001b[0m \u001b[0max\u001b[0m \u001b[0;34m=\u001b[0m \u001b[0mplot_confusion_matrix\u001b[0m\u001b[0;34m(\u001b[0m\u001b[0mcm\u001b[0m\u001b[0;34m,\u001b[0m \u001b[0;34m[\u001b[0m\u001b[0mclass4label\u001b[0m\u001b[0;34m,\u001b[0m \u001b[0mclass5label\u001b[0m\u001b[0;34m,\u001b[0m \u001b[0mclass1label\u001b[0m\u001b[0;34m,\u001b[0m \u001b[0mclass3label\u001b[0m\u001b[0;34m,\u001b[0m \u001b[0mclass2label\u001b[0m\u001b[0;34m]\u001b[0m\u001b[0;34m)\u001b[0m\u001b[0;34m\u001b[0m\u001b[0;34m\u001b[0m\u001b[0m\n\u001b[0m\u001b[1;32m      5\u001b[0m \u001b[0mplt\u001b[0m\u001b[0;34m.\u001b[0m\u001b[0mshow\u001b[0m\u001b[0;34m(\u001b[0m\u001b[0;34m)\u001b[0m\u001b[0;34m\u001b[0m\u001b[0;34m\u001b[0m\u001b[0m\n",
      "\u001b[0;31mTypeError\u001b[0m: cannot unpack non-iterable NoneType object"
     ]
    }
   ],
   "source": [
    "import matplotlib.pyplot as plt\n",
    "from mlxtend.evaluate import confusion_matrix\n",
    "\n",
    "fig, ax = plot_confusion_matrix(cm, [class4label, class5label, class1label, class3label, class2label])\n",
    "plt.show()"
   ]
  },
  {
   "cell_type": "code",
   "execution_count": 43,
   "id": "agricultural-prefix",
   "metadata": {},
   "outputs": [],
   "source": [
    "import numpy as np\n",
    "\n",
    "\n",
    "def plot_confusion_matrix(cm,\n",
    "                          target_names,\n",
    "                          title='Confusion matrix',\n",
    "                          cmap=None,\n",
    "                          normalize=True):\n",
    "    \"\"\"\n",
    "    given a sklearn confusion matrix (cm), make a nice plot\n",
    "\n",
    "    Arguments\n",
    "    ---------\n",
    "    cm:           confusion matrix from sklearn.metrics.confusion_matrix\n",
    "\n",
    "    target_names: given classification classes such as [0, 1, 2]\n",
    "                  the class names, for example: ['high', 'medium', 'low']\n",
    "\n",
    "    title:        the text to display at the top of the matrix\n",
    "\n",
    "    cmap:         the gradient of the values displayed from matplotlib.pyplot.cm\n",
    "                  see http://matplotlib.org/examples/color/colormaps_reference.html\n",
    "                  plt.get_cmap('jet') or plt.cm.Blues\n",
    "\n",
    "    normalize:    If False, plot the raw numbers\n",
    "                  If True, plot the proportions\n",
    "\n",
    "    Usage\n",
    "    -----\n",
    "    plot_confusion_matrix(cm           = cm,                  # confusion matrix created by\n",
    "                                                              # sklearn.metrics.confusion_matrix\n",
    "                          normalize    = True,                # show proportions\n",
    "                          target_names = y_labels_vals,       # list of names of the classes\n",
    "                          title        = best_estimator_name) # title of graph\n",
    "\n",
    "    Citiation\n",
    "    ---------\n",
    "    http://scikit-learn.org/stable/auto_examples/model_selection/plot_confusion_matrix.html\n",
    "\n",
    "    \"\"\"\n",
    "    import matplotlib.pyplot as plt\n",
    "    import numpy as np\n",
    "    import itertools\n",
    "\n",
    "    accuracy = np.trace(cm) / float(np.sum(cm))\n",
    "    misclass = 1 - accuracy\n",
    "\n",
    "    if cmap is None:\n",
    "        cmap = plt.get_cmap('Blues')\n",
    "\n",
    "    plt.figure(figsize=(8, 6))\n",
    "    plt.imshow(cm, interpolation='nearest', cmap=cmap)\n",
    "    plt.title(title)\n",
    "    plt.colorbar()\n",
    "\n",
    "    if target_names is not None:\n",
    "        tick_marks = np.arange(len(target_names))\n",
    "        plt.xticks(tick_marks, target_names, rotation=45)\n",
    "        plt.yticks(tick_marks, target_names)\n",
    "\n",
    "    if normalize:\n",
    "        cm = cm.astype('float') / cm.sum(axis=1)[:, np.newaxis]\n",
    "\n",
    "\n",
    "    thresh = cm.max() / 1.5 if normalize else cm.max() / 2\n",
    "    for i, j in itertools.product(range(cm.shape[0]), range(cm.shape[1])):\n",
    "        if normalize:\n",
    "            plt.text(j, i, \"{:0.4f}\".format(cm[i, j]),\n",
    "                     horizontalalignment=\"center\",\n",
    "                     color=\"white\" if cm[i, j] > thresh else \"black\")\n",
    "        else:\n",
    "            plt.text(j, i, \"{:,}\".format(cm[i, j]),\n",
    "                     horizontalalignment=\"center\",\n",
    "                     color=\"white\" if cm[i, j] > thresh else \"black\")\n",
    "\n",
    "\n",
    "    plt.tight_layout()\n",
    "    plt.ylabel('True label')\n",
    "    plt.xlabel('Predicted label\\naccuracy={:0.4f}; misclass={:0.4f}'.format(accuracy, misclass))\n",
    "    plt.show()"
   ]
  },
  {
   "cell_type": "code",
   "execution_count": null,
   "id": "pharmaceutical-composition",
   "metadata": {},
   "outputs": [],
   "source": []
  }
 ],
 "metadata": {
  "kernelspec": {
   "display_name": "Python 3",
   "language": "python",
   "name": "python3"
  },
  "language_info": {
   "codemirror_mode": {
    "name": "ipython",
    "version": 3
   },
   "file_extension": ".py",
   "mimetype": "text/x-python",
   "name": "python",
   "nbconvert_exporter": "python",
   "pygments_lexer": "ipython3",
   "version": "3.7.10"
  }
 },
 "nbformat": 4,
 "nbformat_minor": 5
}
