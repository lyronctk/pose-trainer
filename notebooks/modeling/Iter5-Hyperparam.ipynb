{
 "cells": [
  {
   "cell_type": "code",
   "execution_count": 1,
   "id": "bebada40",
   "metadata": {},
   "outputs": [
    {
     "name": "stderr",
     "output_type": "stream",
     "text": [
      "Using TensorFlow backend.\n"
     ]
    }
   ],
   "source": [
    "import tensorflow as tf\n",
    "\n",
    "import PIL\n",
    "import matplotlib.pyplot as plt\n",
    "import matplotlib.ticker as ticker\n",
    "import sklearn\n",
    "from sklearn.model_selection import train_test_split\n",
    "\n",
    "import itertools\n",
    "from typing import List, Tuple\n",
    "import copy\n",
    "import seaborn as sns\n",
    "import unicodedata\n",
    "import re\n",
    "import numpy as np\n",
    "import os\n",
    "import io\n",
    "from skimage.io import imread\n",
    "import time\n",
    "from ast import literal_eval\n",
    "import math\n",
    "from collections import defaultdict\n",
    "from statistics import median, mean\n",
    "\n",
    "from sklearn.metrics import confusion_matrix\n",
    "import keras\n",
    "from keras import optimizers\n",
    "from keras.preprocessing.image import load_img\n",
    "from keras.layers import Input, Dense, Flatten, Dropout, Conv2D, MaxPooling2D, Activation, concatenate, BatchNormalization\n",
    "from keras.layers.advanced_activations import LeakyReLU\n",
    "from keras.models import Model\n",
    "\n",
    "import pandas as pd\n",
    "\n",
    "import warnings\n",
    "warnings.filterwarnings('ignore')"
   ]
  },
  {
   "cell_type": "code",
   "execution_count": null,
   "id": "4361c1ef",
   "metadata": {},
   "outputs": [],
   "source": []
  },
  {
   "cell_type": "code",
   "execution_count": null,
   "id": "3c6591d3",
   "metadata": {},
   "outputs": [],
   "source": []
  },
  {
   "cell_type": "markdown",
   "id": "4c2a47e2",
   "metadata": {},
   "source": [
    "# Parse and Load Dataset"
   ]
  },
  {
   "cell_type": "code",
   "execution_count": null,
   "id": "9a3eb469",
   "metadata": {},
   "outputs": [],
   "source": []
  },
  {
   "cell_type": "code",
   "execution_count": 2,
   "id": "9a03b954",
   "metadata": {},
   "outputs": [],
   "source": [
    "TARGET_SIZE = (640, 360)\n",
    "IMAGE_EXAMPLE_SHAPE = TARGET_SIZE + (3,)\n",
    "\n",
    "LANDMARK_EXAMPLE_SHAPE = (39, )\n",
    "\n",
    "BASE_PATH = '/home/lancecotingkeh/aggregated/'\n",
    "LABEL_TO_ENCODING = {'proper': 0, 'crooked': 1, 'lockout': 2, 'rounded': 3, 'squat': 4}\n",
    "ENCODING_TO_LABEL = {v: k for k, v in LABEL_TO_ENCODING.items()}\n",
    "NUM_CLASSES = len(LABEL_TO_ENCODING)"
   ]
  },
  {
   "cell_type": "code",
   "execution_count": null,
   "id": "faae7efb",
   "metadata": {},
   "outputs": [],
   "source": []
  },
  {
   "cell_type": "code",
   "execution_count": null,
   "id": "e89fadb1",
   "metadata": {},
   "outputs": [],
   "source": []
  },
  {
   "cell_type": "code",
   "execution_count": 3,
   "id": "bc0b68fa",
   "metadata": {},
   "outputs": [],
   "source": [
    "df_metadata = pd.read_csv('/home/lancecotingkeh/aggregated/pose_landmarks.csv')"
   ]
  },
  {
   "cell_type": "code",
   "execution_count": 4,
   "id": "aac9513c",
   "metadata": {},
   "outputs": [
    {
     "data": {
      "text/html": [
       "<div>\n",
       "<style scoped>\n",
       "    .dataframe tbody tr th:only-of-type {\n",
       "        vertical-align: middle;\n",
       "    }\n",
       "\n",
       "    .dataframe tbody tr th {\n",
       "        vertical-align: top;\n",
       "    }\n",
       "\n",
       "    .dataframe thead th {\n",
       "        text-align: right;\n",
       "    }\n",
       "</style>\n",
       "<table border=\"1\" class=\"dataframe\">\n",
       "  <thead>\n",
       "    <tr style=\"text-align: right;\">\n",
       "      <th></th>\n",
       "      <th>relative_image_path</th>\n",
       "      <th>data_split</th>\n",
       "      <th>label</th>\n",
       "      <th>landmark_nose</th>\n",
       "      <th>landmark_left_shoulder</th>\n",
       "      <th>landmark_right_shoulder</th>\n",
       "      <th>landmark_left_elbow</th>\n",
       "      <th>landmark_right_elbow</th>\n",
       "      <th>landmark_left_wrist</th>\n",
       "      <th>landmark_right_wrist</th>\n",
       "      <th>landmark_left_hip</th>\n",
       "      <th>landmark_right_hip</th>\n",
       "      <th>landmark_left_knee</th>\n",
       "      <th>landmark_right_knee</th>\n",
       "      <th>landmark_left_ankle</th>\n",
       "      <th>landmark_right_ankle</th>\n",
       "    </tr>\n",
       "  </thead>\n",
       "  <tbody>\n",
       "    <tr>\n",
       "      <th>0</th>\n",
       "      <td>5_lockout/lyron_deg135_take2/frame46.jpg</td>\n",
       "      <td>train</td>\n",
       "      <td>proper</td>\n",
       "      <td>(0.8408212661743164, 0.44535547494888306, -0.6...</td>\n",
       "      <td>(0.7523922920227051, 0.483453631401062, -0.080...</td>\n",
       "      <td>(0.59047532081604, 0.4363204836845398, -0.5876...</td>\n",
       "      <td>(0.7419312596321106, 0.6247938871383667, 0.025...</td>\n",
       "      <td>(0.5161336064338684, 0.5835246443748474, -0.57...</td>\n",
       "      <td>(0.7500355839729309, 0.7468990683555603, -0.06...</td>\n",
       "      <td>(0.5082715749740601, 0.7348905205726624, -0.60...</td>\n",
       "      <td>(0.4615359604358673, 0.5611119866371155, 0.148...</td>\n",
       "      <td>(0.34500354528427124, 0.5380272269248962, -0.1...</td>\n",
       "      <td>(0.701583981513977, 0.6245787739753723, -0.039...</td>\n",
       "      <td>(0.5147499442100525, 0.576558530330658, -0.833...</td>\n",
       "      <td>(0.6168646812438965, 0.8138770461082458, 0.163...</td>\n",
       "      <td>(0.4869398772716522, 0.7884341478347778, -0.77...</td>\n",
       "    </tr>\n",
       "    <tr>\n",
       "      <th>1</th>\n",
       "      <td>5_lockout/lyron_deg135_take2/frame203.jpg</td>\n",
       "      <td>train</td>\n",
       "      <td>proper</td>\n",
       "      <td>(0.8654815554618835, 0.4472369849681854, -0.59...</td>\n",
       "      <td>(0.7866912484169006, 0.5048587322235107, -0.12...</td>\n",
       "      <td>(0.6134108901023865, 0.4505915343761444, -0.55...</td>\n",
       "      <td>(0.7522295713424683, 0.6383607983589172, -0.09...</td>\n",
       "      <td>(0.5366990566253662, 0.5983656644821167, -0.55...</td>\n",
       "      <td>(0.7443258762359619, 0.7658225893974304, -0.16...</td>\n",
       "      <td>(0.5270508527755737, 0.7469443678855896, -0.51...</td>\n",
       "      <td>(0.49029654264450073, 0.565066397190094, 0.141...</td>\n",
       "      <td>(0.3752322196960449, 0.5404682159423828, -0.14...</td>\n",
       "      <td>(0.721193253993988, 0.6225733160972595, 0.0097...</td>\n",
       "      <td>(0.604214072227478, 0.5913941860198975, -0.544...</td>\n",
       "      <td>(0.6175094246864319, 0.7968677282333374, 0.155...</td>\n",
       "      <td>(0.4880143404006958, 0.7921530604362488, -0.41...</td>\n",
       "    </tr>\n",
       "    <tr>\n",
       "      <th>2</th>\n",
       "      <td>5_lockout/lyron_deg135_take2/frame207.jpg</td>\n",
       "      <td>train</td>\n",
       "      <td>proper</td>\n",
       "      <td>(0.8618521690368652, 0.42703595757484436, -0.5...</td>\n",
       "      <td>(0.7759232521057129, 0.48765045404434204, -0.0...</td>\n",
       "      <td>(0.6108279228210449, 0.43047401309013367, -0.4...</td>\n",
       "      <td>(0.7476211786270142, 0.6245181560516357, 0.032...</td>\n",
       "      <td>(0.526120126247406, 0.5700463652610779, -0.489...</td>\n",
       "      <td>(0.7355574369430542, 0.7427244186401367, -0.06...</td>\n",
       "      <td>(0.5221640467643738, 0.7184542417526245, -0.49...</td>\n",
       "      <td>(0.4879094958305359, 0.5496541261672974, 0.132...</td>\n",
       "      <td>(0.37393078207969666, 0.5203757286071777, -0.1...</td>\n",
       "      <td>(0.7107850313186646, 0.6180444359779358, 0.138...</td>\n",
       "      <td>(0.574447512626648, 0.5620325207710266, -0.697...</td>\n",
       "      <td>(0.5569970607757568, 0.7731618285179138, 0.340...</td>\n",
       "      <td>(0.47665083408355713, 0.7690679430961609, -0.6...</td>\n",
       "    </tr>\n",
       "  </tbody>\n",
       "</table>\n",
       "</div>"
      ],
      "text/plain": [
       "                         relative_image_path data_split   label  \\\n",
       "0   5_lockout/lyron_deg135_take2/frame46.jpg      train  proper   \n",
       "1  5_lockout/lyron_deg135_take2/frame203.jpg      train  proper   \n",
       "2  5_lockout/lyron_deg135_take2/frame207.jpg      train  proper   \n",
       "\n",
       "                                       landmark_nose  \\\n",
       "0  (0.8408212661743164, 0.44535547494888306, -0.6...   \n",
       "1  (0.8654815554618835, 0.4472369849681854, -0.59...   \n",
       "2  (0.8618521690368652, 0.42703595757484436, -0.5...   \n",
       "\n",
       "                              landmark_left_shoulder  \\\n",
       "0  (0.7523922920227051, 0.483453631401062, -0.080...   \n",
       "1  (0.7866912484169006, 0.5048587322235107, -0.12...   \n",
       "2  (0.7759232521057129, 0.48765045404434204, -0.0...   \n",
       "\n",
       "                             landmark_right_shoulder  \\\n",
       "0  (0.59047532081604, 0.4363204836845398, -0.5876...   \n",
       "1  (0.6134108901023865, 0.4505915343761444, -0.55...   \n",
       "2  (0.6108279228210449, 0.43047401309013367, -0.4...   \n",
       "\n",
       "                                 landmark_left_elbow  \\\n",
       "0  (0.7419312596321106, 0.6247938871383667, 0.025...   \n",
       "1  (0.7522295713424683, 0.6383607983589172, -0.09...   \n",
       "2  (0.7476211786270142, 0.6245181560516357, 0.032...   \n",
       "\n",
       "                                landmark_right_elbow  \\\n",
       "0  (0.5161336064338684, 0.5835246443748474, -0.57...   \n",
       "1  (0.5366990566253662, 0.5983656644821167, -0.55...   \n",
       "2  (0.526120126247406, 0.5700463652610779, -0.489...   \n",
       "\n",
       "                                 landmark_left_wrist  \\\n",
       "0  (0.7500355839729309, 0.7468990683555603, -0.06...   \n",
       "1  (0.7443258762359619, 0.7658225893974304, -0.16...   \n",
       "2  (0.7355574369430542, 0.7427244186401367, -0.06...   \n",
       "\n",
       "                                landmark_right_wrist  \\\n",
       "0  (0.5082715749740601, 0.7348905205726624, -0.60...   \n",
       "1  (0.5270508527755737, 0.7469443678855896, -0.51...   \n",
       "2  (0.5221640467643738, 0.7184542417526245, -0.49...   \n",
       "\n",
       "                                   landmark_left_hip  \\\n",
       "0  (0.4615359604358673, 0.5611119866371155, 0.148...   \n",
       "1  (0.49029654264450073, 0.565066397190094, 0.141...   \n",
       "2  (0.4879094958305359, 0.5496541261672974, 0.132...   \n",
       "\n",
       "                                  landmark_right_hip  \\\n",
       "0  (0.34500354528427124, 0.5380272269248962, -0.1...   \n",
       "1  (0.3752322196960449, 0.5404682159423828, -0.14...   \n",
       "2  (0.37393078207969666, 0.5203757286071777, -0.1...   \n",
       "\n",
       "                                  landmark_left_knee  \\\n",
       "0  (0.701583981513977, 0.6245787739753723, -0.039...   \n",
       "1  (0.721193253993988, 0.6225733160972595, 0.0097...   \n",
       "2  (0.7107850313186646, 0.6180444359779358, 0.138...   \n",
       "\n",
       "                                 landmark_right_knee  \\\n",
       "0  (0.5147499442100525, 0.576558530330658, -0.833...   \n",
       "1  (0.604214072227478, 0.5913941860198975, -0.544...   \n",
       "2  (0.574447512626648, 0.5620325207710266, -0.697...   \n",
       "\n",
       "                                 landmark_left_ankle  \\\n",
       "0  (0.6168646812438965, 0.8138770461082458, 0.163...   \n",
       "1  (0.6175094246864319, 0.7968677282333374, 0.155...   \n",
       "2  (0.5569970607757568, 0.7731618285179138, 0.340...   \n",
       "\n",
       "                                landmark_right_ankle  \n",
       "0  (0.4869398772716522, 0.7884341478347778, -0.77...  \n",
       "1  (0.4880143404006958, 0.7921530604362488, -0.41...  \n",
       "2  (0.47665083408355713, 0.7690679430961609, -0.6...  "
      ]
     },
     "execution_count": 4,
     "metadata": {},
     "output_type": "execute_result"
    }
   ],
   "source": [
    "df_metadata.head(3)"
   ]
  },
  {
   "cell_type": "code",
   "execution_count": 5,
   "id": "252f30cf",
   "metadata": {},
   "outputs": [
    {
     "data": {
      "text/plain": [
       "['landmark_nose',\n",
       " 'landmark_left_shoulder',\n",
       " 'landmark_right_shoulder',\n",
       " 'landmark_left_elbow',\n",
       " 'landmark_right_elbow',\n",
       " 'landmark_left_wrist',\n",
       " 'landmark_right_wrist',\n",
       " 'landmark_left_hip',\n",
       " 'landmark_right_hip',\n",
       " 'landmark_left_knee',\n",
       " 'landmark_right_knee',\n",
       " 'landmark_left_ankle',\n",
       " 'landmark_right_ankle']"
      ]
     },
     "execution_count": 5,
     "metadata": {},
     "output_type": "execute_result"
    }
   ],
   "source": [
    "landmark_columns = [col for col in df_metadata if col.startswith('landmark_')]\n",
    "landmark_columns"
   ]
  },
  {
   "cell_type": "code",
   "execution_count": 6,
   "id": "0a7a003c",
   "metadata": {},
   "outputs": [],
   "source": [
    "def load_preprocess_imgs(image_paths: List[str]) -> np.ndarray:\n",
    "    images = []\n",
    "    for image_path in image_paths:\n",
    "        img = load_img(image_path, target_size=TARGET_SIZE)        \n",
    "        np_img = np.asarray(img)\n",
    "\n",
    "        assert np_img.shape == IMAGE_EXAMPLE_SHAPE\n",
    "        \n",
    "        images.append(np_img)\n",
    "        \n",
    "        # horizontal flip both image\n",
    "        horizontal_flipped_img = img.transpose(PIL.Image.FLIP_LEFT_RIGHT)\n",
    "        np_img = np.asarray(img)\n",
    "        images.append(np_img)\n",
    "        \n",
    "    return np.array(images)"
   ]
  },
  {
   "cell_type": "code",
   "execution_count": 7,
   "id": "2bb55941",
   "metadata": {},
   "outputs": [],
   "source": [
    "def load_preprocess_landmarks(df_metadata) -> np.ndarray:\n",
    "    landmark_examples = []\n",
    "    \n",
    "    for row in df_metadata.iterrows():\n",
    "        single_example = []\n",
    "        flipped_example = []\n",
    "        \n",
    "        for landmark in landmark_columns:\n",
    "            x, y, z = literal_eval(row[1][landmark])\n",
    "            \n",
    "            single_example.extend([x, y, z])\n",
    "            \n",
    "            # horizontal flip landmark\n",
    "            \n",
    "            flipped_example.extend([1-x, y, z])\n",
    "        \n",
    "        landmark_examples.append(np.array(single_example))\n",
    "        landmark_examples.append(np.array(flipped_example))\n",
    "    return np.array(landmark_examples)"
   ]
  },
  {
   "cell_type": "code",
   "execution_count": 8,
   "id": "f7301b5e",
   "metadata": {},
   "outputs": [],
   "source": [
    "def interleave_np_arrays(a, b):\n",
    "    a_shape = a.shape\n",
    "    c = np.empty((a_shape[0] * 2, a_shape[1]), dtype=a.dtype)\n",
    "    c[0::2] = a\n",
    "    c[1::2] = b\n",
    "    \n",
    "    return c"
   ]
  },
  {
   "cell_type": "code",
   "execution_count": 9,
   "id": "22e0cc9b",
   "metadata": {},
   "outputs": [],
   "source": [
    "# load training data\n",
    "\n",
    "df_train = df_metadata[df_metadata['data_split'] == 'train']\n",
    "X_train_imgs = load_preprocess_imgs([f'{BASE_PATH}{p}' for p in df_train['relative_image_path']])\n",
    "X_train_landmarks = load_preprocess_landmarks(df_train)\n",
    "Y_train = keras.utils.to_categorical([LABEL_TO_ENCODING[l] for l in df_train['label']], 5)\n",
    "Y_train = interleave_np_arrays(Y_train, Y_train)"
   ]
  },
  {
   "cell_type": "code",
   "execution_count": 10,
   "id": "d1efd2f5",
   "metadata": {},
   "outputs": [
    {
     "data": {
      "text/plain": [
       "(589, 1178, 1178, 1178)"
      ]
     },
     "execution_count": 10,
     "metadata": {},
     "output_type": "execute_result"
    }
   ],
   "source": [
    "len(df_train), len(X_train_imgs), len(X_train_landmarks), len(Y_train)"
   ]
  },
  {
   "cell_type": "code",
   "execution_count": 11,
   "id": "7d7db9b7",
   "metadata": {},
   "outputs": [],
   "source": [
    "# load validation data\n",
    "df_val = df_metadata[df_metadata['data_split'] == 'val']\n",
    "X_val_imgs = load_preprocess_imgs([f'{BASE_PATH}{p}' for p in df_val['relative_image_path']])\n",
    "X_val_landmarks = load_preprocess_landmarks(df_val)\n",
    "Y_val = keras.utils.to_categorical([LABEL_TO_ENCODING[l] for l in df_val['label']], 5)\n",
    "Y_val = interleave_np_arrays(Y_val, Y_val)"
   ]
  },
  {
   "cell_type": "code",
   "execution_count": 12,
   "id": "589f3fc2",
   "metadata": {},
   "outputs": [
    {
     "data": {
      "text/plain": [
       "(100, 200, 200, 200)"
      ]
     },
     "execution_count": 12,
     "metadata": {},
     "output_type": "execute_result"
    }
   ],
   "source": [
    "len(df_val), len(X_val_imgs), len(X_val_landmarks), len(Y_val)"
   ]
  },
  {
   "cell_type": "code",
   "execution_count": 13,
   "id": "2d254532",
   "metadata": {},
   "outputs": [],
   "source": [
    "# load test data\n",
    "df_test = df_metadata[df_metadata['data_split'] == 'test']\n",
    "X_test_imgs = load_preprocess_imgs([f'{BASE_PATH}{p}' for p in df_test['relative_image_path']])\n",
    "X_test_landmarks = load_preprocess_landmarks(df_test)\n",
    "Y_test = keras.utils.to_categorical([LABEL_TO_ENCODING[l] for l in df_test['label']], 5)\n",
    "Y_test = interleave_np_arrays(Y_test, Y_test)"
   ]
  },
  {
   "cell_type": "code",
   "execution_count": 14,
   "id": "fcacc52c",
   "metadata": {},
   "outputs": [
    {
     "data": {
      "text/plain": [
       "(200, 400, 400, 400)"
      ]
     },
     "execution_count": 14,
     "metadata": {},
     "output_type": "execute_result"
    }
   ],
   "source": [
    "len(df_test), len(X_test_imgs), len(X_test_landmarks), len(Y_test)"
   ]
  },
  {
   "cell_type": "code",
   "execution_count": null,
   "id": "50ebd731",
   "metadata": {},
   "outputs": [],
   "source": []
  },
  {
   "cell_type": "code",
   "execution_count": 15,
   "id": "ffa932fd",
   "metadata": {},
   "outputs": [
    {
     "data": {
      "text/plain": [
       "(640, 360, 3)"
      ]
     },
     "execution_count": 15,
     "metadata": {},
     "output_type": "execute_result"
    }
   ],
   "source": [
    "IMAGE_EXAMPLE_SHAPE"
   ]
  },
  {
   "cell_type": "markdown",
   "id": "93c318d4",
   "metadata": {},
   "source": [
    "# Define Layers"
   ]
  },
  {
   "cell_type": "code",
   "execution_count": 16,
   "id": "c94c34c1",
   "metadata": {},
   "outputs": [],
   "source": [
    "initializer = tf.initializers.VarianceScaling(scale=2.0)\n",
    "\n",
    "class ConvGroupLayer(tf.keras.layers.Layer):\n",
    "    def __init__(self, channel_size: int, filter_size: Tuple[int, int], dropout_rate: float):\n",
    "        self.conv = Conv2D(channel_size, filter_size, padding='same', kernel_initializer=initializer)\n",
    "        self.max_pool = MaxPooling2D(filter_size)\n",
    "        self.bn = BatchNormalization(axis=-1)\n",
    "        self.relu = LeakyReLU(alpha=0.1)\n",
    "        self.drop_out = Dropout(dropout_rate)\n",
    "    \n",
    "    def __call__(self, x):\n",
    "        x = self.conv(x)\n",
    "        x = self.max_pool(x)\n",
    "        x = self.bn(x)\n",
    "        x = self.relu(x)\n",
    "        x = self.drop_out(x)\n",
    "        \n",
    "        return x\n",
    "\n",
    "class CNNTower(tf.keras.layers.Layer):\n",
    "    def __init__(self, num_conv_layers:int, initial_channel_size: int, initial_filter_size: Tuple[int, int], dropout_rate: float):\n",
    "        self.initial_conv = Conv2D(initial_channel_size, initial_filter_size, padding='same', kernel_initializer=initializer, input_shape=IMAGE_EXAMPLE_SHAPE)\n",
    "        self.initial_max_pool = MaxPooling2D(initial_filter_size, padding='same')\n",
    "        self.initial_bn = BatchNormalization(axis=-1)\n",
    "        self.initial_relu = LeakyReLU(alpha=0.1)\n",
    "        self.initial_drop_out = Dropout(dropout_rate)\n",
    "        \n",
    "        self.intermediate_conv_layers = []\n",
    "        \n",
    "        for idx in range(num_conv_layers):\n",
    "            channel_size = initial_channel_size//(2**(idx+1))\n",
    "            \n",
    "            self.intermediate_conv_layers.append(ConvGroupLayer(channel_size, initial_filter_size, dropout_rate))\n",
    "            \n",
    "    def __call__(self, x):\n",
    "        x = self.initial_conv(x)\n",
    "        x = self.initial_max_pool(x)\n",
    "        x = self.initial_bn(x)\n",
    "        x = self.initial_relu(x)\n",
    "        x = self.initial_drop_out(x)\n",
    "        \n",
    "        for layer in self.intermediate_conv_layers:\n",
    "            x = layer(x)\n",
    "            \n",
    "        return Flatten()(x)\n",
    "            \n",
    "        \n",
    "        \n",
    "        \n",
    "        "
   ]
  },
  {
   "cell_type": "code",
   "execution_count": 17,
   "id": "a0be8b13",
   "metadata": {},
   "outputs": [],
   "source": [
    "# cnn_tower = CNNTower(num_conv_layers = 3,\n",
    "#                      initial_channel_size = 128,\n",
    "#                      initial_filter_size = (3, 3),\n",
    "#                      dropout_rate = 0.20\n",
    "#                     )\n",
    "# cnn_tower(tf.random.uniform((32, 640, 360, 3), dtype=tf.float32, minval=0, maxval=256))"
   ]
  },
  {
   "cell_type": "code",
   "execution_count": null,
   "id": "eb1a735b",
   "metadata": {},
   "outputs": [],
   "source": []
  },
  {
   "cell_type": "code",
   "execution_count": null,
   "id": "b74437d8",
   "metadata": {},
   "outputs": [],
   "source": []
  },
  {
   "cell_type": "code",
   "execution_count": null,
   "id": "b2d1d8f7",
   "metadata": {},
   "outputs": [],
   "source": []
  },
  {
   "cell_type": "code",
   "execution_count": null,
   "id": "4fd58dd6",
   "metadata": {},
   "outputs": [],
   "source": []
  },
  {
   "cell_type": "code",
   "execution_count": 18,
   "id": "c90eb735",
   "metadata": {},
   "outputs": [],
   "source": [
    "class DNN(tf.keras.layers.Layer):\n",
    "    def __init__(self, num_layers: int, initial_dense_size: int, dropout_rate: float):\n",
    "        self.layers = []\n",
    "        \n",
    "        for idx in range(num_layers):\n",
    "            self.layers.append(Dense(initial_dense_size//(2**idx)))\n",
    "            self.layers.append(tf.keras.layers.BatchNormalization())\n",
    "            self.layers.append(LeakyReLU(alpha=0.1))\n",
    "            \n",
    "    def __call__(self, x):\n",
    "        for layer in self.layers:\n",
    "            x = layer(x)\n",
    "\n",
    "        return x\n",
    "            \n",
    "            \n",
    "    "
   ]
  },
  {
   "cell_type": "code",
   "execution_count": 19,
   "id": "a49353b0",
   "metadata": {},
   "outputs": [],
   "source": [
    "# dnn = DNN(3, 256, 0.2)\n",
    "# dnn(tf.random.uniform((32, 488), dtype=tf.float32))"
   ]
  },
  {
   "cell_type": "code",
   "execution_count": null,
   "id": "43a97b9c",
   "metadata": {},
   "outputs": [],
   "source": []
  },
  {
   "cell_type": "markdown",
   "id": "770242ac",
   "metadata": {},
   "source": [
    "# Two Tower Input Model"
   ]
  },
  {
   "cell_type": "code",
   "execution_count": 20,
   "id": "811423ab",
   "metadata": {},
   "outputs": [],
   "source": [
    "NUM_CONV_LAYERS = 3\n",
    "INITIAL_CHANNEL_SIZE = 128\n",
    "INITIAL_FILTER_SIZE = (3,3)\n",
    "DROPOUT_RATE = 0.20"
   ]
  },
  {
   "cell_type": "code",
   "execution_count": 21,
   "id": "b8846c9d",
   "metadata": {},
   "outputs": [],
   "source": [
    "DNN_LAYERS = 3\n",
    "DENSE_SIZE = 1024"
   ]
  },
  {
   "cell_type": "code",
   "execution_count": 22,
   "id": "c9d162b9",
   "metadata": {},
   "outputs": [],
   "source": [
    "OUTPUT_DENSE_LAYERS = 2\n",
    "OUTPUT_DENSE_SIZE = 256"
   ]
  },
  {
   "cell_type": "code",
   "execution_count": 23,
   "id": "000c914d",
   "metadata": {},
   "outputs": [],
   "source": [
    "# image_input"
   ]
  },
  {
   "cell_type": "code",
   "execution_count": 24,
   "id": "58b83e2f",
   "metadata": {},
   "outputs": [],
   "source": [
    "image_input = Input(shape=IMAGE_EXAMPLE_SHAPE)\n",
    "cnn_tower = CNNTower(num_conv_layers = NUM_CONV_LAYERS,\n",
    "                     initial_channel_size = INITIAL_CHANNEL_SIZE,\n",
    "                     initial_filter_size = INITIAL_FILTER_SIZE,\n",
    "                     dropout_rate = DROPOUT_RATE\n",
    "                    )\n",
    "x_cnn_tower = cnn_tower(image_input)"
   ]
  },
  {
   "cell_type": "code",
   "execution_count": 25,
   "id": "7c6d22eb",
   "metadata": {},
   "outputs": [],
   "source": [
    "landmark_input = Input(shape=LANDMARK_EXAMPLE_SHAPE)\n",
    "dnn_tower = DNN(DNN_LAYERS, DENSE_SIZE, DROPOUT_RATE)\n",
    "\n",
    "x_dnn_tower = dnn_tower(landmark_input)"
   ]
  },
  {
   "cell_type": "code",
   "execution_count": 26,
   "id": "20842fff",
   "metadata": {},
   "outputs": [],
   "source": [
    "x = concatenate([x_cnn_tower, x_dnn_tower])"
   ]
  },
  {
   "cell_type": "code",
   "execution_count": 27,
   "id": "048431a8",
   "metadata": {},
   "outputs": [],
   "source": [
    "output_tower = DNN(OUTPUT_DENSE_LAYERS, OUTPUT_DENSE_SIZE, DROPOUT_RATE)\n",
    "x = output_tower(x)\n",
    "output = Dense(NUM_CLASSES, activation='softmax')(x)"
   ]
  },
  {
   "cell_type": "code",
   "execution_count": 28,
   "id": "93bce224",
   "metadata": {},
   "outputs": [],
   "source": [
    "model = Model(inputs=[image_input, landmark_input], outputs=[output])"
   ]
  },
  {
   "cell_type": "code",
   "execution_count": 29,
   "id": "8f8d2c4f",
   "metadata": {},
   "outputs": [],
   "source": [
    "opt = optimizers.Adam(\n",
    "    learning_rate=0.001, beta_1=0.9, beta_2=0.999, epsilon=1e-07, amsgrad=False,\n",
    ")\n",
    "\n",
    "model.compile(loss='categorical_crossentropy',\n",
    "              optimizer=opt,\n",
    "              metrics=['accuracy'])"
   ]
  },
  {
   "cell_type": "code",
   "execution_count": 30,
   "id": "6fadd912",
   "metadata": {},
   "outputs": [],
   "source": [
    "# model.summary()"
   ]
  },
  {
   "cell_type": "code",
   "execution_count": 31,
   "id": "85226f1b",
   "metadata": {},
   "outputs": [],
   "source": [
    "epochs = 100\n",
    "batch_size = 32"
   ]
  },
  {
   "cell_type": "code",
   "execution_count": 32,
   "id": "89660cf8",
   "metadata": {},
   "outputs": [
    {
     "name": "stdout",
     "output_type": "stream",
     "text": [
      "Epoch 1/100\n",
      "37/37 [==============================] - 17s 456ms/step - loss: 0.8599 - accuracy: 0.6630 - val_loss: 8.2902 - val_accuracy: 0.6800\n",
      "Epoch 2/100\n",
      "37/37 [==============================] - 16s 427ms/step - loss: 0.4322 - accuracy: 0.8336 - val_loss: 3.4012 - val_accuracy: 0.6800\n",
      "Epoch 3/100\n",
      "37/37 [==============================] - 16s 420ms/step - loss: 0.3238 - accuracy: 0.8701 - val_loss: 1.9996 - val_accuracy: 0.7050\n",
      "Epoch 4/100\n",
      "37/37 [==============================] - 15s 415ms/step - loss: 0.2875 - accuracy: 0.8862 - val_loss: 1.0081 - val_accuracy: 0.7200\n",
      "Epoch 5/100\n",
      "37/37 [==============================] - 15s 413ms/step - loss: 0.2566 - accuracy: 0.8990 - val_loss: 0.7926 - val_accuracy: 0.7400\n",
      "Epoch 6/100\n",
      "37/37 [==============================] - 15s 416ms/step - loss: 0.2388 - accuracy: 0.9151 - val_loss: 0.5803 - val_accuracy: 0.8200\n",
      "Epoch 7/100\n",
      "37/37 [==============================] - 15s 419ms/step - loss: 0.2136 - accuracy: 0.9143 - val_loss: 0.6296 - val_accuracy: 0.7400\n",
      "Epoch 8/100\n",
      "37/37 [==============================] - 15s 417ms/step - loss: 0.1939 - accuracy: 0.9202 - val_loss: 0.5492 - val_accuracy: 0.7650\n",
      "Epoch 9/100\n",
      "37/37 [==============================] - 15s 417ms/step - loss: 0.1633 - accuracy: 0.9423 - val_loss: 0.6452 - val_accuracy: 0.7800\n",
      "Epoch 10/100\n",
      "37/37 [==============================] - 15s 414ms/step - loss: 0.1936 - accuracy: 0.9202 - val_loss: 0.6334 - val_accuracy: 0.7600\n",
      "Epoch 11/100\n",
      "37/37 [==============================] - 15s 416ms/step - loss: 0.1402 - accuracy: 0.9542 - val_loss: 0.5099 - val_accuracy: 0.8000\n",
      "Epoch 12/100\n",
      "37/37 [==============================] - 15s 416ms/step - loss: 0.1347 - accuracy: 0.9491 - val_loss: 0.3659 - val_accuracy: 0.8500\n",
      "Epoch 13/100\n",
      "37/37 [==============================] - 15s 416ms/step - loss: 0.1308 - accuracy: 0.9525 - val_loss: 0.4550 - val_accuracy: 0.7850\n",
      "Epoch 14/100\n",
      "37/37 [==============================] - 15s 415ms/step - loss: 0.1425 - accuracy: 0.9474 - val_loss: 0.4715 - val_accuracy: 0.8250\n",
      "Epoch 15/100\n",
      "37/37 [==============================] - 15s 416ms/step - loss: 0.1122 - accuracy: 0.9601 - val_loss: 0.5770 - val_accuracy: 0.7450\n",
      "Epoch 16/100\n",
      "37/37 [==============================] - 15s 417ms/step - loss: 0.0993 - accuracy: 0.9626 - val_loss: 0.4424 - val_accuracy: 0.7800\n",
      "Epoch 17/100\n",
      "37/37 [==============================] - 15s 417ms/step - loss: 0.0947 - accuracy: 0.9652 - val_loss: 0.3935 - val_accuracy: 0.8300\n",
      "Epoch 18/100\n",
      "37/37 [==============================] - 15s 417ms/step - loss: 0.1166 - accuracy: 0.9550 - val_loss: 0.3538 - val_accuracy: 0.8650\n",
      "Epoch 19/100\n",
      "37/37 [==============================] - 15s 416ms/step - loss: 0.0989 - accuracy: 0.9643 - val_loss: 0.4075 - val_accuracy: 0.8700\n",
      "Epoch 20/100\n",
      "37/37 [==============================] - 15s 417ms/step - loss: 0.0962 - accuracy: 0.9610 - val_loss: 0.4393 - val_accuracy: 0.8900\n",
      "Epoch 21/100\n",
      "37/37 [==============================] - 15s 416ms/step - loss: 0.0771 - accuracy: 0.9737 - val_loss: 0.3685 - val_accuracy: 0.8750\n",
      "Epoch 22/100\n",
      "37/37 [==============================] - 15s 416ms/step - loss: 0.0885 - accuracy: 0.9635 - val_loss: 0.8128 - val_accuracy: 0.8100\n",
      "Epoch 23/100\n",
      "37/37 [==============================] - 15s 416ms/step - loss: 0.0787 - accuracy: 0.9686 - val_loss: 0.2551 - val_accuracy: 0.9150\n",
      "Epoch 24/100\n",
      "37/37 [==============================] - 15s 416ms/step - loss: 0.0725 - accuracy: 0.9779 - val_loss: 0.4479 - val_accuracy: 0.8900\n",
      "Epoch 25/100\n",
      "37/37 [==============================] - 15s 417ms/step - loss: 0.0810 - accuracy: 0.9728 - val_loss: 0.4441 - val_accuracy: 0.8650\n",
      "Epoch 26/100\n",
      "37/37 [==============================] - 15s 417ms/step - loss: 0.0790 - accuracy: 0.9694 - val_loss: 0.3085 - val_accuracy: 0.8650\n",
      "Epoch 27/100\n",
      "37/37 [==============================] - 15s 417ms/step - loss: 0.0801 - accuracy: 0.9737 - val_loss: 0.7435 - val_accuracy: 0.8550\n",
      "Epoch 28/100\n",
      "37/37 [==============================] - 15s 416ms/step - loss: 0.0770 - accuracy: 0.9737 - val_loss: 0.3816 - val_accuracy: 0.8800\n",
      "Epoch 29/100\n",
      "37/37 [==============================] - 15s 416ms/step - loss: 0.0873 - accuracy: 0.9677 - val_loss: 0.5389 - val_accuracy: 0.8500\n",
      "Epoch 30/100\n",
      "37/37 [==============================] - 15s 417ms/step - loss: 0.0683 - accuracy: 0.9737 - val_loss: 0.3716 - val_accuracy: 0.8700\n",
      "Epoch 31/100\n",
      "37/37 [==============================] - 15s 417ms/step - loss: 0.0705 - accuracy: 0.9711 - val_loss: 0.3431 - val_accuracy: 0.8700\n",
      "Epoch 32/100\n",
      "37/37 [==============================] - 15s 417ms/step - loss: 0.0583 - accuracy: 0.9796 - val_loss: 0.3947 - val_accuracy: 0.8750\n",
      "Epoch 33/100\n",
      "37/37 [==============================] - 15s 417ms/step - loss: 0.0567 - accuracy: 0.9771 - val_loss: 0.5685 - val_accuracy: 0.8250\n",
      "Epoch 34/100\n",
      "37/37 [==============================] - 15s 417ms/step - loss: 0.0642 - accuracy: 0.9771 - val_loss: 0.4976 - val_accuracy: 0.8300\n",
      "Epoch 35/100\n",
      "37/37 [==============================] - 15s 417ms/step - loss: 0.0479 - accuracy: 0.9847 - val_loss: 0.6339 - val_accuracy: 0.8500\n",
      "Epoch 36/100\n",
      "37/37 [==============================] - 15s 417ms/step - loss: 0.0632 - accuracy: 0.9762 - val_loss: 0.3885 - val_accuracy: 0.8900\n",
      "Epoch 37/100\n",
      "37/37 [==============================] - 15s 416ms/step - loss: 0.0450 - accuracy: 0.9830 - val_loss: 0.4618 - val_accuracy: 0.8600\n",
      "Epoch 38/100\n",
      "37/37 [==============================] - 15s 417ms/step - loss: 0.0507 - accuracy: 0.9822 - val_loss: 0.5748 - val_accuracy: 0.8400\n",
      "Epoch 39/100\n",
      "37/37 [==============================] - 15s 417ms/step - loss: 0.0489 - accuracy: 0.9813 - val_loss: 0.3991 - val_accuracy: 0.8650\n",
      "Epoch 40/100\n",
      "37/37 [==============================] - 15s 417ms/step - loss: 0.0471 - accuracy: 0.9864 - val_loss: 0.3213 - val_accuracy: 0.9000\n",
      "Epoch 41/100\n",
      "37/37 [==============================] - 15s 416ms/step - loss: 0.0524 - accuracy: 0.9779 - val_loss: 0.5246 - val_accuracy: 0.8800\n",
      "Epoch 42/100\n",
      "37/37 [==============================] - 15s 417ms/step - loss: 0.0510 - accuracy: 0.9822 - val_loss: 0.4794 - val_accuracy: 0.8900\n",
      "Epoch 43/100\n",
      "37/37 [==============================] - 15s 417ms/step - loss: 0.0329 - accuracy: 0.9856 - val_loss: 0.3592 - val_accuracy: 0.9150\n",
      "Epoch 44/100\n",
      "37/37 [==============================] - 15s 416ms/step - loss: 0.0354 - accuracy: 0.9881 - val_loss: 0.3911 - val_accuracy: 0.9050\n",
      "Epoch 45/100\n",
      "37/37 [==============================] - 15s 417ms/step - loss: 0.0216 - accuracy: 0.9907 - val_loss: 0.4011 - val_accuracy: 0.8850\n",
      "Epoch 46/100\n",
      "37/37 [==============================] - 15s 417ms/step - loss: 0.0322 - accuracy: 0.9881 - val_loss: 0.6907 - val_accuracy: 0.8400\n",
      "Epoch 47/100\n",
      "37/37 [==============================] - 15s 416ms/step - loss: 0.0374 - accuracy: 0.9830 - val_loss: 0.4580 - val_accuracy: 0.8850\n",
      "Epoch 48/100\n",
      "37/37 [==============================] - 15s 417ms/step - loss: 0.0319 - accuracy: 0.9907 - val_loss: 0.3754 - val_accuracy: 0.8550\n",
      "Epoch 49/100\n",
      "37/37 [==============================] - 15s 416ms/step - loss: 0.0373 - accuracy: 0.9881 - val_loss: 0.4646 - val_accuracy: 0.8850\n",
      "Epoch 50/100\n",
      "37/37 [==============================] - 15s 416ms/step - loss: 0.0376 - accuracy: 0.9881 - val_loss: 0.3643 - val_accuracy: 0.8950\n",
      "Epoch 51/100\n",
      "37/37 [==============================] - 15s 417ms/step - loss: 0.0364 - accuracy: 0.9873 - val_loss: 0.5530 - val_accuracy: 0.8550\n",
      "Epoch 52/100\n",
      "37/37 [==============================] - 15s 416ms/step - loss: 0.0326 - accuracy: 0.9890 - val_loss: 0.4376 - val_accuracy: 0.8600\n",
      "Epoch 53/100\n",
      "37/37 [==============================] - 15s 417ms/step - loss: 0.0264 - accuracy: 0.9915 - val_loss: 0.8039 - val_accuracy: 0.7800\n",
      "Epoch 54/100\n",
      "37/37 [==============================] - 15s 416ms/step - loss: 0.0293 - accuracy: 0.9890 - val_loss: 0.5516 - val_accuracy: 0.8700\n",
      "Epoch 55/100\n",
      "37/37 [==============================] - 15s 417ms/step - loss: 0.0189 - accuracy: 0.9932 - val_loss: 0.4846 - val_accuracy: 0.8600\n",
      "Epoch 56/100\n",
      "37/37 [==============================] - 15s 417ms/step - loss: 0.0240 - accuracy: 0.9907 - val_loss: 0.6296 - val_accuracy: 0.8500\n",
      "Epoch 57/100\n",
      "37/37 [==============================] - 15s 417ms/step - loss: 0.0337 - accuracy: 0.9856 - val_loss: 0.4176 - val_accuracy: 0.8950\n",
      "Epoch 58/100\n",
      "37/37 [==============================] - 15s 418ms/step - loss: 0.0341 - accuracy: 0.9881 - val_loss: 0.3955 - val_accuracy: 0.9150\n",
      "Epoch 59/100\n",
      "37/37 [==============================] - 15s 417ms/step - loss: 0.0493 - accuracy: 0.9830 - val_loss: 0.4352 - val_accuracy: 0.9050\n",
      "Epoch 60/100\n",
      "37/37 [==============================] - 15s 416ms/step - loss: 0.0293 - accuracy: 0.9881 - val_loss: 0.6425 - val_accuracy: 0.8700\n",
      "Epoch 61/100\n",
      "37/37 [==============================] - 15s 416ms/step - loss: 0.0261 - accuracy: 0.9915 - val_loss: 0.5074 - val_accuracy: 0.8800\n",
      "Epoch 62/100\n",
      "37/37 [==============================] - 15s 416ms/step - loss: 0.0284 - accuracy: 0.9898 - val_loss: 0.4221 - val_accuracy: 0.9050\n",
      "Epoch 63/100\n",
      "37/37 [==============================] - 15s 416ms/step - loss: 0.0239 - accuracy: 0.9898 - val_loss: 0.5127 - val_accuracy: 0.8550\n",
      "Epoch 64/100\n",
      "37/37 [==============================] - 15s 417ms/step - loss: 0.0254 - accuracy: 0.9890 - val_loss: 0.4909 - val_accuracy: 0.8550\n",
      "Epoch 65/100\n",
      "37/37 [==============================] - 15s 416ms/step - loss: 0.0242 - accuracy: 0.9915 - val_loss: 0.3665 - val_accuracy: 0.9350\n",
      "Epoch 66/100\n",
      "37/37 [==============================] - 15s 417ms/step - loss: 0.0263 - accuracy: 0.9890 - val_loss: 0.6380 - val_accuracy: 0.8700\n",
      "Epoch 67/100\n",
      "37/37 [==============================] - 15s 416ms/step - loss: 0.0139 - accuracy: 0.9966 - val_loss: 0.5698 - val_accuracy: 0.8800\n",
      "Epoch 68/100\n",
      "37/37 [==============================] - 15s 416ms/step - loss: 0.0179 - accuracy: 0.9949 - val_loss: 0.5900 - val_accuracy: 0.8650\n",
      "Epoch 69/100\n",
      "37/37 [==============================] - 15s 415ms/step - loss: 0.0289 - accuracy: 0.9898 - val_loss: 0.5608 - val_accuracy: 0.8500\n",
      "Epoch 70/100\n",
      "37/37 [==============================] - 15s 416ms/step - loss: 0.0171 - accuracy: 0.9941 - val_loss: 0.5207 - val_accuracy: 0.8650\n",
      "Epoch 71/100\n",
      "37/37 [==============================] - 15s 417ms/step - loss: 0.0184 - accuracy: 0.9941 - val_loss: 0.6369 - val_accuracy: 0.8400\n",
      "Epoch 72/100\n",
      "37/37 [==============================] - 15s 417ms/step - loss: 0.0207 - accuracy: 0.9915 - val_loss: 0.3890 - val_accuracy: 0.9250\n",
      "Epoch 73/100\n",
      "37/37 [==============================] - 15s 416ms/step - loss: 0.0307 - accuracy: 0.9856 - val_loss: 0.8485 - val_accuracy: 0.8100\n",
      "Epoch 74/100\n",
      "37/37 [==============================] - 15s 417ms/step - loss: 0.0306 - accuracy: 0.9864 - val_loss: 0.7159 - val_accuracy: 0.8150\n",
      "Epoch 75/100\n",
      "37/37 [==============================] - 15s 417ms/step - loss: 0.0270 - accuracy: 0.9907 - val_loss: 0.4210 - val_accuracy: 0.9000\n",
      "Epoch 76/100\n",
      "37/37 [==============================] - 15s 417ms/step - loss: 0.0269 - accuracy: 0.9932 - val_loss: 0.4710 - val_accuracy: 0.8650\n",
      "Epoch 77/100\n",
      "37/37 [==============================] - 15s 416ms/step - loss: 0.0214 - accuracy: 0.9924 - val_loss: 0.5734 - val_accuracy: 0.8350\n",
      "Epoch 78/100\n",
      "37/37 [==============================] - 15s 416ms/step - loss: 0.0241 - accuracy: 0.9898 - val_loss: 0.5942 - val_accuracy: 0.8350\n",
      "Epoch 79/100\n",
      "37/37 [==============================] - 15s 416ms/step - loss: 0.0294 - accuracy: 0.9907 - val_loss: 0.5100 - val_accuracy: 0.8800\n",
      "Epoch 80/100\n",
      "37/37 [==============================] - 15s 416ms/step - loss: 0.0269 - accuracy: 0.9924 - val_loss: 0.5392 - val_accuracy: 0.9000\n",
      "Epoch 81/100\n",
      "37/37 [==============================] - 15s 416ms/step - loss: 0.0208 - accuracy: 0.9915 - val_loss: 0.5693 - val_accuracy: 0.8650\n",
      "Epoch 82/100\n",
      "37/37 [==============================] - 15s 416ms/step - loss: 0.0217 - accuracy: 0.9915 - val_loss: 0.4783 - val_accuracy: 0.9050\n",
      "Epoch 83/100\n",
      "37/37 [==============================] - 15s 416ms/step - loss: 0.0128 - accuracy: 0.9949 - val_loss: 0.5295 - val_accuracy: 0.8800\n",
      "Epoch 84/100\n",
      "37/37 [==============================] - 15s 416ms/step - loss: 0.0175 - accuracy: 0.9932 - val_loss: 0.5221 - val_accuracy: 0.8850\n",
      "Epoch 85/100\n",
      "37/37 [==============================] - 15s 416ms/step - loss: 0.0198 - accuracy: 0.9932 - val_loss: 0.5274 - val_accuracy: 0.8800\n",
      "Epoch 86/100\n",
      "37/37 [==============================] - 15s 416ms/step - loss: 0.0199 - accuracy: 0.9924 - val_loss: 0.4773 - val_accuracy: 0.9050\n",
      "Epoch 87/100\n",
      "37/37 [==============================] - 15s 416ms/step - loss: 0.0255 - accuracy: 0.9864 - val_loss: 0.4949 - val_accuracy: 0.8600\n",
      "Epoch 88/100\n",
      "37/37 [==============================] - 15s 417ms/step - loss: 0.0203 - accuracy: 0.9915 - val_loss: 0.6315 - val_accuracy: 0.8800\n",
      "Epoch 89/100\n",
      "37/37 [==============================] - 15s 416ms/step - loss: 0.0135 - accuracy: 0.9949 - val_loss: 0.6708 - val_accuracy: 0.8700\n",
      "Epoch 90/100\n",
      "37/37 [==============================] - 15s 417ms/step - loss: 0.0104 - accuracy: 0.9975 - val_loss: 0.4932 - val_accuracy: 0.8900\n",
      "Epoch 91/100\n",
      "37/37 [==============================] - 15s 416ms/step - loss: 0.0255 - accuracy: 0.9915 - val_loss: 0.4874 - val_accuracy: 0.9050\n",
      "Epoch 92/100\n",
      "37/37 [==============================] - 15s 416ms/step - loss: 0.0173 - accuracy: 0.9924 - val_loss: 0.4813 - val_accuracy: 0.9100\n",
      "Epoch 93/100\n",
      "37/37 [==============================] - 15s 416ms/step - loss: 0.0220 - accuracy: 0.9915 - val_loss: 0.3879 - val_accuracy: 0.9200\n",
      "Epoch 94/100\n",
      "37/37 [==============================] - 15s 416ms/step - loss: 0.0197 - accuracy: 0.9941 - val_loss: 0.4338 - val_accuracy: 0.9050\n",
      "Epoch 95/100\n",
      "37/37 [==============================] - 15s 415ms/step - loss: 0.0182 - accuracy: 0.9941 - val_loss: 0.6490 - val_accuracy: 0.8350\n",
      "Epoch 96/100\n",
      "37/37 [==============================] - 15s 416ms/step - loss: 0.0135 - accuracy: 0.9958 - val_loss: 0.6022 - val_accuracy: 0.8800\n",
      "Epoch 97/100\n",
      "37/37 [==============================] - 15s 416ms/step - loss: 0.0176 - accuracy: 0.9932 - val_loss: 0.5175 - val_accuracy: 0.9000\n",
      "Epoch 98/100\n",
      "37/37 [==============================] - 15s 417ms/step - loss: 0.0164 - accuracy: 0.9932 - val_loss: 0.6250 - val_accuracy: 0.8800\n",
      "Epoch 99/100\n",
      "37/37 [==============================] - 15s 416ms/step - loss: 0.0113 - accuracy: 0.9949 - val_loss: 0.5945 - val_accuracy: 0.8650\n",
      "Epoch 100/100\n",
      "37/37 [==============================] - 15s 416ms/step - loss: 0.0119 - accuracy: 0.9958 - val_loss: 0.5409 - val_accuracy: 0.8950\n"
     ]
    },
    {
     "data": {
      "text/plain": [
       "<tensorflow.python.keras.callbacks.History at 0x7f98f5b17d10>"
      ]
     },
     "execution_count": 32,
     "metadata": {},
     "output_type": "execute_result"
    }
   ],
   "source": [
    "model.fit([X_train_imgs, X_train_landmarks], Y_train,\n",
    "          batch_size=batch_size,\n",
    "          epochs=epochs,\n",
    "#           callbacks=callbacks,\n",
    "          verbose=1,\n",
    "          validation_data=([X_val_imgs, X_val_landmarks], Y_val),\n",
    "          shuffle=True)"
   ]
  },
  {
   "cell_type": "code",
   "execution_count": 33,
   "id": "6390154d",
   "metadata": {},
   "outputs": [
    {
     "name": "stdout",
     "output_type": "stream",
     "text": [
      "13/13 [==============================] - 2s 170ms/step - loss: 0.9972 - accuracy: 0.7475\n"
     ]
    },
    {
     "data": {
      "text/plain": [
       "[0.9971678256988525, 0.7475000023841858]"
      ]
     },
     "execution_count": 33,
     "metadata": {},
     "output_type": "execute_result"
    }
   ],
   "source": [
    "model.evaluate([X_test_imgs, X_test_landmarks], Y_test, verbose=1)"
   ]
  },
  {
   "cell_type": "code",
   "execution_count": null,
   "id": "167b6f66",
   "metadata": {},
   "outputs": [],
   "source": []
  },
  {
   "cell_type": "code",
   "execution_count": 34,
   "id": "e2176a70",
   "metadata": {},
   "outputs": [],
   "source": [
    "Y_preds = model.predict([X_test_imgs, X_test_landmarks])"
   ]
  },
  {
   "cell_type": "code",
   "execution_count": 35,
   "id": "36855e1d",
   "metadata": {},
   "outputs": [],
   "source": [
    "Y_test_labels = np.argmax(Y_test, axis=-1)\n",
    "Y_preds_labels = np.argmax(Y_preds, axis=-1)"
   ]
  },
  {
   "cell_type": "code",
   "execution_count": 36,
   "id": "a7fdb57c",
   "metadata": {},
   "outputs": [
    {
     "name": "stdout",
     "output_type": "stream",
     "text": [
      "              precision    recall  f1-score   support\n",
      "\n",
      "           0       0.75      0.92      0.83       266\n",
      "           1       0.50      0.12      0.20        32\n",
      "           2       0.79      0.58      0.67        38\n",
      "           3       0.75      0.38      0.50        32\n",
      "           4       0.70      0.50      0.58        32\n",
      "\n",
      "    accuracy                           0.75       400\n",
      "   macro avg       0.70      0.50      0.56       400\n",
      "weighted avg       0.73      0.75      0.72       400\n",
      "\n"
     ]
    }
   ],
   "source": [
    "print(sklearn.metrics.classification_report(Y_test_labels, Y_preds_labels))"
   ]
  },
  {
   "cell_type": "code",
   "execution_count": 37,
   "id": "fb7421eb",
   "metadata": {},
   "outputs": [],
   "source": [
    "def confusion_matrix(y_true: List[int], y_pred: List[int], labels=list(LABEL_TO_ENCODING.keys()), ymap=None, figsize=(10,10)):\n",
    "    if ymap is not None:\n",
    "        y_pred = [ymap[yi] for yi in y_pred]\n",
    "        y_true = [ymap[yi] for yi in y_true]\n",
    "        labels = [ymap[yi] for yi in labels]\n",
    "    cm = sklearn.metrics.confusion_matrix(y_true, y_pred, labels=labels)\n",
    "    \n",
    "    cm_sum = np.sum(cm, axis=1, keepdims=True)\n",
    "    cm_perc = cm / cm_sum.astype(float) * 100\n",
    "    annot = np.empty_like(cm).astype(str)\n",
    "    nrows, ncols = cm.shape\n",
    "    for i in range(nrows):\n",
    "        for j in range(ncols):\n",
    "            c = cm[i, j]\n",
    "            p = cm_perc[i, j]\n",
    "            if i == j:\n",
    "                s = cm_sum[i]\n",
    "                annot[i, j] = '%.1f%%\\n%d/%d' % (p, c, s)\n",
    "            elif c == 0:\n",
    "                annot[i, j] = ''\n",
    "            else:\n",
    "                annot[i, j] = '%.1f%%\\n%d' % (p, c)\n",
    "    cm = pd.DataFrame(cm, index=labels, columns=labels)\n",
    "    cm.index.name = 'Actual'\n",
    "    cm.columns.name = 'Predicted'\n",
    "    fig, ax = plt.subplots(figsize=figsize)\n",
    "    sns.heatmap(cm, annot=annot, fmt='', ax=ax)\n",
    "    # plt.savefig(filename)"
   ]
  },
  {
   "cell_type": "code",
   "execution_count": 38,
   "id": "6ff5b2e7",
   "metadata": {},
   "outputs": [],
   "source": [
    "Y_test_labels_str = [ENCODING_TO_LABEL[l] for l in Y_test_labels]\n",
    "Y_preds_labels_str = [ENCODING_TO_LABEL[l] for l in Y_preds_labels]"
   ]
  },
  {
   "cell_type": "code",
   "execution_count": 39,
   "id": "45331650",
   "metadata": {},
   "outputs": [
    {
     "data": {
      "image/png": "[encoded data removed]",
      "text/plain": [
       "<Figure size 720x720 with 2 Axes>"
      ]
     },
     "metadata": {
      "needs_background": "light"
     },
     "output_type": "display_data"
    }
   ],
   "source": [
    "confusion_matrix(Y_test_labels_str, Y_preds_labels_str, list(LABEL_TO_ENCODING.keys()))"
   ]
  },
  {
   "cell_type": "code",
   "execution_count": null,
   "id": "5a4dac8f",
   "metadata": {},
   "outputs": [],
   "source": []
  },
  {
   "cell_type": "code",
   "execution_count": null,
   "id": "701c99ed",
   "metadata": {},
   "outputs": [],
   "source": []
  },
  {
   "cell_type": "markdown",
   "id": "8b9ee1bd",
   "metadata": {},
   "source": [
    "# [Ablation] Image only"
   ]
  },
  {
   "cell_type": "code",
   "execution_count": 40,
   "id": "94e3bfeb",
   "metadata": {},
   "outputs": [],
   "source": [
    "image_input = Input(shape=IMAGE_EXAMPLE_SHAPE)\n",
    "cnn_tower = CNNTower(num_conv_layers = NUM_CONV_LAYERS,\n",
    "                     initial_channel_size = INITIAL_CHANNEL_SIZE,\n",
    "                     initial_filter_size = INITIAL_FILTER_SIZE,\n",
    "                     dropout_rate = DROPOUT_RATE\n",
    "                    )\n",
    "x_cnn_tower = cnn_tower(image_input)"
   ]
  },
  {
   "cell_type": "code",
   "execution_count": 41,
   "id": "75895dc5",
   "metadata": {},
   "outputs": [],
   "source": [
    "output_tower = DNN(OUTPUT_DENSE_LAYERS, OUTPUT_DENSE_SIZE, DROPOUT_RATE)\n",
    "x = output_tower(x_cnn_tower)\n",
    "output = Dense(NUM_CLASSES, activation='softmax')(x)"
   ]
  },
  {
   "cell_type": "code",
   "execution_count": 42,
   "id": "1d9f225a",
   "metadata": {},
   "outputs": [],
   "source": [
    "ablation_model_image = Model(inputs=[image_input], outputs=[output])"
   ]
  },
  {
   "cell_type": "code",
   "execution_count": 43,
   "id": "0f36ebaa",
   "metadata": {},
   "outputs": [],
   "source": [
    "# opt = optimizers.Adam()\n",
    "\n",
    "ablation_model_image.compile(loss='categorical_crossentropy',\n",
    "                             optimizer=opt,\n",
    "                             metrics=['accuracy'])"
   ]
  },
  {
   "cell_type": "code",
   "execution_count": 44,
   "id": "87cc777a",
   "metadata": {},
   "outputs": [],
   "source": [
    "epochs = 100\n",
    "batch_size = 32"
   ]
  },
  {
   "cell_type": "code",
   "execution_count": null,
   "id": "23d06f44",
   "metadata": {},
   "outputs": [
    {
     "name": "stdout",
     "output_type": "stream",
     "text": [
      "Epoch 1/100\n",
      "37/37 [==============================] - 16s 423ms/step - loss: 0.7970 - accuracy: 0.6851 - val_loss: 97.1181 - val_accuracy: 0.6800\n",
      "Epoch 2/100\n",
      "37/37 [==============================] - 15s 417ms/step - loss: 0.3728 - accuracy: 0.8319 - val_loss: 7.1931 - val_accuracy: 0.6800\n",
      "Epoch 3/100\n",
      "37/37 [==============================] - 15s 417ms/step - loss: 0.3121 - accuracy: 0.8795 - val_loss: 1.7862 - val_accuracy: 0.7000\n",
      "Epoch 4/100\n",
      "37/37 [==============================] - 15s 416ms/step - loss: 0.2346 - accuracy: 0.8998 - val_loss: 1.1735 - val_accuracy: 0.8300\n",
      "Epoch 5/100\n",
      "37/37 [==============================] - 15s 415ms/step - loss: 0.1793 - accuracy: 0.9346 - val_loss: 0.5469 - val_accuracy: 0.7700\n",
      "Epoch 6/100\n",
      "37/37 [==============================] - 15s 415ms/step - loss: 0.1809 - accuracy: 0.9304 - val_loss: 0.3207 - val_accuracy: 0.8700\n",
      "Epoch 7/100\n",
      "37/37 [==============================] - 15s 416ms/step - loss: 0.1483 - accuracy: 0.9423 - val_loss: 0.3752 - val_accuracy: 0.8500\n",
      "Epoch 8/100\n",
      "37/37 [==============================] - 15s 416ms/step - loss: 0.1387 - accuracy: 0.9525 - val_loss: 0.3768 - val_accuracy: 0.8500\n",
      "Epoch 9/100\n",
      "37/37 [==============================] - 15s 416ms/step - loss: 0.1095 - accuracy: 0.9610 - val_loss: 0.3930 - val_accuracy: 0.8700\n",
      "Epoch 10/100\n",
      "37/37 [==============================] - 15s 416ms/step - loss: 0.1285 - accuracy: 0.9559 - val_loss: 0.3748 - val_accuracy: 0.8600\n",
      "Epoch 11/100\n",
      "37/37 [==============================] - 15s 416ms/step - loss: 0.1081 - accuracy: 0.9584 - val_loss: 0.4242 - val_accuracy: 0.8500\n",
      "Epoch 12/100\n",
      "37/37 [==============================] - 15s 415ms/step - loss: 0.1125 - accuracy: 0.9508 - val_loss: 0.5313 - val_accuracy: 0.8300\n",
      "Epoch 13/100\n",
      "37/37 [==============================] - 15s 415ms/step - loss: 0.1283 - accuracy: 0.9499 - val_loss: 0.4481 - val_accuracy: 0.8600\n",
      "Epoch 14/100\n",
      "37/37 [==============================] - 15s 415ms/step - loss: 0.1040 - accuracy: 0.9584 - val_loss: 0.5140 - val_accuracy: 0.8200\n",
      "Epoch 15/100\n",
      "37/37 [==============================] - 15s 415ms/step - loss: 0.0943 - accuracy: 0.9686 - val_loss: 0.3844 - val_accuracy: 0.8600\n",
      "Epoch 16/100\n",
      "37/37 [==============================] - 15s 416ms/step - loss: 0.0815 - accuracy: 0.9677 - val_loss: 0.4664 - val_accuracy: 0.8700\n",
      "Epoch 17/100\n",
      "37/37 [==============================] - 15s 416ms/step - loss: 0.0829 - accuracy: 0.9711 - val_loss: 0.4464 - val_accuracy: 0.8400\n",
      "Epoch 18/100\n",
      "37/37 [==============================] - 15s 416ms/step - loss: 0.0898 - accuracy: 0.9643 - val_loss: 0.4305 - val_accuracy: 0.8400\n",
      "Epoch 19/100\n",
      "37/37 [==============================] - 15s 416ms/step - loss: 0.0669 - accuracy: 0.9805 - val_loss: 0.4365 - val_accuracy: 0.8400\n",
      "Epoch 20/100\n",
      "37/37 [==============================] - 15s 416ms/step - loss: 0.0747 - accuracy: 0.9711 - val_loss: 0.4341 - val_accuracy: 0.8600\n",
      "Epoch 21/100\n",
      "37/37 [==============================] - 15s 416ms/step - loss: 0.0552 - accuracy: 0.9771 - val_loss: 0.5213 - val_accuracy: 0.8400\n",
      "Epoch 22/100\n",
      "37/37 [==============================] - 15s 416ms/step - loss: 0.0728 - accuracy: 0.9745 - val_loss: 0.6283 - val_accuracy: 0.8400\n",
      "Epoch 23/100\n",
      "37/37 [==============================] - 15s 416ms/step - loss: 0.0653 - accuracy: 0.9771 - val_loss: 0.4123 - val_accuracy: 0.8500\n",
      "Epoch 24/100\n",
      "37/37 [==============================] - 15s 416ms/step - loss: 0.0708 - accuracy: 0.9745 - val_loss: 0.4110 - val_accuracy: 0.8700\n",
      "Epoch 25/100\n",
      "37/37 [==============================] - 15s 416ms/step - loss: 0.0683 - accuracy: 0.9754 - val_loss: 0.4396 - val_accuracy: 0.8400\n",
      "Epoch 26/100\n",
      "37/37 [==============================] - 15s 416ms/step - loss: 0.0682 - accuracy: 0.9720 - val_loss: 0.4106 - val_accuracy: 0.8600\n",
      "Epoch 27/100\n",
      "37/37 [==============================] - 15s 415ms/step - loss: 0.0671 - accuracy: 0.9703 - val_loss: 0.3245 - val_accuracy: 0.8600\n",
      "Epoch 28/100\n",
      "37/37 [==============================] - 15s 416ms/step - loss: 0.0502 - accuracy: 0.9830 - val_loss: 0.4202 - val_accuracy: 0.8700\n",
      "Epoch 29/100\n",
      "37/37 [==============================] - 15s 416ms/step - loss: 0.0510 - accuracy: 0.9796 - val_loss: 0.4577 - val_accuracy: 0.8600\n",
      "Epoch 30/100\n",
      "37/37 [==============================] - 15s 416ms/step - loss: 0.0636 - accuracy: 0.9788 - val_loss: 0.5778 - val_accuracy: 0.8600\n",
      "Epoch 31/100\n",
      "37/37 [==============================] - 15s 416ms/step - loss: 0.0529 - accuracy: 0.9813 - val_loss: 0.4627 - val_accuracy: 0.8600\n",
      "Epoch 32/100\n",
      "37/37 [==============================] - 15s 415ms/step - loss: 0.0501 - accuracy: 0.9822 - val_loss: 0.4749 - val_accuracy: 0.8600\n",
      "Epoch 33/100\n",
      "37/37 [==============================] - 15s 416ms/step - loss: 0.0538 - accuracy: 0.9813 - val_loss: 0.5577 - val_accuracy: 0.8600\n",
      "Epoch 34/100\n",
      "37/37 [==============================] - 15s 416ms/step - loss: 0.0479 - accuracy: 0.9805 - val_loss: 0.5551 - val_accuracy: 0.8500\n",
      "Epoch 35/100\n",
      "37/37 [==============================] - 15s 415ms/step - loss: 0.0593 - accuracy: 0.9779 - val_loss: 0.4118 - val_accuracy: 0.8700\n",
      "Epoch 36/100\n",
      "37/37 [==============================] - 15s 415ms/step - loss: 0.0574 - accuracy: 0.9805 - val_loss: 0.5453 - val_accuracy: 0.9000\n",
      "Epoch 37/100\n",
      "37/37 [==============================] - 15s 416ms/step - loss: 0.0422 - accuracy: 0.9873 - val_loss: 0.5130 - val_accuracy: 0.8800\n",
      "Epoch 38/100\n",
      "37/37 [==============================] - 15s 415ms/step - loss: 0.0435 - accuracy: 0.9830 - val_loss: 0.4906 - val_accuracy: 0.8400\n",
      "Epoch 39/100\n",
      "37/37 [==============================] - 15s 416ms/step - loss: 0.0371 - accuracy: 0.9890 - val_loss: 0.5064 - val_accuracy: 0.8600\n",
      "Epoch 40/100\n",
      "37/37 [==============================] - 15s 415ms/step - loss: 0.0473 - accuracy: 0.9830 - val_loss: 0.5271 - val_accuracy: 0.8500\n",
      "Epoch 41/100\n",
      "37/37 [==============================] - 15s 416ms/step - loss: 0.0310 - accuracy: 0.9881 - val_loss: 0.4207 - val_accuracy: 0.8600\n",
      "Epoch 42/100\n",
      "37/37 [==============================] - 15s 416ms/step - loss: 0.0350 - accuracy: 0.9873 - val_loss: 0.4974 - val_accuracy: 0.8800\n",
      "Epoch 43/100\n",
      "37/37 [==============================] - 15s 416ms/step - loss: 0.0283 - accuracy: 0.9907 - val_loss: 0.5370 - val_accuracy: 0.8700\n",
      "Epoch 44/100\n",
      "37/37 [==============================] - 15s 416ms/step - loss: 0.0369 - accuracy: 0.9890 - val_loss: 0.6314 - val_accuracy: 0.8600\n",
      "Epoch 45/100\n",
      "37/37 [==============================] - 15s 416ms/step - loss: 0.0363 - accuracy: 0.9847 - val_loss: 0.4593 - val_accuracy: 0.8800\n",
      "Epoch 46/100\n",
      "37/37 [==============================] - 15s 416ms/step - loss: 0.0402 - accuracy: 0.9839 - val_loss: 0.4677 - val_accuracy: 0.8500\n",
      "Epoch 47/100\n",
      "37/37 [==============================] - 15s 416ms/step - loss: 0.0491 - accuracy: 0.9830 - val_loss: 0.5146 - val_accuracy: 0.8500\n",
      "Epoch 48/100\n",
      "37/37 [==============================] - 15s 416ms/step - loss: 0.0395 - accuracy: 0.9864 - val_loss: 0.6584 - val_accuracy: 0.8300\n",
      "Epoch 49/100\n",
      "37/37 [==============================] - 15s 415ms/step - loss: 0.0322 - accuracy: 0.9847 - val_loss: 0.6553 - val_accuracy: 0.8200\n",
      "Epoch 50/100\n",
      "37/37 [==============================] - 15s 415ms/step - loss: 0.0322 - accuracy: 0.9890 - val_loss: 0.6317 - val_accuracy: 0.8300\n",
      "Epoch 51/100\n",
      "37/37 [==============================] - 15s 415ms/step - loss: 0.0380 - accuracy: 0.9856 - val_loss: 0.5483 - val_accuracy: 0.8500\n",
      "Epoch 52/100\n",
      "37/37 [==============================] - 15s 416ms/step - loss: 0.0326 - accuracy: 0.9881 - val_loss: 0.5293 - val_accuracy: 0.8500\n",
      "Epoch 53/100\n",
      "37/37 [==============================] - 15s 416ms/step - loss: 0.0345 - accuracy: 0.9847 - val_loss: 0.5102 - val_accuracy: 0.8400\n",
      "Epoch 54/100\n",
      "37/37 [==============================] - 15s 416ms/step - loss: 0.0367 - accuracy: 0.9873 - val_loss: 0.5915 - val_accuracy: 0.8400\n",
      "Epoch 55/100\n",
      "37/37 [==============================] - 15s 415ms/step - loss: 0.0289 - accuracy: 0.9890 - val_loss: 0.6673 - val_accuracy: 0.8300\n",
      "Epoch 56/100\n",
      "37/37 [==============================] - 15s 415ms/step - loss: 0.0257 - accuracy: 0.9881 - val_loss: 0.6527 - val_accuracy: 0.8500\n",
      "Epoch 57/100\n",
      "37/37 [==============================] - 15s 416ms/step - loss: 0.0337 - accuracy: 0.9881 - val_loss: 0.6899 - val_accuracy: 0.8600\n",
      "Epoch 58/100\n",
      "37/37 [==============================] - ETA: 0s - loss: 0.0303 - accuracy: 0.9898"
     ]
    }
   ],
   "source": [
    "ablation_model_image.fit([X_train_imgs], Y_train,\n",
    "                         batch_size=batch_size,\n",
    "                         epochs=epochs,\n",
    "#                          callbacks=callbacks,\n",
    "                         verbose=1,\n",
    "                         validation_data=([X_val_imgs], Y_val),\n",
    "                         shuffle=True)"
   ]
  },
  {
   "cell_type": "code",
   "execution_count": null,
   "id": "52524ab4",
   "metadata": {},
   "outputs": [],
   "source": [
    "Y_preds = ablation_model_image.predict([X_test_imgs, X_test_landmarks])"
   ]
  },
  {
   "cell_type": "code",
   "execution_count": null,
   "id": "e59a1e70",
   "metadata": {},
   "outputs": [],
   "source": [
    "Y_test_labels = np.argmax(Y_test, axis=-1)\n",
    "Y_preds_labels = np.argmax(Y_preds, axis=-1)"
   ]
  },
  {
   "cell_type": "code",
   "execution_count": null,
   "id": "fd3bb8e8",
   "metadata": {},
   "outputs": [],
   "source": [
    "print(sklearn.metrics.classification_report(Y_test_labels, Y_preds_labels))"
   ]
  },
  {
   "cell_type": "code",
   "execution_count": null,
   "id": "8cec7e54",
   "metadata": {},
   "outputs": [],
   "source": []
  },
  {
   "cell_type": "markdown",
   "id": "11a2f0ea",
   "metadata": {},
   "source": [
    "# [Ablation] Pose Landmarks Only"
   ]
  },
  {
   "cell_type": "code",
   "execution_count": null,
   "id": "1fd893d8",
   "metadata": {},
   "outputs": [],
   "source": [
    "landmark_input = Input(shape=LANDMARK_EXAMPLE_SHAPE)\n",
    "dnn_tower = DNN(DNN_LAYERS, DENSE_SIZE, DROPOUT_RATE)\n",
    "\n",
    "x_dnn_tower = dnn_tower(landmark_input)"
   ]
  },
  {
   "cell_type": "code",
   "execution_count": null,
   "id": "e498edd1",
   "metadata": {},
   "outputs": [],
   "source": [
    "output_tower = DNN(OUTPUT_DENSE_LAYERS, OUTPUT_DENSE_SIZE, DROPOUT_RATE)\n",
    "x = output_tower(x_dnn_tower)\n",
    "output = Dense(NUM_CLASSES, activation='softmax')(x)"
   ]
  },
  {
   "cell_type": "code",
   "execution_count": null,
   "id": "94c0fc15",
   "metadata": {},
   "outputs": [],
   "source": [
    "ablation_model_landmark = Model(inputs=[landmark_input], outputs=[output])"
   ]
  },
  {
   "cell_type": "code",
   "execution_count": null,
   "id": "dea74d24",
   "metadata": {},
   "outputs": [],
   "source": [
    "# opt = optimizers.Adam()\n",
    "\n",
    "ablation_model_landmark.compile(loss='categorical_crossentropy',\n",
    "                                optimizer=opt,\n",
    "                                metrics=['accuracy'])"
   ]
  },
  {
   "cell_type": "code",
   "execution_count": null,
   "id": "93b38aeb",
   "metadata": {},
   "outputs": [],
   "source": [
    "epochs = 100\n",
    "batch_size = 32"
   ]
  },
  {
   "cell_type": "code",
   "execution_count": null,
   "id": "14a17579",
   "metadata": {},
   "outputs": [],
   "source": [
    "ablation_model_landmark.fit([X_train_landmarks], Y_train,\n",
    "                            batch_size=batch_size,\n",
    "                            epochs=epochs,\n",
    "#                          callbacks=callbacks,\n",
    "                            verbose=1,\n",
    "                            validation_data=([X_val_landmarks], Y_val),\n",
    "                            shuffle=True)"
   ]
  },
  {
   "cell_type": "code",
   "execution_count": null,
   "id": "3a133e45",
   "metadata": {},
   "outputs": [],
   "source": [
    "Y_preds = ablation_model_landmark.predict([X_test_landmarks])"
   ]
  },
  {
   "cell_type": "code",
   "execution_count": null,
   "id": "f331cbbf",
   "metadata": {},
   "outputs": [],
   "source": [
    "Y_test_labels = np.argmax(Y_test, axis=-1)\n",
    "Y_preds_labels = np.argmax(Y_preds, axis=-1)"
   ]
  },
  {
   "cell_type": "code",
   "execution_count": null,
   "id": "bcc4cefc",
   "metadata": {},
   "outputs": [],
   "source": [
    "print(sklearn.metrics.classification_report(Y_test_labels, Y_preds_labels))"
   ]
  },
  {
   "cell_type": "code",
   "execution_count": null,
   "id": "dae5c915",
   "metadata": {},
   "outputs": [],
   "source": []
  },
  {
   "cell_type": "code",
   "execution_count": null,
   "id": "fea9cea1",
   "metadata": {},
   "outputs": [],
   "source": []
  },
  {
   "cell_type": "code",
   "execution_count": null,
   "id": "d41d57ca",
   "metadata": {},
   "outputs": [],
   "source": []
  }
 ],
 "metadata": {
  "environment": {
   "name": "tf2-gpu.2-3.m69",
   "type": "gcloud",
   "uri": "gcr.io/deeplearning-platform-release/tf2-gpu.2-3:m69"
  },
  "kernelspec": {
   "display_name": "Python 3",
   "language": "python",
   "name": "python3"
  },
  "language_info": {
   "codemirror_mode": {
    "name": "ipython",
    "version": 3
   },
   "file_extension": ".py",
   "mimetype": "text/x-python",
   "name": "python",
   "nbconvert_exporter": "python",
   "pygments_lexer": "ipython3",
   "version": "3.7.10"
  }
 },
 "nbformat": 4,
 "nbformat_minor": 5
}
