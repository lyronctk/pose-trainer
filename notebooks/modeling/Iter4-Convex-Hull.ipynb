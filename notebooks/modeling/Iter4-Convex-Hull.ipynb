{
 "cells": [
  {
   "cell_type": "code",
   "execution_count": 1,
   "id": "2e1e638a",
   "metadata": {},
   "outputs": [
    {
     "name": "stderr",
     "output_type": "stream",
     "text": [
      "Using TensorFlow backend.\n"
     ]
    }
   ],
   "source": [
    "import tensorflow as tf\n",
    "\n",
    "import PIL\n",
    "import matplotlib.pyplot as plt\n",
    "import matplotlib.ticker as ticker\n",
    "import sklearn\n",
    "from sklearn.model_selection import train_test_split\n",
    "\n",
    "import itertools\n",
    "from typing import List, Tuple\n",
    "import copy\n",
    "import seaborn as sns\n",
    "import unicodedata\n",
    "import re\n",
    "import numpy as np\n",
    "import cv2 as cv\n",
    "import os\n",
    "import io\n",
    "from skimage.io import imread\n",
    "import time\n",
    "from ast import literal_eval\n",
    "import math\n",
    "from matplotlib.path import Path\n",
    "from collections import defaultdict\n",
    "from statistics import median, mean\n",
    "\n",
    "import numpy\n",
    "from PIL import Image, ImageDraw\n",
    "import keras\n",
    "from keras import optimizers\n",
    "from keras.preprocessing.image import load_img\n",
    "from keras.layers import Input, Dense, Flatten, Dropout, Conv2D, MaxPooling2D, Activation, concatenate, BatchNormalization\n",
    "from keras.layers.advanced_activations import LeakyReLU\n",
    "from keras.models import Model\n",
    "\n",
    "from scipy.spatial import ConvexHull, convex_hull_plot_2d\n",
    "\n",
    "import pandas as pd\n",
    "\n",
    "import warnings\n",
    "warnings.filterwarnings('ignore')"
   ]
  },
  {
   "cell_type": "code",
   "execution_count": null,
   "id": "082b6d5c",
   "metadata": {},
   "outputs": [],
   "source": []
  },
  {
   "cell_type": "code",
   "execution_count": null,
   "id": "bb2cb152",
   "metadata": {},
   "outputs": [],
   "source": []
  },
  {
   "cell_type": "markdown",
   "id": "3f0fbbdf",
   "metadata": {},
   "source": [
    "# Parse and Load Dataset"
   ]
  },
  {
   "cell_type": "code",
   "execution_count": null,
   "id": "3ad62469",
   "metadata": {},
   "outputs": [],
   "source": []
  },
  {
   "cell_type": "code",
   "execution_count": 11,
   "id": "6534d0d7",
   "metadata": {},
   "outputs": [],
   "source": [
    "TARGET_SIZE = (640, 360)\n",
    "IMAGE_EXAMPLE_SHAPE = TARGET_SIZE + (3,)\n",
    "\n",
    "LANDMARK_EXAMPLE_SHAPE = (39, )\n",
    "\n",
    "BASE_PATH = '/home/lancecotingkeh/aggregated/'\n",
    "LABEL_TO_ENCODING = {'proper': 0, 'crooked': 1, 'lockout': 2, 'rounded': 3, 'squat': 4}\n",
    "NUM_CLASSES = len(LABEL_TO_ENCODING)"
   ]
  },
  {
   "cell_type": "code",
   "execution_count": 12,
   "id": "bae68be4",
   "metadata": {},
   "outputs": [],
   "source": [
    "min_x, max_x, min_y, max_y = (0.0, 652.3190116882324, 10.059281587600708, 341.7217969894409)\n",
    "xy = [(max_y, min_x),(max_y, max_x),(min_y, max_x),(min_y, min_x)]"
   ]
  },
  {
   "cell_type": "code",
   "execution_count": null,
   "id": "dbf1833d",
   "metadata": {},
   "outputs": [],
   "source": []
  },
  {
   "cell_type": "code",
   "execution_count": 13,
   "id": "0e018a76",
   "metadata": {},
   "outputs": [],
   "source": [
    "df_metadata = pd.read_csv('/home/lancecotingkeh/aggregated/pose_landmarks.csv')"
   ]
  },
  {
   "cell_type": "code",
   "execution_count": 14,
   "id": "2ee9eecd",
   "metadata": {},
   "outputs": [
    {
     "data": {
      "text/html": [
       "<div>\n",
       "<style scoped>\n",
       "    .dataframe tbody tr th:only-of-type {\n",
       "        vertical-align: middle;\n",
       "    }\n",
       "\n",
       "    .dataframe tbody tr th {\n",
       "        vertical-align: top;\n",
       "    }\n",
       "\n",
       "    .dataframe thead th {\n",
       "        text-align: right;\n",
       "    }\n",
       "</style>\n",
       "<table border=\"1\" class=\"dataframe\">\n",
       "  <thead>\n",
       "    <tr style=\"text-align: right;\">\n",
       "      <th></th>\n",
       "      <th>relative_image_path</th>\n",
       "      <th>data_split</th>\n",
       "      <th>label</th>\n",
       "      <th>landmark_nose</th>\n",
       "      <th>landmark_left_shoulder</th>\n",
       "      <th>landmark_right_shoulder</th>\n",
       "      <th>landmark_left_elbow</th>\n",
       "      <th>landmark_right_elbow</th>\n",
       "      <th>landmark_left_wrist</th>\n",
       "      <th>landmark_right_wrist</th>\n",
       "      <th>landmark_left_hip</th>\n",
       "      <th>landmark_right_hip</th>\n",
       "      <th>landmark_left_knee</th>\n",
       "      <th>landmark_right_knee</th>\n",
       "      <th>landmark_left_ankle</th>\n",
       "      <th>landmark_right_ankle</th>\n",
       "    </tr>\n",
       "  </thead>\n",
       "  <tbody>\n",
       "    <tr>\n",
       "      <th>0</th>\n",
       "      <td>5_lockout/lyron_deg135_take2/frame46.jpg</td>\n",
       "      <td>train</td>\n",
       "      <td>proper</td>\n",
       "      <td>(0.8408212661743164, 0.44535547494888306, -0.6...</td>\n",
       "      <td>(0.7523922920227051, 0.483453631401062, -0.080...</td>\n",
       "      <td>(0.59047532081604, 0.4363204836845398, -0.5876...</td>\n",
       "      <td>(0.7419312596321106, 0.6247938871383667, 0.025...</td>\n",
       "      <td>(0.5161336064338684, 0.5835246443748474, -0.57...</td>\n",
       "      <td>(0.7500355839729309, 0.7468990683555603, -0.06...</td>\n",
       "      <td>(0.5082715749740601, 0.7348905205726624, -0.60...</td>\n",
       "      <td>(0.4615359604358673, 0.5611119866371155, 0.148...</td>\n",
       "      <td>(0.34500354528427124, 0.5380272269248962, -0.1...</td>\n",
       "      <td>(0.701583981513977, 0.6245787739753723, -0.039...</td>\n",
       "      <td>(0.5147499442100525, 0.576558530330658, -0.833...</td>\n",
       "      <td>(0.6168646812438965, 0.8138770461082458, 0.163...</td>\n",
       "      <td>(0.4869398772716522, 0.7884341478347778, -0.77...</td>\n",
       "    </tr>\n",
       "    <tr>\n",
       "      <th>1</th>\n",
       "      <td>5_lockout/lyron_deg135_take2/frame203.jpg</td>\n",
       "      <td>train</td>\n",
       "      <td>proper</td>\n",
       "      <td>(0.8654815554618835, 0.4472369849681854, -0.59...</td>\n",
       "      <td>(0.7866912484169006, 0.5048587322235107, -0.12...</td>\n",
       "      <td>(0.6134108901023865, 0.4505915343761444, -0.55...</td>\n",
       "      <td>(0.7522295713424683, 0.6383607983589172, -0.09...</td>\n",
       "      <td>(0.5366990566253662, 0.5983656644821167, -0.55...</td>\n",
       "      <td>(0.7443258762359619, 0.7658225893974304, -0.16...</td>\n",
       "      <td>(0.5270508527755737, 0.7469443678855896, -0.51...</td>\n",
       "      <td>(0.49029654264450073, 0.565066397190094, 0.141...</td>\n",
       "      <td>(0.3752322196960449, 0.5404682159423828, -0.14...</td>\n",
       "      <td>(0.721193253993988, 0.6225733160972595, 0.0097...</td>\n",
       "      <td>(0.604214072227478, 0.5913941860198975, -0.544...</td>\n",
       "      <td>(0.6175094246864319, 0.7968677282333374, 0.155...</td>\n",
       "      <td>(0.4880143404006958, 0.7921530604362488, -0.41...</td>\n",
       "    </tr>\n",
       "    <tr>\n",
       "      <th>2</th>\n",
       "      <td>5_lockout/lyron_deg135_take2/frame207.jpg</td>\n",
       "      <td>train</td>\n",
       "      <td>proper</td>\n",
       "      <td>(0.8618521690368652, 0.42703595757484436, -0.5...</td>\n",
       "      <td>(0.7759232521057129, 0.48765045404434204, -0.0...</td>\n",
       "      <td>(0.6108279228210449, 0.43047401309013367, -0.4...</td>\n",
       "      <td>(0.7476211786270142, 0.6245181560516357, 0.032...</td>\n",
       "      <td>(0.526120126247406, 0.5700463652610779, -0.489...</td>\n",
       "      <td>(0.7355574369430542, 0.7427244186401367, -0.06...</td>\n",
       "      <td>(0.5221640467643738, 0.7184542417526245, -0.49...</td>\n",
       "      <td>(0.4879094958305359, 0.5496541261672974, 0.132...</td>\n",
       "      <td>(0.37393078207969666, 0.5203757286071777, -0.1...</td>\n",
       "      <td>(0.7107850313186646, 0.6180444359779358, 0.138...</td>\n",
       "      <td>(0.574447512626648, 0.5620325207710266, -0.697...</td>\n",
       "      <td>(0.5569970607757568, 0.7731618285179138, 0.340...</td>\n",
       "      <td>(0.47665083408355713, 0.7690679430961609, -0.6...</td>\n",
       "    </tr>\n",
       "  </tbody>\n",
       "</table>\n",
       "</div>"
      ],
      "text/plain": [
       "                         relative_image_path data_split   label  \\\n",
       "0   5_lockout/lyron_deg135_take2/frame46.jpg      train  proper   \n",
       "1  5_lockout/lyron_deg135_take2/frame203.jpg      train  proper   \n",
       "2  5_lockout/lyron_deg135_take2/frame207.jpg      train  proper   \n",
       "\n",
       "                                       landmark_nose  \\\n",
       "0  (0.8408212661743164, 0.44535547494888306, -0.6...   \n",
       "1  (0.8654815554618835, 0.4472369849681854, -0.59...   \n",
       "2  (0.8618521690368652, 0.42703595757484436, -0.5...   \n",
       "\n",
       "                              landmark_left_shoulder  \\\n",
       "0  (0.7523922920227051, 0.483453631401062, -0.080...   \n",
       "1  (0.7866912484169006, 0.5048587322235107, -0.12...   \n",
       "2  (0.7759232521057129, 0.48765045404434204, -0.0...   \n",
       "\n",
       "                             landmark_right_shoulder  \\\n",
       "0  (0.59047532081604, 0.4363204836845398, -0.5876...   \n",
       "1  (0.6134108901023865, 0.4505915343761444, -0.55...   \n",
       "2  (0.6108279228210449, 0.43047401309013367, -0.4...   \n",
       "\n",
       "                                 landmark_left_elbow  \\\n",
       "0  (0.7419312596321106, 0.6247938871383667, 0.025...   \n",
       "1  (0.7522295713424683, 0.6383607983589172, -0.09...   \n",
       "2  (0.7476211786270142, 0.6245181560516357, 0.032...   \n",
       "\n",
       "                                landmark_right_elbow  \\\n",
       "0  (0.5161336064338684, 0.5835246443748474, -0.57...   \n",
       "1  (0.5366990566253662, 0.5983656644821167, -0.55...   \n",
       "2  (0.526120126247406, 0.5700463652610779, -0.489...   \n",
       "\n",
       "                                 landmark_left_wrist  \\\n",
       "0  (0.7500355839729309, 0.7468990683555603, -0.06...   \n",
       "1  (0.7443258762359619, 0.7658225893974304, -0.16...   \n",
       "2  (0.7355574369430542, 0.7427244186401367, -0.06...   \n",
       "\n",
       "                                landmark_right_wrist  \\\n",
       "0  (0.5082715749740601, 0.7348905205726624, -0.60...   \n",
       "1  (0.5270508527755737, 0.7469443678855896, -0.51...   \n",
       "2  (0.5221640467643738, 0.7184542417526245, -0.49...   \n",
       "\n",
       "                                   landmark_left_hip  \\\n",
       "0  (0.4615359604358673, 0.5611119866371155, 0.148...   \n",
       "1  (0.49029654264450073, 0.565066397190094, 0.141...   \n",
       "2  (0.4879094958305359, 0.5496541261672974, 0.132...   \n",
       "\n",
       "                                  landmark_right_hip  \\\n",
       "0  (0.34500354528427124, 0.5380272269248962, -0.1...   \n",
       "1  (0.3752322196960449, 0.5404682159423828, -0.14...   \n",
       "2  (0.37393078207969666, 0.5203757286071777, -0.1...   \n",
       "\n",
       "                                  landmark_left_knee  \\\n",
       "0  (0.701583981513977, 0.6245787739753723, -0.039...   \n",
       "1  (0.721193253993988, 0.6225733160972595, 0.0097...   \n",
       "2  (0.7107850313186646, 0.6180444359779358, 0.138...   \n",
       "\n",
       "                                 landmark_right_knee  \\\n",
       "0  (0.5147499442100525, 0.576558530330658, -0.833...   \n",
       "1  (0.604214072227478, 0.5913941860198975, -0.544...   \n",
       "2  (0.574447512626648, 0.5620325207710266, -0.697...   \n",
       "\n",
       "                                 landmark_left_ankle  \\\n",
       "0  (0.6168646812438965, 0.8138770461082458, 0.163...   \n",
       "1  (0.6175094246864319, 0.7968677282333374, 0.155...   \n",
       "2  (0.5569970607757568, 0.7731618285179138, 0.340...   \n",
       "\n",
       "                                landmark_right_ankle  \n",
       "0  (0.4869398772716522, 0.7884341478347778, -0.77...  \n",
       "1  (0.4880143404006958, 0.7921530604362488, -0.41...  \n",
       "2  (0.47665083408355713, 0.7690679430961609, -0.6...  "
      ]
     },
     "execution_count": 14,
     "metadata": {},
     "output_type": "execute_result"
    }
   ],
   "source": [
    "df_metadata.head(3)"
   ]
  },
  {
   "cell_type": "code",
   "execution_count": 15,
   "id": "c4dc66b9",
   "metadata": {},
   "outputs": [
    {
     "data": {
      "text/plain": [
       "['landmark_nose',\n",
       " 'landmark_left_shoulder',\n",
       " 'landmark_right_shoulder',\n",
       " 'landmark_left_elbow',\n",
       " 'landmark_right_elbow',\n",
       " 'landmark_left_wrist',\n",
       " 'landmark_right_wrist',\n",
       " 'landmark_left_hip',\n",
       " 'landmark_right_hip',\n",
       " 'landmark_left_knee',\n",
       " 'landmark_right_knee',\n",
       " 'landmark_left_ankle',\n",
       " 'landmark_right_ankle']"
      ]
     },
     "execution_count": 15,
     "metadata": {},
     "output_type": "execute_result"
    }
   ],
   "source": [
    "landmark_columns = [col for col in df_metadata if col.startswith('landmark_')]\n",
    "landmark_columns"
   ]
  },
  {
   "cell_type": "code",
   "execution_count": 16,
   "id": "c5827c3c",
   "metadata": {},
   "outputs": [],
   "source": [
    "def load_preprocess_imgs(image_paths: List[str]) -> np.ndarray:\n",
    "    images = []\n",
    "    for image_path in image_paths:\n",
    "        img = load_img(image_path, target_size=TARGET_SIZE)        \n",
    "        \n",
    "#         mask = Image.new(\"L\", img.size, 3)\n",
    "#         draw = ImageDraw.Draw(mask)\n",
    "#         draw.polygon(xy, fill=255, outline=None)\n",
    "#         black =  Image.new(\"L\", img.size, 3)\n",
    "#         img = Image.composite(img, black, mask)\n",
    "\n",
    "        np_img = np.asarray(img)\n",
    "        \n",
    "#         print(np_img.shape)\n",
    "\n",
    "        assert np_img.shape == IMAGE_EXAMPLE_SHAPE, f'errro shape: {np_img.shape}'\n",
    "        \n",
    "        images.append(np_img)\n",
    "        \n",
    "        # horizontal flip both image\n",
    "        horizontal_flipped_img = img.transpose(PIL.Image.FLIP_LEFT_RIGHT)\n",
    "        np_img = np.asarray(img)\n",
    "        images.append(np_img)\n",
    "        \n",
    "    return np.array(images)"
   ]
  },
  {
   "cell_type": "code",
   "execution_count": 17,
   "id": "c3e2dd5f",
   "metadata": {},
   "outputs": [],
   "source": [
    "def load_preprocess_landmarks(df_metadata) -> np.ndarray:\n",
    "    landmark_examples = []\n",
    "    \n",
    "    x_y_only = []\n",
    "    \n",
    "    for row in df_metadata.iterrows():\n",
    "        single_example = []\n",
    "        flipped_example = []\n",
    "        \n",
    "        for landmark in landmark_columns:\n",
    "            x, y, z = literal_eval(row[1][landmark])\n",
    "            \n",
    "            single_example.extend([x, y, z])\n",
    "            \n",
    "            x_y_only.append([x, y])\n",
    "            \n",
    "            # horizontal flip landmark\n",
    "            \n",
    "            flipped_example.extend([1-x, y, z])\n",
    "            \n",
    "            x_y_only.append([1-x, y])\n",
    "        \n",
    "        landmark_examples.append(np.array(single_example))\n",
    "        landmark_examples.append(np.array(flipped_example))\n",
    "    return np.array(landmark_examples), np.array(x_y_only)"
   ]
  },
  {
   "cell_type": "code",
   "execution_count": 18,
   "id": "8be11932",
   "metadata": {},
   "outputs": [],
   "source": [
    "def interleave_np_arrays(a, b):\n",
    "    a_shape = a.shape\n",
    "    c = np.empty((a_shape[0] * 2, a_shape[1]), dtype=a.dtype)\n",
    "    c[0::2] = a\n",
    "    c[1::2] = b\n",
    "    \n",
    "    return c"
   ]
  },
  {
   "cell_type": "code",
   "execution_count": 19,
   "id": "4b86fb6c",
   "metadata": {},
   "outputs": [],
   "source": [
    "# load training data\n",
    "\n",
    "df_train = df_metadata[df_metadata['data_split'] == 'train']\n",
    "X_train_imgs = load_preprocess_imgs([f'{BASE_PATH}{p}' for p in df_train['relative_image_path']])\n",
    "X_train_landmarks, X_train_x_y = load_preprocess_landmarks(df_train)\n",
    "Y_train = keras.utils.to_categorical([LABEL_TO_ENCODING[l] for l in df_train['label']], 5)\n",
    "Y_train = interleave_np_arrays(Y_train, Y_train)"
   ]
  },
  {
   "cell_type": "code",
   "execution_count": 20,
   "id": "5f7aeaf1",
   "metadata": {},
   "outputs": [
    {
     "data": {
      "text/plain": [
       "(589, 1178, 1178, 1178)"
      ]
     },
     "execution_count": 20,
     "metadata": {},
     "output_type": "execute_result"
    }
   ],
   "source": [
    "len(df_train), len(X_train_imgs), len(X_train_landmarks), len(Y_train)"
   ]
  },
  {
   "cell_type": "code",
   "execution_count": 21,
   "id": "97b8b3fc",
   "metadata": {},
   "outputs": [
    {
     "data": {
      "text/plain": [
       "(640, 360, 3)"
      ]
     },
     "execution_count": 21,
     "metadata": {},
     "output_type": "execute_result"
    }
   ],
   "source": [
    "X_train_imgs[0].shape"
   ]
  },
  {
   "cell_type": "code",
   "execution_count": 22,
   "id": "e321451b",
   "metadata": {},
   "outputs": [],
   "source": [
    "# load validation data\n",
    "df_val = df_metadata[df_metadata['data_split'] == 'val']\n",
    "X_val_imgs = load_preprocess_imgs([f'{BASE_PATH}{p}' for p in df_val['relative_image_path']])\n",
    "X_val_landmarks, X_val_x_y = load_preprocess_landmarks(df_val)\n",
    "Y_val = keras.utils.to_categorical([LABEL_TO_ENCODING[l] for l in df_val['label']], 5)\n",
    "Y_val = interleave_np_arrays(Y_val, Y_val)"
   ]
  },
  {
   "cell_type": "code",
   "execution_count": 23,
   "id": "62211678",
   "metadata": {},
   "outputs": [
    {
     "data": {
      "text/plain": [
       "(100, 200, 200, 200)"
      ]
     },
     "execution_count": 23,
     "metadata": {},
     "output_type": "execute_result"
    }
   ],
   "source": [
    "len(df_val), len(X_val_imgs), len(X_val_landmarks), len(Y_val)"
   ]
  },
  {
   "cell_type": "code",
   "execution_count": 24,
   "id": "dae4b353",
   "metadata": {},
   "outputs": [],
   "source": [
    "# load test data\n",
    "df_test = df_metadata[df_metadata['data_split'] == 'test']\n",
    "X_test_imgs = load_preprocess_imgs([f'{BASE_PATH}{p}' for p in df_test['relative_image_path']])\n",
    "X_test_landmarks, X_test_x_y  = load_preprocess_landmarks(df_test)\n",
    "Y_test = keras.utils.to_categorical([LABEL_TO_ENCODING[l] for l in df_test['label']], 5)\n",
    "Y_test = interleave_np_arrays(Y_test, Y_test)"
   ]
  },
  {
   "cell_type": "code",
   "execution_count": 25,
   "id": "100a8492",
   "metadata": {},
   "outputs": [
    {
     "data": {
      "text/plain": [
       "(200, 400, 400, 400)"
      ]
     },
     "execution_count": 25,
     "metadata": {},
     "output_type": "execute_result"
    }
   ],
   "source": [
    "len(df_test), len(X_test_imgs), len(X_test_landmarks), len(Y_test)"
   ]
  },
  {
   "cell_type": "code",
   "execution_count": null,
   "id": "90d7272b",
   "metadata": {},
   "outputs": [],
   "source": []
  },
  {
   "cell_type": "code",
   "execution_count": 26,
   "id": "d54733c6",
   "metadata": {},
   "outputs": [
    {
     "data": {
      "text/plain": [
       "(640, 360, 3)"
      ]
     },
     "execution_count": 26,
     "metadata": {},
     "output_type": "execute_result"
    }
   ],
   "source": [
    "IMAGE_EXAMPLE_SHAPE"
   ]
  },
  {
   "cell_type": "code",
   "execution_count": null,
   "id": "9cbd2081",
   "metadata": {},
   "outputs": [],
   "source": []
  },
  {
   "cell_type": "code",
   "execution_count": 27,
   "id": "7aec0f51",
   "metadata": {},
   "outputs": [
    {
     "data": {
      "text/plain": [
       "((15314, 2), (2600, 2), (5200, 2))"
      ]
     },
     "execution_count": 27,
     "metadata": {},
     "output_type": "execute_result"
    }
   ],
   "source": [
    "X_train_x_y.shape, X_val_x_y.shape, X_test_x_y.shape"
   ]
  },
  {
   "cell_type": "markdown",
   "id": "a3d69e42",
   "metadata": {},
   "source": [
    "# Convex Hull of Pose x,y"
   ]
  },
  {
   "cell_type": "code",
   "execution_count": 28,
   "id": "6aa8ccd0",
   "metadata": {},
   "outputs": [],
   "source": [
    "all_x_y = np.concatenate([X_train_x_y, X_val_x_y, X_test_x_y])"
   ]
  },
  {
   "cell_type": "code",
   "execution_count": 29,
   "id": "478d2a84",
   "metadata": {},
   "outputs": [
    {
     "data": {
      "text/plain": [
       "(23114, 2)"
      ]
     },
     "execution_count": 29,
     "metadata": {},
     "output_type": "execute_result"
    }
   ],
   "source": [
    "all_x_y.shape"
   ]
  },
  {
   "cell_type": "code",
   "execution_count": null,
   "id": "01e81213",
   "metadata": {},
   "outputs": [],
   "source": []
  },
  {
   "cell_type": "code",
   "execution_count": 30,
   "id": "56680e59",
   "metadata": {},
   "outputs": [],
   "source": [
    "x_y_targets = all_x_y\n",
    "hull = ConvexHull(x_y_targets)"
   ]
  },
  {
   "cell_type": "code",
   "execution_count": 31,
   "id": "2e9f0f19",
   "metadata": {},
   "outputs": [],
   "source": [
    "import matplotlib.pyplot as plt"
   ]
  },
  {
   "cell_type": "code",
   "execution_count": 52,
   "id": "278ebb92",
   "metadata": {},
   "outputs": [
    {
     "data": {
      "image/png": "[encoded data removed]",
      "text/plain": [
       "<Figure size 432x288 with 1 Axes>"
      ]
     },
     "metadata": {
      "needs_background": "light"
     },
     "output_type": "display_data"
    }
   ],
   "source": [
    "plt.plot(x_y_targets[:,0], x_y_targets[:,1], 'o')\n",
    "plt.plot(x_y_targets[hull.vertices,0], x_y_targets[hull.vertices,1], 'r--', lw=2)\n",
    "plt.plot(x_y_targets[hull.vertices[0],0], x_y_targets[hull.vertices[0],1], 'ro')\n",
    "plt.xlabel('Normalized Landmark (x)')\n",
    "plt.ylabel('Normalized Landmark (x)')\n",
    "plt.title('Convex Hull on Pose (x,y)')\n",
    "plt.show()"
   ]
  },
  {
   "cell_type": "code",
   "execution_count": 33,
   "id": "884ae9de",
   "metadata": {},
   "outputs": [
    {
     "data": {
      "text/plain": [
       "[<matplotlib.lines.Line2D at 0x7f35ecfa95d0>]"
      ]
     },
     "execution_count": 33,
     "metadata": {},
     "output_type": "execute_result"
    },
    {
     "data": {
      "image/png": "[encoded data removed]",
      "text/plain": [
       "<Figure size 432x288 with 1 Axes>"
      ]
     },
     "metadata": {
      "needs_background": "light"
     },
     "output_type": "display_data"
    }
   ],
   "source": [
    "plt.plot(x_y_targets[hull.vertices,0], x_y_targets[hull.vertices,1], 'r--', lw=2)"
   ]
  },
  {
   "cell_type": "code",
   "execution_count": 34,
   "id": "b5cd7d28",
   "metadata": {},
   "outputs": [
    {
     "data": {
      "text/plain": [
       "(array([ 0.20312095,  0.34980771,  0.49503642,  0.50496358,  0.65019229,\n",
       "         0.79687905,  0.81867091,  0.90646994,  0.90906334,  0.94462991,\n",
       "         1.01924846,  1.01463145,  0.99503717,  0.89291447,  0.85889572,\n",
       "         0.65560144,  0.34439856,  0.14110428,  0.10708553,  0.00496283,\n",
       "        -0.01463145, -0.01924846,  0.05537009,  0.09093666,  0.09353006,\n",
       "         0.18132909]),\n",
       " array([0.14219856, 0.06595442, 0.02794245, 0.02794245, 0.06595442,\n",
       "        0.14219856, 0.16648409, 0.30662018, 0.3113299 , 0.39798585,\n",
       "        0.59318608, 0.63505799, 0.80665731, 0.87592912, 0.89364749,\n",
       "        0.94922721, 0.94922721, 0.89364749, 0.87592912, 0.80665731,\n",
       "        0.63505799, 0.59318608, 0.39798585, 0.3113299 , 0.30662018,\n",
       "        0.16648409]))"
      ]
     },
     "execution_count": 34,
     "metadata": {},
     "output_type": "execute_result"
    }
   ],
   "source": [
    "x_y_targets[hull.vertices, 0], x_y_targets[hull.vertices,1]"
   ]
  },
  {
   "cell_type": "code",
   "execution_count": 35,
   "id": "4d1c1587",
   "metadata": {},
   "outputs": [],
   "source": [
    "def mask_from_contours(ref_img, contours):\n",
    "    mask = np.zeros(ref_img.shape, np.uint8)\n",
    "    mask = cv2.drawContours(mask, contours, -1, (255,255,255), -1)\n",
    "    return cv2.cvtColor(mask, cv2.COLOR_BGR2GRAY)\n"
   ]
  },
  {
   "cell_type": "code",
   "execution_count": 36,
   "id": "50600405",
   "metadata": {},
   "outputs": [],
   "source": [
    "# contours"
   ]
  },
  {
   "cell_type": "code",
   "execution_count": 37,
   "id": "b15a3986",
   "metadata": {},
   "outputs": [],
   "source": [
    "contours = np.array(list(zip(x_y_targets[hull.vertices, 0],x_y_targets[hull.vertices, 1])))\n",
    "\n",
    "contours[:, 0] = contours[:, 0]* IMAGE_EXAMPLE_SHAPE[0]\n",
    "contours[:, 1] = contours[:, 1]* IMAGE_EXAMPLE_SHAPE[1]"
   ]
  },
  {
   "cell_type": "code",
   "execution_count": 38,
   "id": "ae3bb63d",
   "metadata": {},
   "outputs": [],
   "source": [
    "contours[contours<=0] = 0"
   ]
  },
  {
   "cell_type": "code",
   "execution_count": 39,
   "id": "9b8b4ada",
   "metadata": {},
   "outputs": [
    {
     "data": {
      "text/plain": [
       "array([[129.99740601,  51.19148254],\n",
       "       [223.87693405,  23.74359012],\n",
       "       [316.82331085,  10.05928159],\n",
       "       [323.17668915,  10.05928159],\n",
       "       [416.12306595,  23.74359012],\n",
       "       [510.00259399,  51.19148254],\n",
       "       [523.94938469,  59.93427157],\n",
       "       [580.14076233, 110.38326502],\n",
       "       [581.80053711, 112.07876444],\n",
       "       [604.56314087, 143.27490449],\n",
       "       [652.31901169, 213.54698896],\n",
       "       [649.36412811, 228.62087488],\n",
       "       [636.82378769, 290.39663315],\n",
       "       [571.46526337, 315.33448219],\n",
       "       [549.69326019, 321.7130971 ],\n",
       "       [419.58492279, 341.72179699],\n",
       "       [220.41507721, 341.72179699],\n",
       "       [ 90.30673981, 321.7130971 ],\n",
       "       [ 68.53473663, 315.33448219],\n",
       "       [  3.17621231, 290.39663315],\n",
       "       [  0.        , 228.62087488],\n",
       "       [  0.        , 213.54698896],\n",
       "       [ 35.43685913, 143.27490449],\n",
       "       [ 58.19946289, 112.07876444],\n",
       "       [ 59.85923767, 110.38326502],\n",
       "       [116.05061531,  59.93427157]])"
      ]
     },
     "execution_count": 39,
     "metadata": {},
     "output_type": "execute_result"
    }
   ],
   "source": [
    "contours"
   ]
  },
  {
   "cell_type": "code",
   "execution_count": 40,
   "id": "e33e8bf3",
   "metadata": {},
   "outputs": [
    {
     "data": {
      "text/plain": [
       "array([129.99740601, 223.87693405, 316.82331085, 323.17668915,\n",
       "       416.12306595, 510.00259399, 523.94938469, 580.14076233,\n",
       "       581.80053711, 604.56314087, 652.31901169, 649.36412811,\n",
       "       636.82378769, 571.46526337, 549.69326019, 419.58492279,\n",
       "       220.41507721,  90.30673981,  68.53473663,   3.17621231,\n",
       "         0.        ,   0.        ,  35.43685913,  58.19946289,\n",
       "        59.85923767, 116.05061531])"
      ]
     },
     "execution_count": 40,
     "metadata": {},
     "output_type": "execute_result"
    }
   ],
   "source": [
    "contours[:, 0]"
   ]
  },
  {
   "cell_type": "code",
   "execution_count": 41,
   "id": "3c58cc8c",
   "metadata": {},
   "outputs": [
    {
     "data": {
      "text/plain": [
       "[<matplotlib.lines.Line2D at 0x7f35ed0b9ad0>]"
      ]
     },
     "execution_count": 41,
     "metadata": {},
     "output_type": "execute_result"
    },
    {
     "data": {
      "image/png": "[encoded data removed]",
      "text/plain": [
       "<Figure size 432x288 with 1 Axes>"
      ]
     },
     "metadata": {
      "needs_background": "light"
     },
     "output_type": "display_data"
    }
   ],
   "source": [
    "plt.plot(contours[:, 0], contours[:, 1], 'r--', lw=2)"
   ]
  },
  {
   "cell_type": "code",
   "execution_count": 42,
   "id": "f4cea7f1",
   "metadata": {},
   "outputs": [
    {
     "name": "stdout",
     "output_type": "stream",
     "text": [
      "(640, 360, 3)\n",
      "(39,)\n"
     ]
    }
   ],
   "source": [
    "for img, landmark in zip(X_train_imgs, X_train_landmarks):\n",
    "    print(img.shape)\n",
    "    print(landmark.shape)\n",
    "    break"
   ]
  },
  {
   "cell_type": "code",
   "execution_count": 43,
   "id": "d49c846c",
   "metadata": {},
   "outputs": [
    {
     "data": {
      "text/plain": [
       "(0.34500354528427124, 0.8408212661743164)"
      ]
     },
     "execution_count": 43,
     "metadata": {},
     "output_type": "execute_result"
    }
   ],
   "source": [
    "min(landmark[0::3]), max(landmark[0::3])"
   ]
  },
  {
   "cell_type": "code",
   "execution_count": 44,
   "id": "acb62ed6",
   "metadata": {},
   "outputs": [
    {
     "data": {
      "text/plain": [
       "(0.4363204836845398, 0.8138770461082458)"
      ]
     },
     "execution_count": 44,
     "metadata": {},
     "output_type": "execute_result"
    }
   ],
   "source": [
    "min(landmark[1::3]), max(landmark[1::3])"
   ]
  },
  {
   "cell_type": "code",
   "execution_count": 45,
   "id": "da6f12b3",
   "metadata": {},
   "outputs": [],
   "source": [
    "min_x = min(contours[:, 0])\n",
    "max_x = max(contours[:, 0])\n",
    "\n",
    "min_y = min(contours[:, 1])\n",
    "max_y = max(contours[:, 1])"
   ]
  },
  {
   "cell_type": "code",
   "execution_count": 46,
   "id": "096db8e9",
   "metadata": {},
   "outputs": [
    {
     "data": {
      "text/plain": [
       "(0.0, 652.3190116882324, 10.059281587600708, 341.7217969894409)"
      ]
     },
     "execution_count": 46,
     "metadata": {},
     "output_type": "execute_result"
    }
   ],
   "source": [
    "min_x, max_x, min_y, max_y"
   ]
  },
  {
   "cell_type": "code",
   "execution_count": 47,
   "id": "38a56ada",
   "metadata": {},
   "outputs": [
    {
     "data": {
      "text/plain": [
       "[(341.7217969894409, 0.0),\n",
       " (341.7217969894409, 652.3190116882324),\n",
       " (10.059281587600708, 652.3190116882324),\n",
       " (10.059281587600708, 0.0)]"
      ]
     },
     "execution_count": 47,
     "metadata": {},
     "output_type": "execute_result"
    }
   ],
   "source": [
    "xy"
   ]
  },
  {
   "cell_type": "code",
   "execution_count": 48,
   "id": "24362ed2",
   "metadata": {},
   "outputs": [
    {
     "data": {
      "text/plain": [
       "[(341.7217969894409, 0.0),\n",
       " (341.7217969894409, 652.3190116882324),\n",
       " (10.059281587600708, 652.3190116882324),\n",
       " (10.059281587600708, 0.0)]"
      ]
     },
     "execution_count": 48,
     "metadata": {},
     "output_type": "execute_result"
    }
   ],
   "source": [
    "xy = [(max_y, min_x),(max_y, max_x),(min_y, max_x),(min_y, min_x)]\n",
    "xy"
   ]
  },
  {
   "cell_type": "code",
   "execution_count": 49,
   "id": "21759dfa",
   "metadata": {},
   "outputs": [],
   "source": [
    "# img\n",
    "img = load_img('/home/lancecotingkeh/aggregated/1_proper/amol_deg45_take1/frame40.jpg', target_size=TARGET_SIZE)\n",
    "\n",
    "# xy = [(max_y, min_x),(min_y, max_x),(max_y, max_x),(min_y, min_x)]\n",
    "\n",
    "mask = Image.new(\"L\", img.size, 0)\n",
    "draw = ImageDraw.Draw(mask)\n",
    "draw.polygon(xy, fill=255, outline=None)\n",
    "black =  Image.new(\"L\", img.size, 0)\n",
    "result = Image.composite(img, black, mask)"
   ]
  },
  {
   "cell_type": "code",
   "execution_count": 50,
   "id": "36ce0a70",
   "metadata": {},
   "outputs": [
    {
     "data": {
      "image/png": "[encoded data removed]",
      "text/plain": [
       "<PIL.Image.Image image mode=L size=360x640 at 0x7F35ECFCF310>"
      ]
     },
     "execution_count": 50,
     "metadata": {},
     "output_type": "execute_result"
    }
   ],
   "source": [
    "result"
   ]
  },
  {
   "cell_type": "code",
   "execution_count": null,
   "id": "e6281987",
   "metadata": {},
   "outputs": [],
   "source": []
  },
  {
   "cell_type": "code",
   "execution_count": 44,
   "id": "d906341c",
   "metadata": {},
   "outputs": [],
   "source": [
    "# X_train_imgs_masked = []\n",
    "\n",
    "# for img in X_train_imgs:\n",
    "#     img *= stacked_mask\n",
    "#     X_train_imgs_masked.append(img)\n",
    "\n",
    "\n"
   ]
  },
  {
   "cell_type": "code",
   "execution_count": 45,
   "id": "504caa46",
   "metadata": {},
   "outputs": [],
   "source": [
    "# Image.fromarray(X_train_imgs_masked[70])"
   ]
  },
  {
   "cell_type": "code",
   "execution_count": 46,
   "id": "ca120517",
   "metadata": {},
   "outputs": [],
   "source": [
    "# X_train_imgs_masked"
   ]
  },
  {
   "cell_type": "code",
   "execution_count": null,
   "id": "b6e672bd",
   "metadata": {},
   "outputs": [],
   "source": []
  },
  {
   "cell_type": "code",
   "execution_count": null,
   "id": "e444381e",
   "metadata": {},
   "outputs": [],
   "source": []
  },
  {
   "cell_type": "markdown",
   "id": "cdaccd2c",
   "metadata": {},
   "source": [
    "# Define Layers"
   ]
  },
  {
   "cell_type": "code",
   "execution_count": 47,
   "id": "60b41c02",
   "metadata": {},
   "outputs": [],
   "source": [
    "initializer = tf.initializers.VarianceScaling(scale=2.0)\n",
    "\n",
    "class ConvGroupLayer(tf.keras.layers.Layer):\n",
    "    def __init__(self, channel_size: int, filter_size: Tuple[int, int], dropout_rate: float):\n",
    "        self.conv = Conv2D(channel_size, filter_size, padding='same', kernel_initializer=initializer)\n",
    "        self.max_pool = MaxPooling2D(filter_size)\n",
    "        self.bn = BatchNormalization(axis=-1)\n",
    "        self.relu = LeakyReLU(alpha=0.1)\n",
    "        self.drop_out = Dropout(dropout_rate)\n",
    "    \n",
    "    def __call__(self, x):\n",
    "        x = self.conv(x)\n",
    "        x = self.max_pool(x)\n",
    "        x = self.bn(x)\n",
    "        x = self.relu(x)\n",
    "        x = self.drop_out(x)\n",
    "        \n",
    "        return x\n",
    "\n",
    "class CNNTower(tf.keras.layers.Layer):\n",
    "    def __init__(self, num_conv_layers:int, initial_channel_size: int, initial_filter_size: Tuple[int, int], dropout_rate: float):\n",
    "        self.initial_conv = Conv2D(initial_channel_size, initial_filter_size, padding='same', kernel_initializer=initializer, input_shape=IMAGE_EXAMPLE_SHAPE)\n",
    "        self.initial_max_pool = MaxPooling2D(initial_filter_size, padding='same')\n",
    "        self.initial_bn = BatchNormalization(axis=-1)\n",
    "        self.initial_relu = LeakyReLU(alpha=0.1)\n",
    "        self.initial_drop_out = Dropout(dropout_rate)\n",
    "        \n",
    "        self.intermediate_conv_layers = []\n",
    "        \n",
    "        for idx in range(num_conv_layers):\n",
    "            channel_size = initial_channel_size//(2**(idx+1))\n",
    "            \n",
    "            self.intermediate_conv_layers.append(ConvGroupLayer(channel_size, initial_filter_size, dropout_rate))\n",
    "            \n",
    "    def __call__(self, x):\n",
    "        x = self.initial_conv(x)\n",
    "        x = self.initial_max_pool(x)\n",
    "        x = self.initial_bn(x)\n",
    "        x = self.initial_relu(x)\n",
    "        x = self.initial_drop_out(x)\n",
    "        \n",
    "        for layer in self.intermediate_conv_layers:\n",
    "            x = layer(x)\n",
    "            \n",
    "        return Flatten()(x)\n",
    "            \n",
    "        \n",
    "        \n",
    "        \n",
    "        "
   ]
  },
  {
   "cell_type": "code",
   "execution_count": 48,
   "id": "33b836a4",
   "metadata": {},
   "outputs": [],
   "source": [
    "# cnn_tower = CNNTower(num_conv_layers = 3,\n",
    "#                      initial_channel_size = 128,\n",
    "#                      initial_filter_size = (3, 3),\n",
    "#                      dropout_rate = 0.20\n",
    "#                     )\n",
    "# cnn_tower(tf.random.uniform((32, 640, 360, 3), dtype=tf.float32, minval=0, maxval=256))"
   ]
  },
  {
   "cell_type": "code",
   "execution_count": null,
   "id": "d998d1b1",
   "metadata": {},
   "outputs": [],
   "source": []
  },
  {
   "cell_type": "code",
   "execution_count": null,
   "id": "d0a5ef74",
   "metadata": {},
   "outputs": [],
   "source": []
  },
  {
   "cell_type": "code",
   "execution_count": null,
   "id": "fa4e9f57",
   "metadata": {},
   "outputs": [],
   "source": []
  },
  {
   "cell_type": "code",
   "execution_count": null,
   "id": "30f6e2bd",
   "metadata": {},
   "outputs": [],
   "source": []
  },
  {
   "cell_type": "code",
   "execution_count": 49,
   "id": "e383d733",
   "metadata": {},
   "outputs": [],
   "source": [
    "class DNN(tf.keras.layers.Layer):\n",
    "    def __init__(self, num_layers: int, initial_dense_size: int, dropout_rate: float):\n",
    "        self.layers = []\n",
    "        \n",
    "        for idx in range(num_layers):\n",
    "            self.layers.append(Dense(initial_dense_size//(2**idx)))\n",
    "            self.layers.append(tf.keras.layers.BatchNormalization())\n",
    "            self.layers.append(LeakyReLU(alpha=0.1))\n",
    "            \n",
    "    def __call__(self, x):\n",
    "        for layer in self.layers:\n",
    "            x = layer(x)\n",
    "\n",
    "        return x\n",
    "            \n",
    "            \n",
    "    "
   ]
  },
  {
   "cell_type": "code",
   "execution_count": 50,
   "id": "45f709a2",
   "metadata": {},
   "outputs": [],
   "source": [
    "# dnn = DNN(3, 256, 0.2)\n",
    "# dnn(tf.random.uniform((32, 488), dtype=tf.float32))"
   ]
  },
  {
   "cell_type": "code",
   "execution_count": null,
   "id": "771d3892",
   "metadata": {},
   "outputs": [],
   "source": []
  },
  {
   "cell_type": "markdown",
   "id": "0f512c48",
   "metadata": {},
   "source": [
    "# Two Tower Input Model"
   ]
  },
  {
   "cell_type": "code",
   "execution_count": 51,
   "id": "7827b6b1",
   "metadata": {},
   "outputs": [
    {
     "ename": "ValueError",
     "evalue": "Input 0 of layer conv2d is incompatible with the layer: : expected min_ndim=4, found ndim=3. Full shape received: [None, 640, 360]",
     "output_type": "error",
     "traceback": [
      "\u001b[0;31m---------------------------------------------------------------------------\u001b[0m",
      "\u001b[0;31mValueError\u001b[0m                                Traceback (most recent call last)",
      "\u001b[0;32m<ipython-input-51-12d198458236>\u001b[0m in \u001b[0;36m<module>\u001b[0;34m\u001b[0m\n\u001b[1;32m      5\u001b[0m                      \u001b[0mdropout_rate\u001b[0m \u001b[0;34m=\u001b[0m \u001b[0;36m0.20\u001b[0m\u001b[0;34m\u001b[0m\u001b[0;34m\u001b[0m\u001b[0m\n\u001b[1;32m      6\u001b[0m                     )\n\u001b[0;32m----> 7\u001b[0;31m \u001b[0mx_cnn_tower\u001b[0m \u001b[0;34m=\u001b[0m \u001b[0mcnn_tower\u001b[0m\u001b[0;34m(\u001b[0m\u001b[0mimage_input\u001b[0m\u001b[0;34m)\u001b[0m\u001b[0;34m\u001b[0m\u001b[0;34m\u001b[0m\u001b[0m\n\u001b[0m",
      "\u001b[0;32m<ipython-input-47-fff05b4dbf3d>\u001b[0m in \u001b[0;36m__call__\u001b[0;34m(self, x)\u001b[0m\n\u001b[1;32m     34\u001b[0m \u001b[0;34m\u001b[0m\u001b[0m\n\u001b[1;32m     35\u001b[0m     \u001b[0;32mdef\u001b[0m \u001b[0m__call__\u001b[0m\u001b[0;34m(\u001b[0m\u001b[0mself\u001b[0m\u001b[0;34m,\u001b[0m \u001b[0mx\u001b[0m\u001b[0;34m)\u001b[0m\u001b[0;34m:\u001b[0m\u001b[0;34m\u001b[0m\u001b[0;34m\u001b[0m\u001b[0m\n\u001b[0;32m---> 36\u001b[0;31m         \u001b[0mx\u001b[0m \u001b[0;34m=\u001b[0m \u001b[0mself\u001b[0m\u001b[0;34m.\u001b[0m\u001b[0minitial_conv\u001b[0m\u001b[0;34m(\u001b[0m\u001b[0mx\u001b[0m\u001b[0;34m)\u001b[0m\u001b[0;34m\u001b[0m\u001b[0;34m\u001b[0m\u001b[0m\n\u001b[0m\u001b[1;32m     37\u001b[0m         \u001b[0mx\u001b[0m \u001b[0;34m=\u001b[0m \u001b[0mself\u001b[0m\u001b[0;34m.\u001b[0m\u001b[0minitial_max_pool\u001b[0m\u001b[0;34m(\u001b[0m\u001b[0mx\u001b[0m\u001b[0;34m)\u001b[0m\u001b[0;34m\u001b[0m\u001b[0;34m\u001b[0m\u001b[0m\n\u001b[1;32m     38\u001b[0m         \u001b[0mx\u001b[0m \u001b[0;34m=\u001b[0m \u001b[0mself\u001b[0m\u001b[0;34m.\u001b[0m\u001b[0minitial_bn\u001b[0m\u001b[0;34m(\u001b[0m\u001b[0mx\u001b[0m\u001b[0;34m)\u001b[0m\u001b[0;34m\u001b[0m\u001b[0;34m\u001b[0m\u001b[0m\n",
      "\u001b[0;32m/opt/conda/lib/python3.7/site-packages/tensorflow/python/keras/engine/base_layer.py\u001b[0m in \u001b[0;36m__call__\u001b[0;34m(self, *args, **kwargs)\u001b[0m\n\u001b[1;32m    924\u001b[0m     \u001b[0;32mif\u001b[0m \u001b[0m_in_functional_construction_mode\u001b[0m\u001b[0;34m(\u001b[0m\u001b[0mself\u001b[0m\u001b[0;34m,\u001b[0m \u001b[0minputs\u001b[0m\u001b[0;34m,\u001b[0m \u001b[0margs\u001b[0m\u001b[0;34m,\u001b[0m \u001b[0mkwargs\u001b[0m\u001b[0;34m,\u001b[0m \u001b[0minput_list\u001b[0m\u001b[0;34m)\u001b[0m\u001b[0;34m:\u001b[0m\u001b[0;34m\u001b[0m\u001b[0;34m\u001b[0m\u001b[0m\n\u001b[1;32m    925\u001b[0m       return self._functional_construction_call(inputs, args, kwargs,\n\u001b[0;32m--> 926\u001b[0;31m                                                 input_list)\n\u001b[0m\u001b[1;32m    927\u001b[0m \u001b[0;34m\u001b[0m\u001b[0m\n\u001b[1;32m    928\u001b[0m     \u001b[0;31m# Maintains info about the `Layer.call` stack.\u001b[0m\u001b[0;34m\u001b[0m\u001b[0;34m\u001b[0m\u001b[0;34m\u001b[0m\u001b[0m\n",
      "\u001b[0;32m/opt/conda/lib/python3.7/site-packages/tensorflow/python/keras/engine/base_layer.py\u001b[0m in \u001b[0;36m_functional_construction_call\u001b[0;34m(self, inputs, args, kwargs, input_list)\u001b[0m\n\u001b[1;32m   1090\u001b[0m       \u001b[0;31m# TODO(reedwm): We should assert input compatibility after the inputs\u001b[0m\u001b[0;34m\u001b[0m\u001b[0;34m\u001b[0m\u001b[0;34m\u001b[0m\u001b[0m\n\u001b[1;32m   1091\u001b[0m       \u001b[0;31m# are casted, not before.\u001b[0m\u001b[0;34m\u001b[0m\u001b[0;34m\u001b[0m\u001b[0;34m\u001b[0m\u001b[0m\n\u001b[0;32m-> 1092\u001b[0;31m       \u001b[0minput_spec\u001b[0m\u001b[0;34m.\u001b[0m\u001b[0massert_input_compatibility\u001b[0m\u001b[0;34m(\u001b[0m\u001b[0mself\u001b[0m\u001b[0;34m.\u001b[0m\u001b[0minput_spec\u001b[0m\u001b[0;34m,\u001b[0m \u001b[0minputs\u001b[0m\u001b[0;34m,\u001b[0m \u001b[0mself\u001b[0m\u001b[0;34m.\u001b[0m\u001b[0mname\u001b[0m\u001b[0;34m)\u001b[0m\u001b[0;34m\u001b[0m\u001b[0;34m\u001b[0m\u001b[0m\n\u001b[0m\u001b[1;32m   1093\u001b[0m       \u001b[0mgraph\u001b[0m \u001b[0;34m=\u001b[0m \u001b[0mbackend\u001b[0m\u001b[0;34m.\u001b[0m\u001b[0mget_graph\u001b[0m\u001b[0;34m(\u001b[0m\u001b[0;34m)\u001b[0m\u001b[0;34m\u001b[0m\u001b[0;34m\u001b[0m\u001b[0m\n\u001b[1;32m   1094\u001b[0m       \u001b[0;31m# Use `self._name_scope()` to avoid auto-incrementing the name.\u001b[0m\u001b[0;34m\u001b[0m\u001b[0;34m\u001b[0m\u001b[0;34m\u001b[0m\u001b[0m\n",
      "\u001b[0;32m/opt/conda/lib/python3.7/site-packages/tensorflow/python/keras/engine/input_spec.py\u001b[0m in \u001b[0;36massert_input_compatibility\u001b[0;34m(input_spec, inputs, layer_name)\u001b[0m\n\u001b[1;32m    194\u001b[0m                          \u001b[0;34m', found ndim='\u001b[0m \u001b[0;34m+\u001b[0m \u001b[0mstr\u001b[0m\u001b[0;34m(\u001b[0m\u001b[0mndim\u001b[0m\u001b[0;34m)\u001b[0m \u001b[0;34m+\u001b[0m\u001b[0;34m\u001b[0m\u001b[0;34m\u001b[0m\u001b[0m\n\u001b[1;32m    195\u001b[0m                          \u001b[0;34m'. Full shape received: '\u001b[0m \u001b[0;34m+\u001b[0m\u001b[0;34m\u001b[0m\u001b[0;34m\u001b[0m\u001b[0m\n\u001b[0;32m--> 196\u001b[0;31m                          str(x.shape.as_list()))\n\u001b[0m\u001b[1;32m    197\u001b[0m     \u001b[0;31m# Check dtype.\u001b[0m\u001b[0;34m\u001b[0m\u001b[0;34m\u001b[0m\u001b[0;34m\u001b[0m\u001b[0m\n\u001b[1;32m    198\u001b[0m     \u001b[0;32mif\u001b[0m \u001b[0mspec\u001b[0m\u001b[0;34m.\u001b[0m\u001b[0mdtype\u001b[0m \u001b[0;32mis\u001b[0m \u001b[0;32mnot\u001b[0m \u001b[0;32mNone\u001b[0m\u001b[0;34m:\u001b[0m\u001b[0;34m\u001b[0m\u001b[0;34m\u001b[0m\u001b[0m\n",
      "\u001b[0;31mValueError\u001b[0m: Input 0 of layer conv2d is incompatible with the layer: : expected min_ndim=4, found ndim=3. Full shape received: [None, 640, 360]"
     ]
    }
   ],
   "source": [
    "image_input = Input(shape=IMAGE_EXAMPLE_SHAPE)\n",
    "cnn_tower = CNNTower(num_conv_layers = 3,\n",
    "                     initial_channel_size = 128,\n",
    "                     initial_filter_size = (3, 3),\n",
    "                     dropout_rate = 0.20\n",
    "                    )\n",
    "x_cnn_tower = cnn_tower(image_input)"
   ]
  },
  {
   "cell_type": "code",
   "execution_count": 54,
   "id": "0dd09c36",
   "metadata": {},
   "outputs": [
    {
     "data": {
      "text/plain": [
       "(640, 360)"
      ]
     },
     "execution_count": 54,
     "metadata": {},
     "output_type": "execute_result"
    }
   ],
   "source": [
    "IMAGE_EXAMPLE_SHAPE"
   ]
  },
  {
   "cell_type": "code",
   "execution_count": 52,
   "id": "b910c3c7",
   "metadata": {},
   "outputs": [],
   "source": [
    "landmark_input = Input(shape=LANDMARK_EXAMPLE_SHAPE)\n",
    "dnn_tower = DNN(3, 1024, 0.2)\n",
    "\n",
    "x_dnn_tower = dnn_tower(landmark_input)"
   ]
  },
  {
   "cell_type": "code",
   "execution_count": 53,
   "id": "0b7f4d08",
   "metadata": {},
   "outputs": [
    {
     "ename": "NameError",
     "evalue": "name 'x_cnn_tower' is not defined",
     "output_type": "error",
     "traceback": [
      "\u001b[0;31m---------------------------------------------------------------------------\u001b[0m",
      "\u001b[0;31mNameError\u001b[0m                                 Traceback (most recent call last)",
      "\u001b[0;32m<ipython-input-53-cd3d0ce365cf>\u001b[0m in \u001b[0;36m<module>\u001b[0;34m\u001b[0m\n\u001b[0;32m----> 1\u001b[0;31m \u001b[0mx\u001b[0m \u001b[0;34m=\u001b[0m \u001b[0mconcatenate\u001b[0m\u001b[0;34m(\u001b[0m\u001b[0;34m[\u001b[0m\u001b[0mx_cnn_tower\u001b[0m\u001b[0;34m,\u001b[0m \u001b[0mx_dnn_tower\u001b[0m\u001b[0;34m]\u001b[0m\u001b[0;34m)\u001b[0m\u001b[0;34m\u001b[0m\u001b[0;34m\u001b[0m\u001b[0m\n\u001b[0m",
      "\u001b[0;31mNameError\u001b[0m: name 'x_cnn_tower' is not defined"
     ]
    }
   ],
   "source": [
    "x = concatenate([x_cnn_tower, x_dnn_tower])"
   ]
  },
  {
   "cell_type": "code",
   "execution_count": null,
   "id": "e82fdbab",
   "metadata": {},
   "outputs": [],
   "source": [
    "output_tower = DNN(3, 256, 0.2)\n",
    "x = output_tower(x)\n",
    "output = Dense(NUM_CLASSES, activation='softmax')(x)"
   ]
  },
  {
   "cell_type": "code",
   "execution_count": null,
   "id": "77826b6c",
   "metadata": {},
   "outputs": [],
   "source": [
    "model = Model(inputs=[image_input, landmark_input], outputs=[output])"
   ]
  },
  {
   "cell_type": "code",
   "execution_count": null,
   "id": "0903a6b9",
   "metadata": {},
   "outputs": [],
   "source": [
    "opt = optimizers.Adam()\n",
    "\n",
    "model.compile(loss='categorical_crossentropy',\n",
    "              optimizer=opt,\n",
    "              metrics=['accuracy'])"
   ]
  },
  {
   "cell_type": "code",
   "execution_count": null,
   "id": "2cd9ec9b",
   "metadata": {},
   "outputs": [],
   "source": [
    "# model.summary()"
   ]
  },
  {
   "cell_type": "code",
   "execution_count": null,
   "id": "00116333",
   "metadata": {},
   "outputs": [],
   "source": [
    "epochs = 100\n",
    "batch_size = 32"
   ]
  },
  {
   "cell_type": "code",
   "execution_count": null,
   "id": "27334302",
   "metadata": {},
   "outputs": [],
   "source": [
    "model.fit([X_train_imgs, X_train_landmarks], Y_train,\n",
    "          batch_size=batch_size,\n",
    "          epochs=epochs,\n",
    "#           callbacks=callbacks,\n",
    "          verbose=1,\n",
    "          validation_data=([X_val_imgs, X_val_landmarks], Y_val),\n",
    "          shuffle=True)"
   ]
  },
  {
   "cell_type": "code",
   "execution_count": null,
   "id": "56a4c0c3",
   "metadata": {},
   "outputs": [],
   "source": [
    "model.evaluate([X_test_imgs, X_test_landmarks], Y_test, verbose=1)"
   ]
  },
  {
   "cell_type": "code",
   "execution_count": null,
   "id": "32bc1931",
   "metadata": {},
   "outputs": [],
   "source": []
  },
  {
   "cell_type": "code",
   "execution_count": null,
   "id": "5befb8ce",
   "metadata": {},
   "outputs": [],
   "source": [
    "Y_preds = model.predict([X_test_imgs, X_test_landmarks])"
   ]
  },
  {
   "cell_type": "code",
   "execution_count": null,
   "id": "4d324dc9",
   "metadata": {},
   "outputs": [],
   "source": [
    "Y_test_labels = np.argmax(Y_test, axis=-1)\n",
    "Y_preds_labels = np.argmax(Y_preds, axis=-1)"
   ]
  },
  {
   "cell_type": "code",
   "execution_count": null,
   "id": "345a57c0",
   "metadata": {},
   "outputs": [],
   "source": [
    "print(sklearn.metrics.classification_report(Y_test_labels, Y_preds_labels))"
   ]
  },
  {
   "cell_type": "code",
   "execution_count": null,
   "id": "44b21806",
   "metadata": {},
   "outputs": [],
   "source": []
  },
  {
   "cell_type": "markdown",
   "id": "035c9f0b",
   "metadata": {},
   "source": [
    "# [Ablation] Image only"
   ]
  },
  {
   "cell_type": "code",
   "execution_count": null,
   "id": "dace9b4b",
   "metadata": {},
   "outputs": [],
   "source": [
    "image_input = Input(shape=IMAGE_EXAMPLE_SHAPE)\n",
    "cnn_tower = CNNTower(num_conv_layers = 3,\n",
    "                     initial_channel_size = 128,\n",
    "                     initial_filter_size = (3, 3),\n",
    "                     dropout_rate = 0.20\n",
    "                    )\n",
    "x_cnn_tower = cnn_tower(image_input)"
   ]
  },
  {
   "cell_type": "code",
   "execution_count": null,
   "id": "5ee6bd09",
   "metadata": {},
   "outputs": [],
   "source": [
    "output_tower = DNN(3, 256, 0.2)\n",
    "x = output_tower(x_cnn_tower)\n",
    "output = Dense(NUM_CLASSES, activation='softmax')(x)"
   ]
  },
  {
   "cell_type": "code",
   "execution_count": null,
   "id": "678bac79",
   "metadata": {},
   "outputs": [],
   "source": [
    "ablation_model_image = Model(inputs=[image_input], outputs=[output])"
   ]
  },
  {
   "cell_type": "code",
   "execution_count": null,
   "id": "ef831b12",
   "metadata": {},
   "outputs": [],
   "source": [
    "opt = optimizers.Adam()\n",
    "\n",
    "ablation_model_image.compile(loss='categorical_crossentropy',\n",
    "                             optimizer=opt,\n",
    "                             metrics=['accuracy'])"
   ]
  },
  {
   "cell_type": "code",
   "execution_count": null,
   "id": "a1d98afd",
   "metadata": {},
   "outputs": [],
   "source": [
    "epochs = 100\n",
    "batch_size = 32"
   ]
  },
  {
   "cell_type": "code",
   "execution_count": null,
   "id": "291ec0a8",
   "metadata": {},
   "outputs": [],
   "source": [
    "ablation_model_image.fit([X_train_imgs], Y_train,\n",
    "                         batch_size=batch_size,\n",
    "                         epochs=epochs,\n",
    "#                          callbacks=callbacks,\n",
    "                         verbose=1,\n",
    "                         validation_data=([X_val_imgs], Y_val),\n",
    "                         shuffle=True)"
   ]
  },
  {
   "cell_type": "code",
   "execution_count": null,
   "id": "6d2d9dbe",
   "metadata": {},
   "outputs": [],
   "source": [
    "Y_preds = ablation_model_image.predict([X_test_imgs, X_test_landmarks])"
   ]
  },
  {
   "cell_type": "code",
   "execution_count": null,
   "id": "b5accffa",
   "metadata": {},
   "outputs": [],
   "source": [
    "Y_test_labels = np.argmax(Y_test, axis=-1)\n",
    "Y_preds_labels = np.argmax(Y_preds, axis=-1)"
   ]
  },
  {
   "cell_type": "code",
   "execution_count": null,
   "id": "f25e347b",
   "metadata": {},
   "outputs": [],
   "source": [
    "print(sklearn.metrics.classification_report(Y_test_labels, Y_preds_labels))"
   ]
  },
  {
   "cell_type": "code",
   "execution_count": null,
   "id": "c9edde10",
   "metadata": {},
   "outputs": [],
   "source": []
  },
  {
   "cell_type": "markdown",
   "id": "ba2ebef3",
   "metadata": {},
   "source": [
    "# [Ablation] Pose Landmarks Only"
   ]
  },
  {
   "cell_type": "code",
   "execution_count": null,
   "id": "704759bb",
   "metadata": {},
   "outputs": [],
   "source": [
    "landmark_input = Input(shape=LANDMARK_EXAMPLE_SHAPE)\n",
    "dnn_tower = DNN(3, 1024, 0.2)\n",
    "\n",
    "x_dnn_tower = dnn_tower(landmark_input)"
   ]
  },
  {
   "cell_type": "code",
   "execution_count": null,
   "id": "9af54c08",
   "metadata": {},
   "outputs": [],
   "source": [
    "output_tower = DNN(3, 256, 0.2)\n",
    "x = output_tower(x_dnn_tower)\n",
    "output = Dense(NUM_CLASSES, activation='softmax')(x)"
   ]
  },
  {
   "cell_type": "code",
   "execution_count": null,
   "id": "05563980",
   "metadata": {},
   "outputs": [],
   "source": [
    "ablation_model_landmark = Model(inputs=[landmark_input], outputs=[output])"
   ]
  },
  {
   "cell_type": "code",
   "execution_count": null,
   "id": "2ee22439",
   "metadata": {},
   "outputs": [],
   "source": [
    "opt = optimizers.Adam()\n",
    "\n",
    "ablation_model_landmark.compile(loss='categorical_crossentropy',\n",
    "                                optimizer=opt,\n",
    "                                metrics=['accuracy'])"
   ]
  },
  {
   "cell_type": "code",
   "execution_count": null,
   "id": "38453d03",
   "metadata": {},
   "outputs": [],
   "source": [
    "epochs = 100\n",
    "batch_size = 32"
   ]
  },
  {
   "cell_type": "code",
   "execution_count": null,
   "id": "79a27960",
   "metadata": {},
   "outputs": [],
   "source": [
    "ablation_model_landmark.fit([X_train_landmarks], Y_train,\n",
    "                            batch_size=batch_size,\n",
    "                            epochs=epochs,\n",
    "#                          callbacks=callbacks,\n",
    "                            verbose=1,\n",
    "                            validation_data=([X_val_landmarks], Y_val),\n",
    "                            shuffle=True)"
   ]
  },
  {
   "cell_type": "code",
   "execution_count": null,
   "id": "6e3732fa",
   "metadata": {},
   "outputs": [],
   "source": [
    "Y_preds = ablation_model_landmark.predict([X_test_landmarks])"
   ]
  },
  {
   "cell_type": "code",
   "execution_count": null,
   "id": "4fac3bdc",
   "metadata": {},
   "outputs": [],
   "source": [
    "Y_test_labels = np.argmax(Y_test, axis=-1)\n",
    "Y_preds_labels = np.argmax(Y_preds, axis=-1)"
   ]
  },
  {
   "cell_type": "code",
   "execution_count": null,
   "id": "3b0ba3ec",
   "metadata": {},
   "outputs": [],
   "source": [
    "print(sklearn.metrics.classification_report(Y_test_labels, Y_preds_labels))"
   ]
  },
  {
   "cell_type": "code",
   "execution_count": null,
   "id": "6209a5b9",
   "metadata": {},
   "outputs": [],
   "source": []
  },
  {
   "cell_type": "code",
   "execution_count": null,
   "id": "54ea9305",
   "metadata": {},
   "outputs": [],
   "source": []
  },
  {
   "cell_type": "code",
   "execution_count": null,
   "id": "f1c86a6b",
   "metadata": {},
   "outputs": [],
   "source": []
  }
 ],
 "metadata": {
  "environment": {
   "name": "tf2-gpu.2-3.m69",
   "type": "gcloud",
   "uri": "gcr.io/deeplearning-platform-release/tf2-gpu.2-3:m69"
  },
  "kernelspec": {
   "display_name": "Python [conda env:root] *",
   "language": "python",
   "name": "conda-root-py"
  },
  "language_info": {
   "codemirror_mode": {
    "name": "ipython",
    "version": 3
   },
   "file_extension": ".py",
   "mimetype": "text/x-python",
   "name": "python",
   "nbconvert_exporter": "python",
   "pygments_lexer": "ipython3",
   "version": "3.7.10"
  }
 },
 "nbformat": 4,
 "nbformat_minor": 5
}
