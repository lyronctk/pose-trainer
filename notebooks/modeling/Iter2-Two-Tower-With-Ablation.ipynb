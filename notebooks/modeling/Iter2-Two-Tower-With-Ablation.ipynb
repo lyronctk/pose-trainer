{
 "cells": [
  {
   "cell_type": "code",
   "execution_count": 1,
   "id": "7e703fa8",
   "metadata": {},
   "outputs": [
    {
     "name": "stderr",
     "output_type": "stream",
     "text": [
      "Using TensorFlow backend.\n"
     ]
    }
   ],
   "source": [
    "import tensorflow as tf\n",
    "\n",
    "import matplotlib.pyplot as plt\n",
    "import matplotlib.ticker as ticker\n",
    "import sklearn\n",
    "from sklearn.model_selection import train_test_split\n",
    "\n",
    "import itertools\n",
    "from typing import List, Tuple\n",
    "import copy\n",
    "import seaborn as sns\n",
    "import unicodedata\n",
    "import re\n",
    "import numpy as np\n",
    "import os\n",
    "import io\n",
    "from skimage.io import imread\n",
    "import time\n",
    "from ast import literal_eval\n",
    "import math\n",
    "from collections import defaultdict\n",
    "from statistics import median, mean\n",
    "\n",
    "import keras\n",
    "from keras import optimizers\n",
    "from keras.preprocessing.image import load_img\n",
    "from keras.layers import Input, Dense, Flatten, Dropout, Conv2D, MaxPooling2D, Activation, concatenate, BatchNormalization\n",
    "from keras.layers.advanced_activations import LeakyReLU\n",
    "from keras.models import Model\n",
    "\n",
    "import pandas as pd\n",
    "\n",
    "import warnings\n",
    "warnings.filterwarnings('ignore')"
   ]
  },
  {
   "cell_type": "code",
   "execution_count": null,
   "id": "ed27a81e",
   "metadata": {},
   "outputs": [],
   "source": []
  },
  {
   "cell_type": "markdown",
   "id": "f83bfd9a",
   "metadata": {},
   "source": [
    "# Parse and Load Dataset"
   ]
  },
  {
   "cell_type": "code",
   "execution_count": null,
   "id": "202356c4",
   "metadata": {},
   "outputs": [],
   "source": []
  },
  {
   "cell_type": "code",
   "execution_count": 2,
   "id": "38b6b0ba",
   "metadata": {},
   "outputs": [],
   "source": [
    "TARGET_SIZE = (640, 360)\n",
    "IMAGE_EXAMPLE_SHAPE = TARGET_SIZE + (3,)\n",
    "\n",
    "LANDMARK_EXAMPLE_SHAPE = (39, )\n",
    "\n",
    "BASE_PATH = '/home/lancecotingkeh/aggregated/'\n",
    "LABEL_TO_ENCODING = {'proper': 0, 'crooked': 1, 'lockout': 2, 'rounded': 3, 'squat': 4}\n",
    "NUM_CLASSES = len(LABEL_TO_ENCODING)"
   ]
  },
  {
   "cell_type": "code",
   "execution_count": null,
   "id": "eb66b44b",
   "metadata": {},
   "outputs": [],
   "source": []
  },
  {
   "cell_type": "code",
   "execution_count": null,
   "id": "17b8f007",
   "metadata": {},
   "outputs": [],
   "source": []
  },
  {
   "cell_type": "code",
   "execution_count": 3,
   "id": "853783d7",
   "metadata": {},
   "outputs": [],
   "source": [
    "df_metadata = pd.read_csv('/home/lancecotingkeh/aggregated/pose_landmarks.csv')"
   ]
  },
  {
   "cell_type": "code",
   "execution_count": 4,
   "id": "b83d276e",
   "metadata": {},
   "outputs": [
    {
     "data": {
      "text/html": [
       "<div>\n",
       "<style scoped>\n",
       "    .dataframe tbody tr th:only-of-type {\n",
       "        vertical-align: middle;\n",
       "    }\n",
       "\n",
       "    .dataframe tbody tr th {\n",
       "        vertical-align: top;\n",
       "    }\n",
       "\n",
       "    .dataframe thead th {\n",
       "        text-align: right;\n",
       "    }\n",
       "</style>\n",
       "<table border=\"1\" class=\"dataframe\">\n",
       "  <thead>\n",
       "    <tr style=\"text-align: right;\">\n",
       "      <th></th>\n",
       "      <th>relative_image_path</th>\n",
       "      <th>data_split</th>\n",
       "      <th>label</th>\n",
       "      <th>landmark_nose</th>\n",
       "      <th>landmark_left_shoulder</th>\n",
       "      <th>landmark_right_shoulder</th>\n",
       "      <th>landmark_left_elbow</th>\n",
       "      <th>landmark_right_elbow</th>\n",
       "      <th>landmark_left_wrist</th>\n",
       "      <th>landmark_right_wrist</th>\n",
       "      <th>landmark_left_hip</th>\n",
       "      <th>landmark_right_hip</th>\n",
       "      <th>landmark_left_knee</th>\n",
       "      <th>landmark_right_knee</th>\n",
       "      <th>landmark_left_ankle</th>\n",
       "      <th>landmark_right_ankle</th>\n",
       "    </tr>\n",
       "  </thead>\n",
       "  <tbody>\n",
       "    <tr>\n",
       "      <th>0</th>\n",
       "      <td>5_lockout/lyron_deg135_take2/frame46.jpg</td>\n",
       "      <td>train</td>\n",
       "      <td>proper</td>\n",
       "      <td>(0.8408212661743164, 0.44535547494888306, -0.6...</td>\n",
       "      <td>(0.7523922920227051, 0.483453631401062, -0.080...</td>\n",
       "      <td>(0.59047532081604, 0.4363204836845398, -0.5876...</td>\n",
       "      <td>(0.7419312596321106, 0.6247938871383667, 0.025...</td>\n",
       "      <td>(0.5161336064338684, 0.5835246443748474, -0.57...</td>\n",
       "      <td>(0.7500355839729309, 0.7468990683555603, -0.06...</td>\n",
       "      <td>(0.5082715749740601, 0.7348905205726624, -0.60...</td>\n",
       "      <td>(0.4615359604358673, 0.5611119866371155, 0.148...</td>\n",
       "      <td>(0.34500354528427124, 0.5380272269248962, -0.1...</td>\n",
       "      <td>(0.701583981513977, 0.6245787739753723, -0.039...</td>\n",
       "      <td>(0.5147499442100525, 0.576558530330658, -0.833...</td>\n",
       "      <td>(0.6168646812438965, 0.8138770461082458, 0.163...</td>\n",
       "      <td>(0.4869398772716522, 0.7884341478347778, -0.77...</td>\n",
       "    </tr>\n",
       "    <tr>\n",
       "      <th>1</th>\n",
       "      <td>5_lockout/lyron_deg135_take2/frame203.jpg</td>\n",
       "      <td>train</td>\n",
       "      <td>proper</td>\n",
       "      <td>(0.8654815554618835, 0.4472369849681854, -0.59...</td>\n",
       "      <td>(0.7866912484169006, 0.5048587322235107, -0.12...</td>\n",
       "      <td>(0.6134108901023865, 0.4505915343761444, -0.55...</td>\n",
       "      <td>(0.7522295713424683, 0.6383607983589172, -0.09...</td>\n",
       "      <td>(0.5366990566253662, 0.5983656644821167, -0.55...</td>\n",
       "      <td>(0.7443258762359619, 0.7658225893974304, -0.16...</td>\n",
       "      <td>(0.5270508527755737, 0.7469443678855896, -0.51...</td>\n",
       "      <td>(0.49029654264450073, 0.565066397190094, 0.141...</td>\n",
       "      <td>(0.3752322196960449, 0.5404682159423828, -0.14...</td>\n",
       "      <td>(0.721193253993988, 0.6225733160972595, 0.0097...</td>\n",
       "      <td>(0.604214072227478, 0.5913941860198975, -0.544...</td>\n",
       "      <td>(0.6175094246864319, 0.7968677282333374, 0.155...</td>\n",
       "      <td>(0.4880143404006958, 0.7921530604362488, -0.41...</td>\n",
       "    </tr>\n",
       "    <tr>\n",
       "      <th>2</th>\n",
       "      <td>5_lockout/lyron_deg135_take2/frame207.jpg</td>\n",
       "      <td>train</td>\n",
       "      <td>proper</td>\n",
       "      <td>(0.8618521690368652, 0.42703595757484436, -0.5...</td>\n",
       "      <td>(0.7759232521057129, 0.48765045404434204, -0.0...</td>\n",
       "      <td>(0.6108279228210449, 0.43047401309013367, -0.4...</td>\n",
       "      <td>(0.7476211786270142, 0.6245181560516357, 0.032...</td>\n",
       "      <td>(0.526120126247406, 0.5700463652610779, -0.489...</td>\n",
       "      <td>(0.7355574369430542, 0.7427244186401367, -0.06...</td>\n",
       "      <td>(0.5221640467643738, 0.7184542417526245, -0.49...</td>\n",
       "      <td>(0.4879094958305359, 0.5496541261672974, 0.132...</td>\n",
       "      <td>(0.37393078207969666, 0.5203757286071777, -0.1...</td>\n",
       "      <td>(0.7107850313186646, 0.6180444359779358, 0.138...</td>\n",
       "      <td>(0.574447512626648, 0.5620325207710266, -0.697...</td>\n",
       "      <td>(0.5569970607757568, 0.7731618285179138, 0.340...</td>\n",
       "      <td>(0.47665083408355713, 0.7690679430961609, -0.6...</td>\n",
       "    </tr>\n",
       "  </tbody>\n",
       "</table>\n",
       "</div>"
      ],
      "text/plain": [
       "                         relative_image_path data_split   label  \\\n",
       "0   5_lockout/lyron_deg135_take2/frame46.jpg      train  proper   \n",
       "1  5_lockout/lyron_deg135_take2/frame203.jpg      train  proper   \n",
       "2  5_lockout/lyron_deg135_take2/frame207.jpg      train  proper   \n",
       "\n",
       "                                       landmark_nose  \\\n",
       "0  (0.8408212661743164, 0.44535547494888306, -0.6...   \n",
       "1  (0.8654815554618835, 0.4472369849681854, -0.59...   \n",
       "2  (0.8618521690368652, 0.42703595757484436, -0.5...   \n",
       "\n",
       "                              landmark_left_shoulder  \\\n",
       "0  (0.7523922920227051, 0.483453631401062, -0.080...   \n",
       "1  (0.7866912484169006, 0.5048587322235107, -0.12...   \n",
       "2  (0.7759232521057129, 0.48765045404434204, -0.0...   \n",
       "\n",
       "                             landmark_right_shoulder  \\\n",
       "0  (0.59047532081604, 0.4363204836845398, -0.5876...   \n",
       "1  (0.6134108901023865, 0.4505915343761444, -0.55...   \n",
       "2  (0.6108279228210449, 0.43047401309013367, -0.4...   \n",
       "\n",
       "                                 landmark_left_elbow  \\\n",
       "0  (0.7419312596321106, 0.6247938871383667, 0.025...   \n",
       "1  (0.7522295713424683, 0.6383607983589172, -0.09...   \n",
       "2  (0.7476211786270142, 0.6245181560516357, 0.032...   \n",
       "\n",
       "                                landmark_right_elbow  \\\n",
       "0  (0.5161336064338684, 0.5835246443748474, -0.57...   \n",
       "1  (0.5366990566253662, 0.5983656644821167, -0.55...   \n",
       "2  (0.526120126247406, 0.5700463652610779, -0.489...   \n",
       "\n",
       "                                 landmark_left_wrist  \\\n",
       "0  (0.7500355839729309, 0.7468990683555603, -0.06...   \n",
       "1  (0.7443258762359619, 0.7658225893974304, -0.16...   \n",
       "2  (0.7355574369430542, 0.7427244186401367, -0.06...   \n",
       "\n",
       "                                landmark_right_wrist  \\\n",
       "0  (0.5082715749740601, 0.7348905205726624, -0.60...   \n",
       "1  (0.5270508527755737, 0.7469443678855896, -0.51...   \n",
       "2  (0.5221640467643738, 0.7184542417526245, -0.49...   \n",
       "\n",
       "                                   landmark_left_hip  \\\n",
       "0  (0.4615359604358673, 0.5611119866371155, 0.148...   \n",
       "1  (0.49029654264450073, 0.565066397190094, 0.141...   \n",
       "2  (0.4879094958305359, 0.5496541261672974, 0.132...   \n",
       "\n",
       "                                  landmark_right_hip  \\\n",
       "0  (0.34500354528427124, 0.5380272269248962, -0.1...   \n",
       "1  (0.3752322196960449, 0.5404682159423828, -0.14...   \n",
       "2  (0.37393078207969666, 0.5203757286071777, -0.1...   \n",
       "\n",
       "                                  landmark_left_knee  \\\n",
       "0  (0.701583981513977, 0.6245787739753723, -0.039...   \n",
       "1  (0.721193253993988, 0.6225733160972595, 0.0097...   \n",
       "2  (0.7107850313186646, 0.6180444359779358, 0.138...   \n",
       "\n",
       "                                 landmark_right_knee  \\\n",
       "0  (0.5147499442100525, 0.576558530330658, -0.833...   \n",
       "1  (0.604214072227478, 0.5913941860198975, -0.544...   \n",
       "2  (0.574447512626648, 0.5620325207710266, -0.697...   \n",
       "\n",
       "                                 landmark_left_ankle  \\\n",
       "0  (0.6168646812438965, 0.8138770461082458, 0.163...   \n",
       "1  (0.6175094246864319, 0.7968677282333374, 0.155...   \n",
       "2  (0.5569970607757568, 0.7731618285179138, 0.340...   \n",
       "\n",
       "                                landmark_right_ankle  \n",
       "0  (0.4869398772716522, 0.7884341478347778, -0.77...  \n",
       "1  (0.4880143404006958, 0.7921530604362488, -0.41...  \n",
       "2  (0.47665083408355713, 0.7690679430961609, -0.6...  "
      ]
     },
     "execution_count": 4,
     "metadata": {},
     "output_type": "execute_result"
    }
   ],
   "source": [
    "df_metadata.head(3)"
   ]
  },
  {
   "cell_type": "code",
   "execution_count": 5,
   "id": "768790c7",
   "metadata": {},
   "outputs": [
    {
     "data": {
      "text/plain": [
       "['landmark_nose',\n",
       " 'landmark_left_shoulder',\n",
       " 'landmark_right_shoulder',\n",
       " 'landmark_left_elbow',\n",
       " 'landmark_right_elbow',\n",
       " 'landmark_left_wrist',\n",
       " 'landmark_right_wrist',\n",
       " 'landmark_left_hip',\n",
       " 'landmark_right_hip',\n",
       " 'landmark_left_knee',\n",
       " 'landmark_right_knee',\n",
       " 'landmark_left_ankle',\n",
       " 'landmark_right_ankle']"
      ]
     },
     "execution_count": 5,
     "metadata": {},
     "output_type": "execute_result"
    }
   ],
   "source": [
    "landmark_columns = [col for col in df_metadata if col.startswith('landmark_')]\n",
    "landmark_columns"
   ]
  },
  {
   "cell_type": "code",
   "execution_count": 6,
   "id": "426787ff",
   "metadata": {},
   "outputs": [],
   "source": [
    "def load_preprocess_imgs(image_paths: List[str]) -> np.ndarray:\n",
    "    images = []\n",
    "    for image_path in image_paths:\n",
    "        img = load_img(image_path, target_size=TARGET_SIZE)        \n",
    "        np_img = np.asarray(img)\n",
    "\n",
    "        assert np_img.shape == IMAGE_EXAMPLE_SHAPE\n",
    "        \n",
    "        images.append(np_img)\n",
    "    return np.array(images)"
   ]
  },
  {
   "cell_type": "code",
   "execution_count": 7,
   "id": "fb078a15",
   "metadata": {},
   "outputs": [],
   "source": [
    "def load_preprocess_landmarks(df_metadata) -> np.ndarray:\n",
    "    landmark_examples = []\n",
    "    \n",
    "    for row in df_metadata.iterrows():\n",
    "        single_example = []\n",
    "        \n",
    "        for landmark in landmark_columns:\n",
    "            x, y, z = literal_eval(row[1][landmark])\n",
    "            \n",
    "            single_example.extend([x, y, z])\n",
    "        \n",
    "        landmark_examples.append(np.array(single_example))\n",
    "    return np.array(landmark_examples)"
   ]
  },
  {
   "cell_type": "code",
   "execution_count": 8,
   "id": "adfba203",
   "metadata": {},
   "outputs": [],
   "source": [
    "# load training data\n",
    "\n",
    "df_train = df_metadata[df_metadata['data_split'] == 'train']\n",
    "X_train_imgs = load_preprocess_imgs([f'{BASE_PATH}{p}' for p in df_train['relative_image_path']])\n",
    "X_train_landmarks = load_preprocess_landmarks(df_train)\n",
    "Y_train = keras.utils.to_categorical([LABEL_TO_ENCODING[l] for l in df_train['label']], 5)"
   ]
  },
  {
   "cell_type": "code",
   "execution_count": 9,
   "id": "a9408d43",
   "metadata": {},
   "outputs": [
    {
     "data": {
      "text/plain": [
       "(589, 589, 589, 589)"
      ]
     },
     "execution_count": 9,
     "metadata": {},
     "output_type": "execute_result"
    }
   ],
   "source": [
    "len(df_train), len(X_train_imgs), len(X_train_landmarks), len(Y_train)"
   ]
  },
  {
   "cell_type": "code",
   "execution_count": 10,
   "id": "d6b40636",
   "metadata": {},
   "outputs": [],
   "source": [
    "# load validation data\n",
    "df_val = df_metadata[df_metadata['data_split'] == 'val']\n",
    "X_val_imgs = load_preprocess_imgs([f'{BASE_PATH}{p}' for p in df_val['relative_image_path']])\n",
    "X_val_landmarks = load_preprocess_landmarks(df_val)\n",
    "Y_val = keras.utils.to_categorical([LABEL_TO_ENCODING[l] for l in df_val['label']], 5)"
   ]
  },
  {
   "cell_type": "code",
   "execution_count": 11,
   "id": "be4db2e0",
   "metadata": {},
   "outputs": [
    {
     "data": {
      "text/plain": [
       "(100, 100, 100, 100)"
      ]
     },
     "execution_count": 11,
     "metadata": {},
     "output_type": "execute_result"
    }
   ],
   "source": [
    "len(df_val), len(X_val_imgs), len(X_val_landmarks), len(Y_val)"
   ]
  },
  {
   "cell_type": "code",
   "execution_count": 12,
   "id": "f704922f",
   "metadata": {},
   "outputs": [],
   "source": [
    "# load test data\n",
    "df_test = df_metadata[df_metadata['data_split'] == 'test']\n",
    "X_test_imgs = load_preprocess_imgs([f'{BASE_PATH}{p}' for p in df_test['relative_image_path']])\n",
    "X_test_landmarks = load_preprocess_landmarks(df_test)\n",
    "Y_test = keras.utils.to_categorical([LABEL_TO_ENCODING[l] for l in df_test['label']], 5)"
   ]
  },
  {
   "cell_type": "code",
   "execution_count": 13,
   "id": "05cf1bfe",
   "metadata": {},
   "outputs": [
    {
     "data": {
      "text/plain": [
       "(200, 200, 200, 200)"
      ]
     },
     "execution_count": 13,
     "metadata": {},
     "output_type": "execute_result"
    }
   ],
   "source": [
    "len(df_test), len(X_test_imgs), len(X_test_landmarks), len(Y_test)"
   ]
  },
  {
   "cell_type": "code",
   "execution_count": null,
   "id": "605d12b6",
   "metadata": {},
   "outputs": [],
   "source": []
  },
  {
   "cell_type": "code",
   "execution_count": 14,
   "id": "a93dc672",
   "metadata": {},
   "outputs": [
    {
     "data": {
      "text/plain": [
       "(640, 360, 3)"
      ]
     },
     "execution_count": 14,
     "metadata": {},
     "output_type": "execute_result"
    }
   ],
   "source": [
    "IMAGE_EXAMPLE_SHAPE"
   ]
  },
  {
   "cell_type": "markdown",
   "id": "d3237d99",
   "metadata": {},
   "source": [
    "# Define Layers"
   ]
  },
  {
   "cell_type": "code",
   "execution_count": 15,
   "id": "c0994b22",
   "metadata": {},
   "outputs": [],
   "source": [
    "initializer = tf.initializers.VarianceScaling(scale=2.0)\n",
    "\n",
    "class ConvGroupLayer(tf.keras.layers.Layer):\n",
    "    def __init__(self, channel_size: int, filter_size: Tuple[int, int], dropout_rate: float):\n",
    "        self.conv = Conv2D(channel_size, filter_size, padding='same', kernel_initializer=initializer)\n",
    "        self.max_pool = MaxPooling2D(filter_size)\n",
    "        self.bn = BatchNormalization(axis=-1)\n",
    "        self.relu = LeakyReLU(alpha=0.1)\n",
    "        self.drop_out = Dropout(dropout_rate)\n",
    "    \n",
    "    def __call__(self, x):\n",
    "        x = self.conv(x)\n",
    "        x = self.max_pool(x)\n",
    "        x = self.bn(x)\n",
    "        x = self.relu(x)\n",
    "        x = self.drop_out(x)\n",
    "        \n",
    "        return x\n",
    "\n",
    "class CNNTower(tf.keras.layers.Layer):\n",
    "    def __init__(self, num_conv_layers:int, initial_channel_size: int, initial_filter_size: Tuple[int, int], dropout_rate: float):\n",
    "        self.initial_conv = Conv2D(initial_channel_size, initial_filter_size, padding='same', kernel_initializer=initializer, input_shape=IMAGE_EXAMPLE_SHAPE)\n",
    "        self.initial_max_pool = MaxPooling2D(initial_filter_size, padding='same')\n",
    "        self.initial_bn = BatchNormalization(axis=-1)\n",
    "        self.initial_relu = LeakyReLU(alpha=0.1)\n",
    "        self.initial_drop_out = Dropout(dropout_rate)\n",
    "        \n",
    "        self.intermediate_conv_layers = []\n",
    "        \n",
    "        for idx in range(num_conv_layers):\n",
    "            channel_size = initial_channel_size//(2**(idx+1))\n",
    "            \n",
    "            self.intermediate_conv_layers.append(ConvGroupLayer(channel_size, initial_filter_size, dropout_rate))\n",
    "            \n",
    "    def __call__(self, x):\n",
    "        x = self.initial_conv(x)\n",
    "        x = self.initial_max_pool(x)\n",
    "        x = self.initial_bn(x)\n",
    "        x = self.initial_relu(x)\n",
    "        x = self.initial_drop_out(x)\n",
    "        \n",
    "        for layer in self.intermediate_conv_layers:\n",
    "            x = layer(x)\n",
    "            \n",
    "        return Flatten()(x)\n",
    "            \n",
    "        \n",
    "        \n",
    "        \n",
    "        "
   ]
  },
  {
   "cell_type": "code",
   "execution_count": 16,
   "id": "43a3f76f",
   "metadata": {},
   "outputs": [
    {
     "data": {
      "text/plain": [
       "<tf.Tensor: shape=(32, 448), dtype=float32, numpy=\n",
       "array([[481.68216 , 117.24413 , 286.0591  , ..., 780.04736 , 229.16895 ,\n",
       "        431.8591  ],\n",
       "       [512.6173  , 124.067314, 266.7232  , ..., 797.6442  , 219.39418 ,\n",
       "        415.07407 ],\n",
       "       [548.1993  , 140.68118 , 297.74728 , ..., 781.6818  , 202.63403 ,\n",
       "        422.85928 ],\n",
       "       ...,\n",
       "       [562.4627  , 153.69173 , 283.8444  , ..., 767.04944 , 205.20067 ,\n",
       "        450.4334  ],\n",
       "       [542.22076 , 173.38083 , 277.2708  , ..., 782.0031  , 201.2753  ,\n",
       "        441.12256 ],\n",
       "       [508.33386 ,  80.07395 , 294.59195 , ..., 766.78107 , 221.42638 ,\n",
       "        430.23126 ]], dtype=float32)>"
      ]
     },
     "execution_count": 16,
     "metadata": {},
     "output_type": "execute_result"
    }
   ],
   "source": [
    "cnn_tower = CNNTower(num_conv_layers = 3,\n",
    "                     initial_channel_size = 128,\n",
    "                     initial_filter_size = (3, 3),\n",
    "                     dropout_rate = 0.20\n",
    "                    )\n",
    "cnn_tower(tf.random.uniform((32, 640, 360, 3), dtype=tf.float32, minval=0, maxval=256))"
   ]
  },
  {
   "cell_type": "code",
   "execution_count": null,
   "id": "4b03317c",
   "metadata": {},
   "outputs": [],
   "source": []
  },
  {
   "cell_type": "code",
   "execution_count": null,
   "id": "836f9acc",
   "metadata": {},
   "outputs": [],
   "source": []
  },
  {
   "cell_type": "code",
   "execution_count": null,
   "id": "78267c52",
   "metadata": {},
   "outputs": [],
   "source": []
  },
  {
   "cell_type": "code",
   "execution_count": null,
   "id": "45d5e138",
   "metadata": {},
   "outputs": [],
   "source": []
  },
  {
   "cell_type": "code",
   "execution_count": 17,
   "id": "0dae30ec",
   "metadata": {},
   "outputs": [],
   "source": [
    "class DNN(tf.keras.layers.Layer):\n",
    "    def __init__(self, num_layers: int, initial_dense_size: int, dropout_rate: float):\n",
    "        self.layers = []\n",
    "        \n",
    "        for idx in range(num_layers):\n",
    "            self.layers.append(Dense(initial_dense_size//(2**idx)))\n",
    "            self.layers.append(tf.keras.layers.BatchNormalization())\n",
    "            self.layers.append(LeakyReLU(alpha=0.1))\n",
    "            \n",
    "    def __call__(self, x):\n",
    "        for layer in self.layers:\n",
    "            x = layer(x)\n",
    "\n",
    "        return x\n",
    "            \n",
    "            \n",
    "    "
   ]
  },
  {
   "cell_type": "code",
   "execution_count": 18,
   "id": "57625545",
   "metadata": {},
   "outputs": [
    {
     "data": {
      "text/plain": [
       "<tf.Tensor: shape=(32, 64), dtype=float32, numpy=\n",
       "array([[ 2.44961873e-01, -4.28758897e-02, -5.47311865e-02, ...,\n",
       "        -2.03106739e-02,  1.53838217e-01,  4.16802168e-01],\n",
       "       [-2.77533326e-02, -3.77547625e-03, -6.68615028e-02, ...,\n",
       "        -4.14037853e-02,  4.03724074e-01,  4.00969267e-01],\n",
       "       [ 4.60152812e-02, -4.00812551e-02, -6.56707808e-02, ...,\n",
       "        -2.26197410e-02,  1.12396866e-01,  3.81510973e-01],\n",
       "       ...,\n",
       "       [-1.29463989e-02, -2.12700125e-02, -1.73682496e-02, ...,\n",
       "        -1.98369753e-02,  3.35701078e-01,  1.53319106e-01],\n",
       "       [ 1.87113687e-01, -1.92494951e-02, -5.21184579e-02, ...,\n",
       "        -1.29027234e-04, -3.17534991e-02,  5.28111517e-01],\n",
       "       [ 2.07876340e-01, -4.46629897e-02, -5.29783666e-02, ...,\n",
       "        -4.77412753e-02,  1.16185442e-01,  5.46506226e-01]], dtype=float32)>"
      ]
     },
     "execution_count": 18,
     "metadata": {},
     "output_type": "execute_result"
    }
   ],
   "source": [
    "dnn = DNN(3, 256, 0.2)\n",
    "dnn(tf.random.uniform((32, 488), dtype=tf.float32))"
   ]
  },
  {
   "cell_type": "code",
   "execution_count": null,
   "id": "9875f326",
   "metadata": {},
   "outputs": [],
   "source": []
  },
  {
   "cell_type": "markdown",
   "id": "0852cdb4",
   "metadata": {},
   "source": [
    "# Two Tower Input Model"
   ]
  },
  {
   "cell_type": "code",
   "execution_count": 19,
   "id": "fe54c416",
   "metadata": {},
   "outputs": [],
   "source": [
    "image_input = Input(shape=IMAGE_EXAMPLE_SHAPE)\n",
    "cnn_tower = CNNTower(num_conv_layers = 3,\n",
    "                     initial_channel_size = 128,\n",
    "                     initial_filter_size = (3, 3),\n",
    "                     dropout_rate = 0.20\n",
    "                    )\n",
    "x_cnn_tower = cnn_tower(image_input)"
   ]
  },
  {
   "cell_type": "code",
   "execution_count": 20,
   "id": "39dfdb23",
   "metadata": {},
   "outputs": [],
   "source": [
    "landmark_input = Input(shape=LANDMARK_EXAMPLE_SHAPE)\n",
    "dnn_tower = DNN(3, 1024, 0.2)\n",
    "\n",
    "x_dnn_tower = dnn_tower(landmark_input)"
   ]
  },
  {
   "cell_type": "code",
   "execution_count": 21,
   "id": "434cb9ee",
   "metadata": {},
   "outputs": [],
   "source": [
    "x = concatenate([x_cnn_tower, x_dnn_tower])"
   ]
  },
  {
   "cell_type": "code",
   "execution_count": 22,
   "id": "807f651b",
   "metadata": {},
   "outputs": [],
   "source": [
    "output_tower = DNN(3, 256, 0.2)\n",
    "x = output_tower(x)\n",
    "output = Dense(NUM_CLASSES, activation='softmax')(x)"
   ]
  },
  {
   "cell_type": "code",
   "execution_count": 23,
   "id": "f61f8ae9",
   "metadata": {},
   "outputs": [],
   "source": [
    "model = Model(inputs=[image_input, landmark_input], outputs=[output])"
   ]
  },
  {
   "cell_type": "code",
   "execution_count": 24,
   "id": "760f991a",
   "metadata": {},
   "outputs": [],
   "source": [
    "opt = optimizers.Adam()\n",
    "\n",
    "model.compile(loss='categorical_crossentropy',\n",
    "              optimizer=opt,\n",
    "              metrics=['accuracy'])"
   ]
  },
  {
   "cell_type": "code",
   "execution_count": 25,
   "id": "7e1f88f2",
   "metadata": {},
   "outputs": [],
   "source": [
    "# model.summary()"
   ]
  },
  {
   "cell_type": "code",
   "execution_count": 26,
   "id": "bf0ba305",
   "metadata": {},
   "outputs": [],
   "source": [
    "epochs = 50\n",
    "batch_size = 32"
   ]
  },
  {
   "cell_type": "code",
   "execution_count": 27,
   "id": "3e80fab9",
   "metadata": {},
   "outputs": [
    {
     "name": "stdout",
     "output_type": "stream",
     "text": [
      "Epoch 1/100\n",
      "19/19 [==============================] - 9s 451ms/step - loss: 1.1365 - accuracy: 0.5569 - val_loss: 3.6664 - val_accuracy: 0.6700\n",
      "Epoch 2/100\n",
      "19/19 [==============================] - 8s 401ms/step - loss: 0.6948 - accuracy: 0.7742 - val_loss: 4.4622 - val_accuracy: 0.6800\n",
      "Epoch 3/100\n",
      "19/19 [==============================] - 8s 407ms/step - loss: 0.4847 - accuracy: 0.8234 - val_loss: 3.0830 - val_accuracy: 0.6800\n",
      "Epoch 4/100\n",
      "19/19 [==============================] - 8s 411ms/step - loss: 0.3905 - accuracy: 0.8659 - val_loss: 3.0708 - val_accuracy: 0.6800\n",
      "Epoch 5/100\n",
      "19/19 [==============================] - 8s 408ms/step - loss: 0.3400 - accuracy: 0.8812 - val_loss: 1.4034 - val_accuracy: 0.6900\n",
      "Epoch 6/100\n",
      "19/19 [==============================] - 8s 402ms/step - loss: 0.3013 - accuracy: 0.8947 - val_loss: 1.0876 - val_accuracy: 0.6900\n",
      "Epoch 7/100\n",
      "19/19 [==============================] - 8s 399ms/step - loss: 0.2870 - accuracy: 0.9015 - val_loss: 0.8729 - val_accuracy: 0.7400\n",
      "Epoch 8/100\n",
      "19/19 [==============================] - 8s 398ms/step - loss: 0.3036 - accuracy: 0.8930 - val_loss: 0.7252 - val_accuracy: 0.7300\n",
      "Epoch 9/100\n",
      "19/19 [==============================] - 8s 396ms/step - loss: 0.2432 - accuracy: 0.9185 - val_loss: 0.6566 - val_accuracy: 0.7600\n",
      "Epoch 10/100\n",
      "19/19 [==============================] - 8s 399ms/step - loss: 0.2532 - accuracy: 0.8947 - val_loss: 0.5578 - val_accuracy: 0.7900\n",
      "Epoch 11/100\n",
      "19/19 [==============================] - 8s 399ms/step - loss: 0.2521 - accuracy: 0.9151 - val_loss: 0.6586 - val_accuracy: 0.7700\n",
      "Epoch 12/100\n",
      "19/19 [==============================] - 8s 400ms/step - loss: 0.2296 - accuracy: 0.9151 - val_loss: 0.5567 - val_accuracy: 0.7300\n",
      "Epoch 13/100\n",
      "19/19 [==============================] - 8s 401ms/step - loss: 0.1795 - accuracy: 0.9338 - val_loss: 0.6299 - val_accuracy: 0.7600\n",
      "Epoch 14/100\n",
      "19/19 [==============================] - 8s 402ms/step - loss: 0.2051 - accuracy: 0.9236 - val_loss: 0.6350 - val_accuracy: 0.7500\n",
      "Epoch 15/100\n",
      "19/19 [==============================] - 8s 402ms/step - loss: 0.1853 - accuracy: 0.9185 - val_loss: 0.6116 - val_accuracy: 0.7300\n",
      "Epoch 16/100\n",
      "19/19 [==============================] - 8s 401ms/step - loss: 0.2034 - accuracy: 0.9134 - val_loss: 0.4582 - val_accuracy: 0.8400\n",
      "Epoch 17/100\n",
      "19/19 [==============================] - 8s 400ms/step - loss: 0.1652 - accuracy: 0.9491 - val_loss: 0.4636 - val_accuracy: 0.8500\n",
      "Epoch 18/100\n",
      "19/19 [==============================] - 8s 399ms/step - loss: 0.1422 - accuracy: 0.9474 - val_loss: 0.4583 - val_accuracy: 0.8700\n",
      "Epoch 19/100\n",
      "19/19 [==============================] - 8s 399ms/step - loss: 0.1786 - accuracy: 0.9321 - val_loss: 0.6013 - val_accuracy: 0.7600\n",
      "Epoch 20/100\n",
      "19/19 [==============================] - 8s 400ms/step - loss: 0.1641 - accuracy: 0.9321 - val_loss: 0.7356 - val_accuracy: 0.7100\n",
      "Epoch 21/100\n",
      "19/19 [==============================] - 8s 399ms/step - loss: 0.1544 - accuracy: 0.9474 - val_loss: 0.6913 - val_accuracy: 0.7300\n",
      "Epoch 22/100\n",
      "19/19 [==============================] - 8s 400ms/step - loss: 0.1182 - accuracy: 0.9626 - val_loss: 0.9786 - val_accuracy: 0.7200\n",
      "Epoch 23/100\n",
      "19/19 [==============================] - 8s 401ms/step - loss: 0.1232 - accuracy: 0.9525 - val_loss: 1.0445 - val_accuracy: 0.6600\n",
      "Epoch 24/100\n",
      "19/19 [==============================] - 8s 401ms/step - loss: 0.1511 - accuracy: 0.9491 - val_loss: 0.7794 - val_accuracy: 0.7100\n",
      "Epoch 25/100\n",
      "19/19 [==============================] - 8s 400ms/step - loss: 0.1316 - accuracy: 0.9508 - val_loss: 0.6882 - val_accuracy: 0.7100\n",
      "Epoch 26/100\n",
      "19/19 [==============================] - 8s 400ms/step - loss: 0.1221 - accuracy: 0.9660 - val_loss: 0.4831 - val_accuracy: 0.8500\n",
      "Epoch 27/100\n",
      "19/19 [==============================] - 8s 400ms/step - loss: 0.1254 - accuracy: 0.9559 - val_loss: 0.4049 - val_accuracy: 0.8200\n",
      "Epoch 28/100\n",
      "19/19 [==============================] - 8s 400ms/step - loss: 0.1543 - accuracy: 0.9406 - val_loss: 0.4683 - val_accuracy: 0.8100\n",
      "Epoch 29/100\n",
      "19/19 [==============================] - 8s 399ms/step - loss: 0.1166 - accuracy: 0.9593 - val_loss: 0.6854 - val_accuracy: 0.7800\n",
      "Epoch 30/100\n",
      "19/19 [==============================] - 8s 400ms/step - loss: 0.1460 - accuracy: 0.9457 - val_loss: 0.3955 - val_accuracy: 0.8100\n",
      "Epoch 31/100\n",
      "19/19 [==============================] - 8s 400ms/step - loss: 0.0969 - accuracy: 0.9593 - val_loss: 0.3514 - val_accuracy: 0.8800\n",
      "Epoch 32/100\n",
      "19/19 [==============================] - 8s 398ms/step - loss: 0.1195 - accuracy: 0.9576 - val_loss: 0.5308 - val_accuracy: 0.8100\n",
      "Epoch 33/100\n",
      "19/19 [==============================] - 8s 399ms/step - loss: 0.1306 - accuracy: 0.9474 - val_loss: 0.5247 - val_accuracy: 0.8600\n",
      "Epoch 34/100\n",
      "19/19 [==============================] - 8s 399ms/step - loss: 0.1315 - accuracy: 0.9525 - val_loss: 0.3437 - val_accuracy: 0.8900\n",
      "Epoch 35/100\n",
      "19/19 [==============================] - 8s 399ms/step - loss: 0.1022 - accuracy: 0.9677 - val_loss: 0.2664 - val_accuracy: 0.9000\n",
      "Epoch 36/100\n",
      "19/19 [==============================] - 8s 399ms/step - loss: 0.1275 - accuracy: 0.9525 - val_loss: 0.3690 - val_accuracy: 0.8900\n",
      "Epoch 37/100\n",
      "19/19 [==============================] - 8s 400ms/step - loss: 0.1137 - accuracy: 0.9525 - val_loss: 0.2680 - val_accuracy: 0.9100\n",
      "Epoch 38/100\n",
      "19/19 [==============================] - 8s 400ms/step - loss: 0.0945 - accuracy: 0.9711 - val_loss: 0.2557 - val_accuracy: 0.9100\n",
      "Epoch 39/100\n",
      "19/19 [==============================] - 8s 401ms/step - loss: 0.1014 - accuracy: 0.9626 - val_loss: 0.4089 - val_accuracy: 0.8000\n",
      "Epoch 40/100\n",
      "19/19 [==============================] - 8s 400ms/step - loss: 0.1021 - accuracy: 0.9576 - val_loss: 0.6054 - val_accuracy: 0.7900\n",
      "Epoch 41/100\n",
      "19/19 [==============================] - 8s 402ms/step - loss: 0.0952 - accuracy: 0.9660 - val_loss: 0.4319 - val_accuracy: 0.8400\n",
      "Epoch 42/100\n",
      "19/19 [==============================] - 8s 400ms/step - loss: 0.0955 - accuracy: 0.9610 - val_loss: 0.3610 - val_accuracy: 0.8700\n",
      "Epoch 43/100\n",
      "19/19 [==============================] - 8s 401ms/step - loss: 0.1177 - accuracy: 0.9559 - val_loss: 0.2958 - val_accuracy: 0.8900\n",
      "Epoch 44/100\n",
      "19/19 [==============================] - 8s 400ms/step - loss: 0.1208 - accuracy: 0.9491 - val_loss: 0.3968 - val_accuracy: 0.9000\n",
      "Epoch 45/100\n",
      "19/19 [==============================] - 8s 400ms/step - loss: 0.1225 - accuracy: 0.9491 - val_loss: 0.3753 - val_accuracy: 0.9000\n",
      "Epoch 46/100\n",
      "19/19 [==============================] - 8s 400ms/step - loss: 0.0777 - accuracy: 0.9728 - val_loss: 0.4089 - val_accuracy: 0.8300\n",
      "Epoch 47/100\n",
      "19/19 [==============================] - 8s 400ms/step - loss: 0.0753 - accuracy: 0.9728 - val_loss: 0.4344 - val_accuracy: 0.8600\n",
      "Epoch 48/100\n",
      "19/19 [==============================] - 8s 400ms/step - loss: 0.0670 - accuracy: 0.9779 - val_loss: 0.3037 - val_accuracy: 0.8800\n",
      "Epoch 49/100\n",
      "19/19 [==============================] - 8s 399ms/step - loss: 0.0782 - accuracy: 0.9728 - val_loss: 0.3927 - val_accuracy: 0.8700\n",
      "Epoch 50/100\n",
      "19/19 [==============================] - 8s 399ms/step - loss: 0.0767 - accuracy: 0.9745 - val_loss: 0.3438 - val_accuracy: 0.8700\n",
      "Epoch 51/100\n",
      "19/19 [==============================] - 8s 399ms/step - loss: 0.0703 - accuracy: 0.9728 - val_loss: 0.5126 - val_accuracy: 0.8500\n",
      "Epoch 52/100\n",
      "19/19 [==============================] - 8s 399ms/step - loss: 0.0900 - accuracy: 0.9643 - val_loss: 0.6422 - val_accuracy: 0.8000\n",
      "Epoch 53/100\n",
      "19/19 [==============================] - 8s 400ms/step - loss: 0.0857 - accuracy: 0.9694 - val_loss: 0.3944 - val_accuracy: 0.8600\n",
      "Epoch 54/100\n",
      "19/19 [==============================] - 8s 400ms/step - loss: 0.0992 - accuracy: 0.9626 - val_loss: 0.3170 - val_accuracy: 0.8800\n",
      "Epoch 55/100\n",
      "19/19 [==============================] - 8s 400ms/step - loss: 0.0964 - accuracy: 0.9643 - val_loss: 0.2526 - val_accuracy: 0.9100\n",
      "Epoch 56/100\n",
      "19/19 [==============================] - 8s 401ms/step - loss: 0.0768 - accuracy: 0.9779 - val_loss: 0.2615 - val_accuracy: 0.9100\n",
      "Epoch 57/100\n",
      "19/19 [==============================] - 8s 400ms/step - loss: 0.0585 - accuracy: 0.9796 - val_loss: 0.2723 - val_accuracy: 0.8800\n",
      "Epoch 58/100\n",
      "19/19 [==============================] - 8s 400ms/step - loss: 0.0895 - accuracy: 0.9643 - val_loss: 0.5372 - val_accuracy: 0.8900\n",
      "Epoch 59/100\n",
      "19/19 [==============================] - 8s 400ms/step - loss: 0.0854 - accuracy: 0.9728 - val_loss: 0.3297 - val_accuracy: 0.8600\n",
      "Epoch 60/100\n",
      "19/19 [==============================] - 8s 400ms/step - loss: 0.0620 - accuracy: 0.9762 - val_loss: 0.4815 - val_accuracy: 0.8900\n",
      "Epoch 61/100\n",
      "19/19 [==============================] - 8s 399ms/step - loss: 0.0647 - accuracy: 0.9745 - val_loss: 0.2183 - val_accuracy: 0.9100\n",
      "Epoch 62/100\n",
      "19/19 [==============================] - 8s 399ms/step - loss: 0.0566 - accuracy: 0.9796 - val_loss: 0.2824 - val_accuracy: 0.8800\n",
      "Epoch 63/100\n",
      "19/19 [==============================] - 8s 399ms/step - loss: 0.0937 - accuracy: 0.9626 - val_loss: 0.2243 - val_accuracy: 0.9300\n",
      "Epoch 64/100\n",
      "19/19 [==============================] - 8s 400ms/step - loss: 0.0690 - accuracy: 0.9728 - val_loss: 0.4408 - val_accuracy: 0.8700\n",
      "Epoch 65/100\n",
      "19/19 [==============================] - 8s 400ms/step - loss: 0.0928 - accuracy: 0.9643 - val_loss: 0.3026 - val_accuracy: 0.9000\n",
      "Epoch 66/100\n",
      "19/19 [==============================] - 8s 399ms/step - loss: 0.0874 - accuracy: 0.9694 - val_loss: 0.4158 - val_accuracy: 0.8500\n",
      "Epoch 67/100\n",
      "19/19 [==============================] - 8s 399ms/step - loss: 0.0812 - accuracy: 0.9711 - val_loss: 0.4016 - val_accuracy: 0.8800\n",
      "Epoch 68/100\n",
      "19/19 [==============================] - 8s 399ms/step - loss: 0.0443 - accuracy: 0.9881 - val_loss: 0.4412 - val_accuracy: 0.8500\n",
      "Epoch 69/100\n",
      "19/19 [==============================] - 8s 400ms/step - loss: 0.0608 - accuracy: 0.9796 - val_loss: 0.4452 - val_accuracy: 0.8600\n",
      "Epoch 70/100\n",
      "19/19 [==============================] - 8s 400ms/step - loss: 0.0658 - accuracy: 0.9694 - val_loss: 0.3638 - val_accuracy: 0.8200\n",
      "Epoch 71/100\n",
      "19/19 [==============================] - 8s 400ms/step - loss: 0.0628 - accuracy: 0.9762 - val_loss: 0.6043 - val_accuracy: 0.8300\n",
      "Epoch 72/100\n",
      "19/19 [==============================] - 8s 400ms/step - loss: 0.0743 - accuracy: 0.9677 - val_loss: 0.6160 - val_accuracy: 0.8400\n",
      "Epoch 73/100\n",
      "19/19 [==============================] - 8s 400ms/step - loss: 0.0783 - accuracy: 0.9626 - val_loss: 0.3837 - val_accuracy: 0.8900\n",
      "Epoch 74/100\n",
      "19/19 [==============================] - 8s 400ms/step - loss: 0.0532 - accuracy: 0.9796 - val_loss: 0.4125 - val_accuracy: 0.8800\n",
      "Epoch 75/100\n",
      "19/19 [==============================] - 8s 400ms/step - loss: 0.0546 - accuracy: 0.9898 - val_loss: 0.3979 - val_accuracy: 0.8200\n",
      "Epoch 76/100\n",
      "19/19 [==============================] - 8s 399ms/step - loss: 0.0552 - accuracy: 0.9745 - val_loss: 0.3699 - val_accuracy: 0.9200\n",
      "Epoch 77/100\n",
      "19/19 [==============================] - 8s 399ms/step - loss: 0.0439 - accuracy: 0.9830 - val_loss: 0.3555 - val_accuracy: 0.8900\n",
      "Epoch 78/100\n",
      "19/19 [==============================] - 8s 400ms/step - loss: 0.0595 - accuracy: 0.9796 - val_loss: 0.3801 - val_accuracy: 0.8900\n",
      "Epoch 79/100\n",
      "19/19 [==============================] - 8s 400ms/step - loss: 0.0594 - accuracy: 0.9796 - val_loss: 0.3813 - val_accuracy: 0.8400\n",
      "Epoch 80/100\n",
      "19/19 [==============================] - 8s 400ms/step - loss: 0.0541 - accuracy: 0.9779 - val_loss: 0.4173 - val_accuracy: 0.8400\n",
      "Epoch 81/100\n",
      "19/19 [==============================] - 8s 400ms/step - loss: 0.0571 - accuracy: 0.9796 - val_loss: 0.2885 - val_accuracy: 0.9200\n",
      "Epoch 82/100\n",
      "19/19 [==============================] - 8s 400ms/step - loss: 0.0832 - accuracy: 0.9660 - val_loss: 0.2555 - val_accuracy: 0.8800\n",
      "Epoch 83/100\n",
      "19/19 [==============================] - 8s 400ms/step - loss: 0.0760 - accuracy: 0.9745 - val_loss: 0.2591 - val_accuracy: 0.8900\n",
      "Epoch 84/100\n",
      "19/19 [==============================] - 8s 400ms/step - loss: 0.0681 - accuracy: 0.9711 - val_loss: 0.2147 - val_accuracy: 0.9100\n",
      "Epoch 85/100\n",
      "19/19 [==============================] - 8s 399ms/step - loss: 0.0626 - accuracy: 0.9762 - val_loss: 0.2092 - val_accuracy: 0.9200\n",
      "Epoch 86/100\n",
      "19/19 [==============================] - 8s 400ms/step - loss: 0.0512 - accuracy: 0.9813 - val_loss: 0.3045 - val_accuracy: 0.8900\n",
      "Epoch 87/100\n",
      "19/19 [==============================] - 8s 400ms/step - loss: 0.0502 - accuracy: 0.9813 - val_loss: 0.4327 - val_accuracy: 0.8900\n",
      "Epoch 88/100\n",
      "19/19 [==============================] - 8s 400ms/step - loss: 0.0474 - accuracy: 0.9847 - val_loss: 0.4866 - val_accuracy: 0.8400\n",
      "Epoch 89/100\n",
      "19/19 [==============================] - 8s 401ms/step - loss: 0.0380 - accuracy: 0.9915 - val_loss: 0.3831 - val_accuracy: 0.8900\n",
      "Epoch 90/100\n",
      "19/19 [==============================] - 8s 401ms/step - loss: 0.0432 - accuracy: 0.9881 - val_loss: 0.3516 - val_accuracy: 0.8400\n",
      "Epoch 91/100\n",
      "19/19 [==============================] - 8s 400ms/step - loss: 0.0695 - accuracy: 0.9728 - val_loss: 0.3221 - val_accuracy: 0.9100\n",
      "Epoch 92/100\n",
      "19/19 [==============================] - 8s 401ms/step - loss: 0.0713 - accuracy: 0.9711 - val_loss: 0.3093 - val_accuracy: 0.9200\n",
      "Epoch 93/100\n",
      "19/19 [==============================] - 8s 401ms/step - loss: 0.0790 - accuracy: 0.9728 - val_loss: 0.3763 - val_accuracy: 0.9100\n",
      "Epoch 94/100\n",
      "19/19 [==============================] - 8s 400ms/step - loss: 0.0770 - accuracy: 0.9762 - val_loss: 0.3553 - val_accuracy: 0.9000\n",
      "Epoch 95/100\n",
      "19/19 [==============================] - 8s 400ms/step - loss: 0.0581 - accuracy: 0.9762 - val_loss: 0.2513 - val_accuracy: 0.9200\n",
      "Epoch 96/100\n",
      "19/19 [==============================] - 8s 399ms/step - loss: 0.0615 - accuracy: 0.9796 - val_loss: 0.3620 - val_accuracy: 0.8600\n",
      "Epoch 97/100\n",
      "19/19 [==============================] - 8s 400ms/step - loss: 0.0605 - accuracy: 0.9779 - val_loss: 0.3119 - val_accuracy: 0.8900\n",
      "Epoch 98/100\n",
      "19/19 [==============================] - 8s 399ms/step - loss: 0.0483 - accuracy: 0.9847 - val_loss: 0.1953 - val_accuracy: 0.9500\n",
      "Epoch 99/100\n",
      "19/19 [==============================] - 8s 400ms/step - loss: 0.0531 - accuracy: 0.9830 - val_loss: 0.2759 - val_accuracy: 0.9100\n",
      "Epoch 100/100\n",
      "19/19 [==============================] - 8s 399ms/step - loss: 0.0920 - accuracy: 0.9677 - val_loss: 0.2819 - val_accuracy: 0.9200\n"
     ]
    },
    {
     "data": {
      "text/plain": [
       "<tensorflow.python.keras.callbacks.History at 0x7f04a938a950>"
      ]
     },
     "execution_count": 27,
     "metadata": {},
     "output_type": "execute_result"
    }
   ],
   "source": [
    "model.fit([X_train_imgs, X_train_landmarks], Y_train,\n",
    "          batch_size=batch_size,\n",
    "          epochs=epochs,\n",
    "#           callbacks=callbacks,\n",
    "          verbose=1,\n",
    "          validation_data=([X_val_imgs, X_val_landmarks], Y_val),\n",
    "          shuffle=True)"
   ]
  },
  {
   "cell_type": "code",
   "execution_count": 28,
   "id": "7a587ea7",
   "metadata": {},
   "outputs": [
    {
     "name": "stdout",
     "output_type": "stream",
     "text": [
      "7/7 [==============================] - 1s 154ms/step - loss: 0.8015 - accuracy: 0.7450\n"
     ]
    },
    {
     "data": {
      "text/plain": [
       "[0.8015316128730774, 0.7450000047683716]"
      ]
     },
     "execution_count": 28,
     "metadata": {},
     "output_type": "execute_result"
    }
   ],
   "source": [
    "model.evaluate([X_test_imgs, X_test_landmarks], Y_test, verbose=1)"
   ]
  },
  {
   "cell_type": "code",
   "execution_count": null,
   "id": "3b8afb6f",
   "metadata": {},
   "outputs": [],
   "source": []
  },
  {
   "cell_type": "code",
   "execution_count": 29,
   "id": "92be1ebe",
   "metadata": {},
   "outputs": [],
   "source": [
    "Y_preds = model.predict([X_test_imgs, X_test_landmarks])"
   ]
  },
  {
   "cell_type": "code",
   "execution_count": 30,
   "id": "76c109f1",
   "metadata": {},
   "outputs": [],
   "source": [
    "Y_test_labels = np.argmax(Y_test, axis=-1)\n",
    "Y_preds_labels = np.argmax(Y_preds, axis=-1)"
   ]
  },
  {
   "cell_type": "code",
   "execution_count": 31,
   "id": "7ccd6075",
   "metadata": {},
   "outputs": [
    {
     "name": "stdout",
     "output_type": "stream",
     "text": [
      "              precision    recall  f1-score   support\n",
      "\n",
      "           0       0.75      0.92      0.83       133\n",
      "           1       0.43      0.19      0.26        16\n",
      "           2       0.85      0.58      0.69        19\n",
      "           3       0.71      0.31      0.43        16\n",
      "           4       0.73      0.50      0.59        16\n",
      "\n",
      "    accuracy                           0.74       200\n",
      "   macro avg       0.69      0.50      0.56       200\n",
      "weighted avg       0.73      0.74      0.72       200\n",
      "\n"
     ]
    }
   ],
   "source": [
    "print(sklearn.metrics.classification_report(Y_test_labels, Y_preds_labels))"
   ]
  },
  {
   "cell_type": "code",
   "execution_count": null,
   "id": "13415b90",
   "metadata": {},
   "outputs": [],
   "source": []
  },
  {
   "cell_type": "markdown",
   "id": "a1ec7cfb",
   "metadata": {},
   "source": [
    "# [Ablation] Image only"
   ]
  },
  {
   "cell_type": "code",
   "execution_count": 32,
   "id": "5b7fa724",
   "metadata": {},
   "outputs": [],
   "source": [
    "image_input = Input(shape=IMAGE_EXAMPLE_SHAPE)\n",
    "cnn_tower = CNNTower(num_conv_layers = 3,\n",
    "                     initial_channel_size = 128,\n",
    "                     initial_filter_size = (3, 3),\n",
    "                     dropout_rate = 0.20\n",
    "                    )\n",
    "x_cnn_tower = cnn_tower(image_input)"
   ]
  },
  {
   "cell_type": "code",
   "execution_count": 33,
   "id": "c9fa8774",
   "metadata": {},
   "outputs": [],
   "source": [
    "output_tower = DNN(3, 256, 0.2)\n",
    "x = output_tower(x_cnn_tower)\n",
    "output = Dense(NUM_CLASSES, activation='softmax')(x)"
   ]
  },
  {
   "cell_type": "code",
   "execution_count": 34,
   "id": "74e7245f",
   "metadata": {},
   "outputs": [],
   "source": [
    "ablation_model_image = Model(inputs=[image_input], outputs=[output])"
   ]
  },
  {
   "cell_type": "code",
   "execution_count": 35,
   "id": "67269bae",
   "metadata": {},
   "outputs": [],
   "source": [
    "opt = optimizers.Adam()\n",
    "\n",
    "ablation_model_image.compile(loss='categorical_crossentropy',\n",
    "                             optimizer=opt,\n",
    "                             metrics=['accuracy'])"
   ]
  },
  {
   "cell_type": "code",
   "execution_count": 36,
   "id": "7d501d34",
   "metadata": {},
   "outputs": [],
   "source": [
    "epochs = 50\n",
    "batch_size = 32"
   ]
  },
  {
   "cell_type": "code",
   "execution_count": 37,
   "id": "5ab9e26d",
   "metadata": {},
   "outputs": [
    {
     "name": "stdout",
     "output_type": "stream",
     "text": [
      "Epoch 1/100\n",
      "19/19 [==============================] - 8s 410ms/step - loss: 1.3634 - accuracy: 0.4635 - val_loss: 10.4732 - val_accuracy: 0.6800\n",
      "Epoch 2/100\n",
      "19/19 [==============================] - 8s 400ms/step - loss: 0.9062 - accuracy: 0.6672 - val_loss: 7.8789 - val_accuracy: 0.6800\n",
      "Epoch 3/100\n",
      "19/19 [==============================] - 8s 400ms/step - loss: 0.7202 - accuracy: 0.7284 - val_loss: 3.7017 - val_accuracy: 0.6800\n",
      "Epoch 4/100\n",
      "19/19 [==============================] - 8s 401ms/step - loss: 0.5950 - accuracy: 0.7606 - val_loss: 3.6300 - val_accuracy: 0.6800\n",
      "Epoch 5/100\n",
      "19/19 [==============================] - 8s 400ms/step - loss: 0.5094 - accuracy: 0.7929 - val_loss: 2.4685 - val_accuracy: 0.6700\n",
      "Epoch 6/100\n",
      "19/19 [==============================] - 8s 401ms/step - loss: 0.4560 - accuracy: 0.8183 - val_loss: 1.4474 - val_accuracy: 0.6900\n",
      "Epoch 7/100\n",
      "19/19 [==============================] - 8s 399ms/step - loss: 0.4958 - accuracy: 0.8048 - val_loss: 0.8938 - val_accuracy: 0.7600\n",
      "Epoch 8/100\n",
      "19/19 [==============================] - 8s 400ms/step - loss: 0.4332 - accuracy: 0.8302 - val_loss: 0.9241 - val_accuracy: 0.7400\n",
      "Epoch 9/100\n",
      "19/19 [==============================] - 8s 399ms/step - loss: 0.3471 - accuracy: 0.8727 - val_loss: 0.5142 - val_accuracy: 0.7900\n",
      "Epoch 10/100\n",
      "19/19 [==============================] - 8s 399ms/step - loss: 0.2996 - accuracy: 0.8795 - val_loss: 0.4282 - val_accuracy: 0.8200\n",
      "Epoch 11/100\n",
      "19/19 [==============================] - 8s 399ms/step - loss: 0.2966 - accuracy: 0.8778 - val_loss: 0.4289 - val_accuracy: 0.8400\n",
      "Epoch 12/100\n",
      "19/19 [==============================] - 8s 399ms/step - loss: 0.2720 - accuracy: 0.8896 - val_loss: 0.4205 - val_accuracy: 0.8200\n",
      "Epoch 13/100\n",
      "19/19 [==============================] - 8s 399ms/step - loss: 0.2604 - accuracy: 0.9066 - val_loss: 0.4959 - val_accuracy: 0.8200\n",
      "Epoch 14/100\n",
      "19/19 [==============================] - 8s 399ms/step - loss: 0.2665 - accuracy: 0.8964 - val_loss: 0.6012 - val_accuracy: 0.7800\n",
      "Epoch 15/100\n",
      "19/19 [==============================] - 8s 400ms/step - loss: 0.2740 - accuracy: 0.8846 - val_loss: 0.7178 - val_accuracy: 0.7500\n",
      "Epoch 16/100\n",
      "19/19 [==============================] - 8s 399ms/step - loss: 0.2432 - accuracy: 0.9032 - val_loss: 0.5036 - val_accuracy: 0.8300\n",
      "Epoch 17/100\n",
      "19/19 [==============================] - 8s 400ms/step - loss: 0.2095 - accuracy: 0.9151 - val_loss: 0.5805 - val_accuracy: 0.7800\n",
      "Epoch 18/100\n",
      "19/19 [==============================] - 8s 399ms/step - loss: 0.1943 - accuracy: 0.9270 - val_loss: 0.6509 - val_accuracy: 0.7700\n",
      "Epoch 19/100\n",
      "19/19 [==============================] - 8s 399ms/step - loss: 0.2042 - accuracy: 0.9287 - val_loss: 0.8044 - val_accuracy: 0.7400\n",
      "Epoch 20/100\n",
      "19/19 [==============================] - 8s 399ms/step - loss: 0.2092 - accuracy: 0.9202 - val_loss: 0.6508 - val_accuracy: 0.7600\n",
      "Epoch 21/100\n",
      "19/19 [==============================] - 8s 400ms/step - loss: 0.1881 - accuracy: 0.9287 - val_loss: 0.7012 - val_accuracy: 0.7700\n",
      "Epoch 22/100\n",
      "19/19 [==============================] - 8s 399ms/step - loss: 0.1918 - accuracy: 0.9100 - val_loss: 0.5627 - val_accuracy: 0.8200\n",
      "Epoch 23/100\n",
      "19/19 [==============================] - 8s 399ms/step - loss: 0.1824 - accuracy: 0.9236 - val_loss: 0.5782 - val_accuracy: 0.7800\n",
      "Epoch 24/100\n",
      "19/19 [==============================] - 8s 399ms/step - loss: 0.1768 - accuracy: 0.9338 - val_loss: 0.5705 - val_accuracy: 0.8100\n",
      "Epoch 25/100\n",
      "19/19 [==============================] - 8s 400ms/step - loss: 0.1724 - accuracy: 0.9287 - val_loss: 0.8740 - val_accuracy: 0.7700\n",
      "Epoch 26/100\n",
      "19/19 [==============================] - 8s 401ms/step - loss: 0.1549 - accuracy: 0.9355 - val_loss: 0.8552 - val_accuracy: 0.7600\n",
      "Epoch 27/100\n",
      "19/19 [==============================] - 8s 400ms/step - loss: 0.1706 - accuracy: 0.9304 - val_loss: 0.8996 - val_accuracy: 0.7900\n",
      "Epoch 28/100\n",
      "19/19 [==============================] - 8s 400ms/step - loss: 0.1425 - accuracy: 0.9508 - val_loss: 1.0545 - val_accuracy: 0.7200\n",
      "Epoch 29/100\n",
      "19/19 [==============================] - 8s 400ms/step - loss: 0.1302 - accuracy: 0.9542 - val_loss: 1.1549 - val_accuracy: 0.7700\n",
      "Epoch 30/100\n",
      "19/19 [==============================] - 8s 400ms/step - loss: 0.1872 - accuracy: 0.9185 - val_loss: 0.9773 - val_accuracy: 0.7700\n",
      "Epoch 31/100\n",
      "19/19 [==============================] - 8s 400ms/step - loss: 0.1723 - accuracy: 0.9372 - val_loss: 0.5861 - val_accuracy: 0.8200\n",
      "Epoch 32/100\n",
      "19/19 [==============================] - 8s 400ms/step - loss: 0.1590 - accuracy: 0.9491 - val_loss: 0.9118 - val_accuracy: 0.7200\n",
      "Epoch 33/100\n",
      "19/19 [==============================] - 8s 400ms/step - loss: 0.1320 - accuracy: 0.9525 - val_loss: 0.6925 - val_accuracy: 0.7800\n",
      "Epoch 34/100\n",
      "19/19 [==============================] - 8s 399ms/step - loss: 0.1183 - accuracy: 0.9593 - val_loss: 0.7446 - val_accuracy: 0.7700\n",
      "Epoch 35/100\n",
      "19/19 [==============================] - 8s 399ms/step - loss: 0.1401 - accuracy: 0.9525 - val_loss: 0.4976 - val_accuracy: 0.8000\n",
      "Epoch 36/100\n",
      "19/19 [==============================] - 8s 400ms/step - loss: 0.1263 - accuracy: 0.9491 - val_loss: 0.7918 - val_accuracy: 0.7400\n",
      "Epoch 37/100\n",
      "19/19 [==============================] - 8s 400ms/step - loss: 0.1358 - accuracy: 0.9440 - val_loss: 0.8430 - val_accuracy: 0.7900\n",
      "Epoch 38/100\n",
      "19/19 [==============================] - 8s 399ms/step - loss: 0.1443 - accuracy: 0.9508 - val_loss: 0.8027 - val_accuracy: 0.7800\n",
      "Epoch 39/100\n",
      "19/19 [==============================] - 8s 399ms/step - loss: 0.1261 - accuracy: 0.9542 - val_loss: 0.5804 - val_accuracy: 0.7800\n",
      "Epoch 40/100\n",
      "19/19 [==============================] - 8s 400ms/step - loss: 0.1132 - accuracy: 0.9576 - val_loss: 0.7599 - val_accuracy: 0.7700\n",
      "Epoch 41/100\n",
      "19/19 [==============================] - 8s 400ms/step - loss: 0.1192 - accuracy: 0.9525 - val_loss: 0.7725 - val_accuracy: 0.7900\n",
      "Epoch 42/100\n",
      "19/19 [==============================] - 8s 399ms/step - loss: 0.0945 - accuracy: 0.9677 - val_loss: 0.6035 - val_accuracy: 0.7800\n",
      "Epoch 43/100\n",
      "19/19 [==============================] - 8s 399ms/step - loss: 0.1121 - accuracy: 0.9525 - val_loss: 0.6470 - val_accuracy: 0.7800\n",
      "Epoch 44/100\n",
      "19/19 [==============================] - 8s 399ms/step - loss: 0.1088 - accuracy: 0.9610 - val_loss: 0.7883 - val_accuracy: 0.7700\n",
      "Epoch 45/100\n",
      "19/19 [==============================] - 8s 398ms/step - loss: 0.1178 - accuracy: 0.9491 - val_loss: 0.7866 - val_accuracy: 0.7200\n",
      "Epoch 46/100\n",
      "19/19 [==============================] - 8s 399ms/step - loss: 0.1234 - accuracy: 0.9508 - val_loss: 0.8599 - val_accuracy: 0.7300\n",
      "Epoch 47/100\n",
      "19/19 [==============================] - 8s 399ms/step - loss: 0.1145 - accuracy: 0.9525 - val_loss: 0.7527 - val_accuracy: 0.7600\n",
      "Epoch 48/100\n",
      "19/19 [==============================] - 8s 399ms/step - loss: 0.1080 - accuracy: 0.9610 - val_loss: 0.8164 - val_accuracy: 0.7700\n",
      "Epoch 49/100\n",
      "19/19 [==============================] - 8s 399ms/step - loss: 0.1036 - accuracy: 0.9593 - val_loss: 0.6479 - val_accuracy: 0.8200\n",
      "Epoch 50/100\n",
      "19/19 [==============================] - 8s 400ms/step - loss: 0.0873 - accuracy: 0.9711 - val_loss: 0.4588 - val_accuracy: 0.8700\n",
      "Epoch 51/100\n",
      "19/19 [==============================] - 8s 400ms/step - loss: 0.0835 - accuracy: 0.9779 - val_loss: 0.4586 - val_accuracy: 0.8500\n",
      "Epoch 52/100\n",
      "19/19 [==============================] - 8s 400ms/step - loss: 0.0978 - accuracy: 0.9711 - val_loss: 0.5474 - val_accuracy: 0.8400\n",
      "Epoch 53/100\n",
      "19/19 [==============================] - 8s 400ms/step - loss: 0.0762 - accuracy: 0.9745 - val_loss: 0.6562 - val_accuracy: 0.7700\n",
      "Epoch 54/100\n",
      "19/19 [==============================] - 8s 400ms/step - loss: 0.0751 - accuracy: 0.9728 - val_loss: 0.7093 - val_accuracy: 0.7800\n",
      "Epoch 55/100\n",
      "19/19 [==============================] - 8s 400ms/step - loss: 0.0985 - accuracy: 0.9643 - val_loss: 0.6370 - val_accuracy: 0.8200\n",
      "Epoch 56/100\n",
      "19/19 [==============================] - 8s 400ms/step - loss: 0.1046 - accuracy: 0.9610 - val_loss: 0.6608 - val_accuracy: 0.7700\n",
      "Epoch 57/100\n",
      "19/19 [==============================] - 8s 398ms/step - loss: 0.0986 - accuracy: 0.9711 - val_loss: 0.5875 - val_accuracy: 0.8400\n",
      "Epoch 58/100\n",
      "19/19 [==============================] - 8s 400ms/step - loss: 0.0842 - accuracy: 0.9728 - val_loss: 0.6237 - val_accuracy: 0.8100\n",
      "Epoch 59/100\n",
      "19/19 [==============================] - 8s 399ms/step - loss: 0.0867 - accuracy: 0.9677 - val_loss: 0.6392 - val_accuracy: 0.7800\n",
      "Epoch 60/100\n",
      "19/19 [==============================] - 8s 399ms/step - loss: 0.0836 - accuracy: 0.9660 - val_loss: 0.7853 - val_accuracy: 0.7400\n",
      "Epoch 61/100\n",
      "19/19 [==============================] - 8s 399ms/step - loss: 0.1039 - accuracy: 0.9660 - val_loss: 0.5363 - val_accuracy: 0.8600\n",
      "Epoch 62/100\n",
      "19/19 [==============================] - 8s 398ms/step - loss: 0.1038 - accuracy: 0.9643 - val_loss: 0.4752 - val_accuracy: 0.8500\n",
      "Epoch 63/100\n",
      "19/19 [==============================] - 8s 399ms/step - loss: 0.0884 - accuracy: 0.9610 - val_loss: 0.5439 - val_accuracy: 0.8500\n",
      "Epoch 64/100\n",
      "19/19 [==============================] - 8s 399ms/step - loss: 0.0923 - accuracy: 0.9728 - val_loss: 0.5798 - val_accuracy: 0.8300\n",
      "Epoch 65/100\n",
      "19/19 [==============================] - 8s 398ms/step - loss: 0.0754 - accuracy: 0.9677 - val_loss: 0.5485 - val_accuracy: 0.8500\n",
      "Epoch 66/100\n",
      "19/19 [==============================] - 8s 398ms/step - loss: 0.1002 - accuracy: 0.9542 - val_loss: 0.5905 - val_accuracy: 0.8300\n",
      "Epoch 67/100\n",
      "19/19 [==============================] - 8s 398ms/step - loss: 0.0988 - accuracy: 0.9643 - val_loss: 0.6331 - val_accuracy: 0.8100\n",
      "Epoch 68/100\n",
      "19/19 [==============================] - 8s 399ms/step - loss: 0.0825 - accuracy: 0.9694 - val_loss: 0.7833 - val_accuracy: 0.7800\n",
      "Epoch 69/100\n",
      "19/19 [==============================] - 8s 399ms/step - loss: 0.0766 - accuracy: 0.9660 - val_loss: 0.7018 - val_accuracy: 0.7800\n",
      "Epoch 70/100\n",
      "19/19 [==============================] - 8s 399ms/step - loss: 0.0737 - accuracy: 0.9813 - val_loss: 0.5104 - val_accuracy: 0.8400\n",
      "Epoch 71/100\n",
      "19/19 [==============================] - 8s 399ms/step - loss: 0.0630 - accuracy: 0.9796 - val_loss: 0.6511 - val_accuracy: 0.7700\n",
      "Epoch 72/100\n",
      "19/19 [==============================] - 8s 399ms/step - loss: 0.0612 - accuracy: 0.9830 - val_loss: 0.6403 - val_accuracy: 0.7800\n",
      "Epoch 73/100\n",
      "19/19 [==============================] - 8s 400ms/step - loss: 0.0812 - accuracy: 0.9762 - val_loss: 0.4448 - val_accuracy: 0.8400\n",
      "Epoch 74/100\n",
      "19/19 [==============================] - 8s 399ms/step - loss: 0.0744 - accuracy: 0.9728 - val_loss: 0.4263 - val_accuracy: 0.8400\n",
      "Epoch 75/100\n",
      "19/19 [==============================] - 8s 399ms/step - loss: 0.0488 - accuracy: 0.9830 - val_loss: 0.4169 - val_accuracy: 0.8600\n",
      "Epoch 76/100\n",
      "19/19 [==============================] - 8s 399ms/step - loss: 0.0589 - accuracy: 0.9779 - val_loss: 0.4523 - val_accuracy: 0.8500\n",
      "Epoch 77/100\n",
      "19/19 [==============================] - 8s 399ms/step - loss: 0.0438 - accuracy: 0.9881 - val_loss: 0.5209 - val_accuracy: 0.8500\n",
      "Epoch 78/100\n",
      "19/19 [==============================] - 8s 400ms/step - loss: 0.0557 - accuracy: 0.9796 - val_loss: 0.6482 - val_accuracy: 0.7900\n",
      "Epoch 79/100\n",
      "19/19 [==============================] - 8s 399ms/step - loss: 0.0581 - accuracy: 0.9796 - val_loss: 0.7456 - val_accuracy: 0.8000\n",
      "Epoch 80/100\n",
      "19/19 [==============================] - 8s 399ms/step - loss: 0.0855 - accuracy: 0.9711 - val_loss: 0.7792 - val_accuracy: 0.7900\n",
      "Epoch 81/100\n",
      "19/19 [==============================] - 8s 399ms/step - loss: 0.0625 - accuracy: 0.9762 - val_loss: 0.6618 - val_accuracy: 0.8200\n",
      "Epoch 82/100\n",
      "19/19 [==============================] - 8s 399ms/step - loss: 0.0571 - accuracy: 0.9779 - val_loss: 0.4826 - val_accuracy: 0.8300\n",
      "Epoch 83/100\n",
      "19/19 [==============================] - 8s 399ms/step - loss: 0.0429 - accuracy: 0.9830 - val_loss: 0.6036 - val_accuracy: 0.8300\n",
      "Epoch 84/100\n",
      "19/19 [==============================] - 8s 398ms/step - loss: 0.0499 - accuracy: 0.9796 - val_loss: 0.7246 - val_accuracy: 0.8300\n",
      "Epoch 85/100\n",
      "19/19 [==============================] - 8s 399ms/step - loss: 0.0707 - accuracy: 0.9745 - val_loss: 0.7383 - val_accuracy: 0.8300\n",
      "Epoch 86/100\n",
      "19/19 [==============================] - 8s 399ms/step - loss: 0.0732 - accuracy: 0.9745 - val_loss: 0.5401 - val_accuracy: 0.8200\n",
      "Epoch 87/100\n",
      "19/19 [==============================] - 8s 399ms/step - loss: 0.0859 - accuracy: 0.9711 - val_loss: 0.3707 - val_accuracy: 0.8800\n",
      "Epoch 88/100\n",
      "19/19 [==============================] - 8s 399ms/step - loss: 0.0742 - accuracy: 0.9779 - val_loss: 0.4713 - val_accuracy: 0.8600\n",
      "Epoch 89/100\n",
      "19/19 [==============================] - 8s 400ms/step - loss: 0.0876 - accuracy: 0.9728 - val_loss: 0.5981 - val_accuracy: 0.8500\n",
      "Epoch 90/100\n",
      "19/19 [==============================] - 8s 399ms/step - loss: 0.0789 - accuracy: 0.9762 - val_loss: 0.5629 - val_accuracy: 0.8600\n",
      "Epoch 91/100\n",
      "19/19 [==============================] - 8s 400ms/step - loss: 0.0936 - accuracy: 0.9694 - val_loss: 0.5324 - val_accuracy: 0.8600\n",
      "Epoch 92/100\n",
      "19/19 [==============================] - 8s 400ms/step - loss: 0.0898 - accuracy: 0.9643 - val_loss: 0.4966 - val_accuracy: 0.8700\n",
      "Epoch 93/100\n",
      "19/19 [==============================] - 8s 399ms/step - loss: 0.0655 - accuracy: 0.9762 - val_loss: 0.5033 - val_accuracy: 0.8500\n",
      "Epoch 94/100\n",
      "19/19 [==============================] - 8s 398ms/step - loss: 0.0623 - accuracy: 0.9779 - val_loss: 0.4908 - val_accuracy: 0.7900\n",
      "Epoch 95/100\n",
      "19/19 [==============================] - 8s 400ms/step - loss: 0.0490 - accuracy: 0.9847 - val_loss: 0.4301 - val_accuracy: 0.8600\n",
      "Epoch 96/100\n",
      "19/19 [==============================] - 8s 399ms/step - loss: 0.0483 - accuracy: 0.9796 - val_loss: 0.4346 - val_accuracy: 0.8600\n",
      "Epoch 97/100\n",
      "19/19 [==============================] - 8s 399ms/step - loss: 0.0607 - accuracy: 0.9813 - val_loss: 0.4213 - val_accuracy: 0.8400\n",
      "Epoch 98/100\n",
      "19/19 [==============================] - 8s 399ms/step - loss: 0.0619 - accuracy: 0.9796 - val_loss: 0.6280 - val_accuracy: 0.8500\n",
      "Epoch 99/100\n",
      "19/19 [==============================] - 8s 399ms/step - loss: 0.0459 - accuracy: 0.9830 - val_loss: 0.6944 - val_accuracy: 0.8400\n",
      "Epoch 100/100\n",
      "19/19 [==============================] - 8s 399ms/step - loss: 0.0490 - accuracy: 0.9830 - val_loss: 0.5933 - val_accuracy: 0.8000\n"
     ]
    },
    {
     "data": {
      "text/plain": [
       "<tensorflow.python.keras.callbacks.History at 0x7f04a8df5310>"
      ]
     },
     "execution_count": 37,
     "metadata": {},
     "output_type": "execute_result"
    }
   ],
   "source": [
    "ablation_model_image.fit([X_train_imgs], Y_train,\n",
    "                         batch_size=batch_size,\n",
    "                         epochs=epochs,\n",
    "#                          callbacks=callbacks,\n",
    "                         verbose=1,\n",
    "                         validation_data=([X_val_imgs], Y_val),\n",
    "                         shuffle=True)"
   ]
  },
  {
   "cell_type": "code",
   "execution_count": 38,
   "id": "6d799ab8",
   "metadata": {},
   "outputs": [],
   "source": [
    "Y_preds = ablation_model_image.predict([X_test_imgs, X_test_landmarks])"
   ]
  },
  {
   "cell_type": "code",
   "execution_count": 39,
   "id": "e12b18ab",
   "metadata": {},
   "outputs": [],
   "source": [
    "Y_test_labels = np.argmax(Y_test, axis=-1)\n",
    "Y_preds_labels = np.argmax(Y_preds, axis=-1)"
   ]
  },
  {
   "cell_type": "code",
   "execution_count": 40,
   "id": "f8cfa381",
   "metadata": {},
   "outputs": [
    {
     "name": "stdout",
     "output_type": "stream",
     "text": [
      "              precision    recall  f1-score   support\n",
      "\n",
      "           0       0.75      0.68      0.71       133\n",
      "           1       0.24      0.69      0.35        16\n",
      "           2       0.57      0.42      0.48        19\n",
      "           3       0.40      0.25      0.31        16\n",
      "           4       0.50      0.25      0.33        16\n",
      "\n",
      "    accuracy                           0.59       200\n",
      "   macro avg       0.49      0.46      0.44       200\n",
      "weighted avg       0.64      0.59      0.60       200\n",
      "\n"
     ]
    }
   ],
   "source": [
    "print(sklearn.metrics.classification_report(Y_test_labels, Y_preds_labels))"
   ]
  },
  {
   "cell_type": "code",
   "execution_count": null,
   "id": "893f949b",
   "metadata": {},
   "outputs": [],
   "source": []
  },
  {
   "cell_type": "markdown",
   "id": "a9ec04fc",
   "metadata": {},
   "source": [
    "# [Ablation] Pose Landmarks Only"
   ]
  },
  {
   "cell_type": "code",
   "execution_count": 41,
   "id": "14d8d5b3",
   "metadata": {},
   "outputs": [],
   "source": [
    "landmark_input = Input(shape=LANDMARK_EXAMPLE_SHAPE)\n",
    "dnn_tower = DNN(3, 1024, 0.2)\n",
    "\n",
    "x_dnn_tower = dnn_tower(landmark_input)"
   ]
  },
  {
   "cell_type": "code",
   "execution_count": 42,
   "id": "14930c5d",
   "metadata": {},
   "outputs": [],
   "source": [
    "output_tower = DNN(3, 256, 0.2)\n",
    "x = output_tower(x_dnn_tower)\n",
    "output = Dense(NUM_CLASSES, activation='softmax')(x)"
   ]
  },
  {
   "cell_type": "code",
   "execution_count": 43,
   "id": "341a6b6d",
   "metadata": {},
   "outputs": [],
   "source": [
    "ablation_model_landmark = Model(inputs=[landmark_input], outputs=[output])"
   ]
  },
  {
   "cell_type": "code",
   "execution_count": 44,
   "id": "7d711356",
   "metadata": {},
   "outputs": [],
   "source": [
    "opt = optimizers.Adam()\n",
    "\n",
    "ablation_model_landmark.compile(loss='categorical_crossentropy',\n",
    "                                optimizer=opt,\n",
    "                                metrics=['accuracy'])"
   ]
  },
  {
   "cell_type": "code",
   "execution_count": 45,
   "id": "671ba534",
   "metadata": {},
   "outputs": [],
   "source": [
    "epochs = 50\n",
    "batch_size = 32"
   ]
  },
  {
   "cell_type": "code",
   "execution_count": 50,
   "id": "27afa4af",
   "metadata": {},
   "outputs": [
    {
     "name": "stdout",
     "output_type": "stream",
     "text": [
      "Epoch 1/100\n",
      "19/19 [==============================] - 0s 7ms/step - loss: 0.1155 - accuracy: 0.9576 - val_loss: 0.4120 - val_accuracy: 0.8700\n",
      "Epoch 2/100\n",
      "19/19 [==============================] - 0s 6ms/step - loss: 0.1003 - accuracy: 0.9576 - val_loss: 0.4823 - val_accuracy: 0.7900\n",
      "Epoch 3/100\n",
      "19/19 [==============================] - 0s 6ms/step - loss: 0.1064 - accuracy: 0.9576 - val_loss: 0.5559 - val_accuracy: 0.8200\n",
      "Epoch 4/100\n",
      "19/19 [==============================] - 0s 6ms/step - loss: 0.1289 - accuracy: 0.9491 - val_loss: 1.6369 - val_accuracy: 0.7100\n",
      "Epoch 5/100\n",
      "19/19 [==============================] - 0s 6ms/step - loss: 0.1564 - accuracy: 0.9474 - val_loss: 0.7265 - val_accuracy: 0.8200\n",
      "Epoch 6/100\n",
      "19/19 [==============================] - 0s 6ms/step - loss: 0.1045 - accuracy: 0.9508 - val_loss: 0.7855 - val_accuracy: 0.7900\n",
      "Epoch 7/100\n",
      "19/19 [==============================] - 0s 7ms/step - loss: 0.1055 - accuracy: 0.9508 - val_loss: 0.2318 - val_accuracy: 0.9100\n",
      "Epoch 8/100\n",
      "19/19 [==============================] - 0s 6ms/step - loss: 0.0977 - accuracy: 0.9677 - val_loss: 0.4067 - val_accuracy: 0.8800\n",
      "Epoch 9/100\n",
      "19/19 [==============================] - 0s 6ms/step - loss: 0.0831 - accuracy: 0.9711 - val_loss: 0.4832 - val_accuracy: 0.8300\n",
      "Epoch 10/100\n",
      "19/19 [==============================] - 0s 6ms/step - loss: 0.1188 - accuracy: 0.9593 - val_loss: 0.4120 - val_accuracy: 0.8600\n",
      "Epoch 11/100\n",
      "19/19 [==============================] - 0s 6ms/step - loss: 0.1534 - accuracy: 0.9406 - val_loss: 0.4277 - val_accuracy: 0.8500\n",
      "Epoch 12/100\n",
      "19/19 [==============================] - 0s 6ms/step - loss: 0.1413 - accuracy: 0.9457 - val_loss: 0.4742 - val_accuracy: 0.8200\n",
      "Epoch 13/100\n",
      "19/19 [==============================] - 0s 6ms/step - loss: 0.1267 - accuracy: 0.9542 - val_loss: 0.3714 - val_accuracy: 0.8500\n",
      "Epoch 14/100\n",
      "19/19 [==============================] - 0s 6ms/step - loss: 0.0876 - accuracy: 0.9643 - val_loss: 0.3168 - val_accuracy: 0.8600\n",
      "Epoch 15/100\n",
      "19/19 [==============================] - 0s 6ms/step - loss: 0.0890 - accuracy: 0.9677 - val_loss: 0.8186 - val_accuracy: 0.7800\n",
      "Epoch 16/100\n",
      "19/19 [==============================] - 0s 6ms/step - loss: 0.0863 - accuracy: 0.9677 - val_loss: 0.9574 - val_accuracy: 0.7400\n",
      "Epoch 17/100\n",
      "19/19 [==============================] - 0s 6ms/step - loss: 0.0812 - accuracy: 0.9694 - val_loss: 0.3842 - val_accuracy: 0.8700\n",
      "Epoch 18/100\n",
      "19/19 [==============================] - 0s 6ms/step - loss: 0.0939 - accuracy: 0.9643 - val_loss: 0.6560 - val_accuracy: 0.7900\n",
      "Epoch 19/100\n",
      "19/19 [==============================] - 0s 6ms/step - loss: 0.0950 - accuracy: 0.9593 - val_loss: 0.7750 - val_accuracy: 0.8000\n",
      "Epoch 20/100\n",
      "19/19 [==============================] - 0s 6ms/step - loss: 0.1163 - accuracy: 0.9610 - val_loss: 0.5283 - val_accuracy: 0.8500\n",
      "Epoch 21/100\n",
      "19/19 [==============================] - 0s 6ms/step - loss: 0.0981 - accuracy: 0.9542 - val_loss: 0.6691 - val_accuracy: 0.8200\n",
      "Epoch 22/100\n",
      "19/19 [==============================] - 0s 6ms/step - loss: 0.1454 - accuracy: 0.9474 - val_loss: 0.8545 - val_accuracy: 0.8300\n",
      "Epoch 23/100\n",
      "19/19 [==============================] - 0s 6ms/step - loss: 0.1032 - accuracy: 0.9626 - val_loss: 1.0342 - val_accuracy: 0.7700\n",
      "Epoch 24/100\n",
      "19/19 [==============================] - 0s 6ms/step - loss: 0.0802 - accuracy: 0.9728 - val_loss: 0.8157 - val_accuracy: 0.7900\n",
      "Epoch 25/100\n",
      "19/19 [==============================] - 0s 6ms/step - loss: 0.0795 - accuracy: 0.9711 - val_loss: 0.6842 - val_accuracy: 0.8000\n",
      "Epoch 26/100\n",
      "19/19 [==============================] - 0s 6ms/step - loss: 0.1172 - accuracy: 0.9593 - val_loss: 0.5559 - val_accuracy: 0.8700\n",
      "Epoch 27/100\n",
      "19/19 [==============================] - 0s 6ms/step - loss: 0.1024 - accuracy: 0.9677 - val_loss: 0.7850 - val_accuracy: 0.8000\n",
      "Epoch 28/100\n",
      "19/19 [==============================] - 0s 6ms/step - loss: 0.0763 - accuracy: 0.9745 - val_loss: 0.8569 - val_accuracy: 0.8100\n",
      "Epoch 29/100\n",
      "19/19 [==============================] - 0s 6ms/step - loss: 0.0856 - accuracy: 0.9677 - val_loss: 0.6320 - val_accuracy: 0.8100\n",
      "Epoch 30/100\n",
      "19/19 [==============================] - 0s 6ms/step - loss: 0.0921 - accuracy: 0.9694 - val_loss: 0.3763 - val_accuracy: 0.8700\n",
      "Epoch 31/100\n",
      "19/19 [==============================] - 0s 6ms/step - loss: 0.1109 - accuracy: 0.9576 - val_loss: 0.4291 - val_accuracy: 0.8900\n",
      "Epoch 32/100\n",
      "19/19 [==============================] - 0s 6ms/step - loss: 0.1033 - accuracy: 0.9694 - val_loss: 0.2847 - val_accuracy: 0.8600\n",
      "Epoch 33/100\n",
      "19/19 [==============================] - 0s 6ms/step - loss: 0.0912 - accuracy: 0.9643 - val_loss: 0.5600 - val_accuracy: 0.7900\n",
      "Epoch 34/100\n",
      "19/19 [==============================] - 0s 6ms/step - loss: 0.1003 - accuracy: 0.9694 - val_loss: 0.3459 - val_accuracy: 0.8400\n",
      "Epoch 35/100\n",
      "19/19 [==============================] - 0s 6ms/step - loss: 0.0900 - accuracy: 0.9643 - val_loss: 0.4003 - val_accuracy: 0.8400\n",
      "Epoch 36/100\n",
      "19/19 [==============================] - 0s 6ms/step - loss: 0.0885 - accuracy: 0.9711 - val_loss: 0.3016 - val_accuracy: 0.9000\n",
      "Epoch 37/100\n",
      "19/19 [==============================] - 0s 6ms/step - loss: 0.0628 - accuracy: 0.9779 - val_loss: 0.3479 - val_accuracy: 0.8800\n",
      "Epoch 38/100\n",
      "19/19 [==============================] - 0s 6ms/step - loss: 0.0815 - accuracy: 0.9745 - val_loss: 0.7038 - val_accuracy: 0.8100\n",
      "Epoch 39/100\n",
      "19/19 [==============================] - 0s 6ms/step - loss: 0.0913 - accuracy: 0.9660 - val_loss: 0.5059 - val_accuracy: 0.8300\n",
      "Epoch 40/100\n",
      "19/19 [==============================] - 0s 6ms/step - loss: 0.1523 - accuracy: 0.9491 - val_loss: 1.0432 - val_accuracy: 0.7600\n",
      "Epoch 41/100\n",
      "19/19 [==============================] - 0s 6ms/step - loss: 0.1349 - accuracy: 0.9474 - val_loss: 0.9236 - val_accuracy: 0.7900\n",
      "Epoch 42/100\n",
      "19/19 [==============================] - 0s 6ms/step - loss: 0.1529 - accuracy: 0.9474 - val_loss: 0.6185 - val_accuracy: 0.8300\n",
      "Epoch 43/100\n",
      "19/19 [==============================] - 0s 6ms/step - loss: 0.1296 - accuracy: 0.9626 - val_loss: 0.3438 - val_accuracy: 0.8900\n",
      "Epoch 44/100\n",
      "19/19 [==============================] - 0s 7ms/step - loss: 0.0697 - accuracy: 0.9711 - val_loss: 0.5426 - val_accuracy: 0.8000\n",
      "Epoch 45/100\n",
      "19/19 [==============================] - 0s 6ms/step - loss: 0.0718 - accuracy: 0.9728 - val_loss: 1.1473 - val_accuracy: 0.7600\n",
      "Epoch 46/100\n",
      "19/19 [==============================] - 0s 6ms/step - loss: 0.0760 - accuracy: 0.9762 - val_loss: 0.9106 - val_accuracy: 0.7700\n",
      "Epoch 47/100\n",
      "19/19 [==============================] - 0s 6ms/step - loss: 0.0652 - accuracy: 0.9745 - val_loss: 0.5357 - val_accuracy: 0.8600\n",
      "Epoch 48/100\n",
      "19/19 [==============================] - 0s 6ms/step - loss: 0.0831 - accuracy: 0.9677 - val_loss: 0.7097 - val_accuracy: 0.8700\n",
      "Epoch 49/100\n",
      "19/19 [==============================] - 0s 6ms/step - loss: 0.0835 - accuracy: 0.9711 - val_loss: 0.9342 - val_accuracy: 0.7900\n",
      "Epoch 50/100\n",
      "19/19 [==============================] - 0s 6ms/step - loss: 0.1399 - accuracy: 0.9559 - val_loss: 0.5422 - val_accuracy: 0.8500\n",
      "Epoch 51/100\n",
      "19/19 [==============================] - 0s 6ms/step - loss: 0.0965 - accuracy: 0.9626 - val_loss: 0.4515 - val_accuracy: 0.8600\n",
      "Epoch 52/100\n",
      "19/19 [==============================] - 0s 7ms/step - loss: 0.0906 - accuracy: 0.9694 - val_loss: 0.4934 - val_accuracy: 0.8700\n",
      "Epoch 53/100\n",
      "19/19 [==============================] - 0s 6ms/step - loss: 0.0781 - accuracy: 0.9677 - val_loss: 0.5565 - val_accuracy: 0.8200\n",
      "Epoch 54/100\n",
      "19/19 [==============================] - 0s 6ms/step - loss: 0.0723 - accuracy: 0.9745 - val_loss: 0.4739 - val_accuracy: 0.8500\n",
      "Epoch 55/100\n",
      "19/19 [==============================] - 0s 6ms/step - loss: 0.1026 - accuracy: 0.9643 - val_loss: 0.3792 - val_accuracy: 0.8700\n",
      "Epoch 56/100\n",
      "19/19 [==============================] - 0s 6ms/step - loss: 0.0803 - accuracy: 0.9728 - val_loss: 0.4182 - val_accuracy: 0.8900\n",
      "Epoch 57/100\n",
      "19/19 [==============================] - 0s 7ms/step - loss: 0.0764 - accuracy: 0.9677 - val_loss: 0.3197 - val_accuracy: 0.8700\n",
      "Epoch 58/100\n",
      "19/19 [==============================] - 0s 6ms/step - loss: 0.0672 - accuracy: 0.9762 - val_loss: 0.3447 - val_accuracy: 0.8700\n",
      "Epoch 59/100\n",
      "19/19 [==============================] - 0s 6ms/step - loss: 0.0513 - accuracy: 0.9796 - val_loss: 0.4831 - val_accuracy: 0.8500\n",
      "Epoch 60/100\n",
      "19/19 [==============================] - 0s 6ms/step - loss: 0.0657 - accuracy: 0.9711 - val_loss: 0.3308 - val_accuracy: 0.8500\n",
      "Epoch 61/100\n",
      "19/19 [==============================] - 0s 7ms/step - loss: 0.0705 - accuracy: 0.9728 - val_loss: 0.5646 - val_accuracy: 0.8400\n",
      "Epoch 62/100\n",
      "19/19 [==============================] - 0s 6ms/step - loss: 0.0887 - accuracy: 0.9677 - val_loss: 0.6401 - val_accuracy: 0.8400\n",
      "Epoch 63/100\n",
      "19/19 [==============================] - 0s 6ms/step - loss: 0.1472 - accuracy: 0.9525 - val_loss: 0.8174 - val_accuracy: 0.7700\n",
      "Epoch 64/100\n",
      "19/19 [==============================] - 0s 6ms/step - loss: 0.0976 - accuracy: 0.9610 - val_loss: 0.7409 - val_accuracy: 0.8200\n",
      "Epoch 65/100\n",
      "19/19 [==============================] - 0s 6ms/step - loss: 0.0992 - accuracy: 0.9643 - val_loss: 0.4962 - val_accuracy: 0.8300\n",
      "Epoch 66/100\n",
      "19/19 [==============================] - 0s 6ms/step - loss: 0.1137 - accuracy: 0.9542 - val_loss: 1.0965 - val_accuracy: 0.7500\n",
      "Epoch 67/100\n",
      "19/19 [==============================] - 0s 6ms/step - loss: 0.1134 - accuracy: 0.9626 - val_loss: 1.5259 - val_accuracy: 0.7300\n",
      "Epoch 68/100\n",
      "19/19 [==============================] - 0s 6ms/step - loss: 0.1368 - accuracy: 0.9508 - val_loss: 0.4936 - val_accuracy: 0.8400\n",
      "Epoch 69/100\n",
      "19/19 [==============================] - 0s 6ms/step - loss: 0.0874 - accuracy: 0.9677 - val_loss: 0.4365 - val_accuracy: 0.8300\n",
      "Epoch 70/100\n",
      "19/19 [==============================] - 0s 6ms/step - loss: 0.0778 - accuracy: 0.9694 - val_loss: 0.6287 - val_accuracy: 0.7600\n",
      "Epoch 71/100\n",
      "19/19 [==============================] - 0s 7ms/step - loss: 0.0838 - accuracy: 0.9694 - val_loss: 1.2498 - val_accuracy: 0.7600\n",
      "Epoch 72/100\n",
      "19/19 [==============================] - 0s 6ms/step - loss: 0.0671 - accuracy: 0.9694 - val_loss: 0.4305 - val_accuracy: 0.8700\n",
      "Epoch 73/100\n",
      "19/19 [==============================] - 0s 6ms/step - loss: 0.1192 - accuracy: 0.9542 - val_loss: 0.6793 - val_accuracy: 0.8600\n",
      "Epoch 74/100\n",
      "19/19 [==============================] - 0s 6ms/step - loss: 0.0983 - accuracy: 0.9626 - val_loss: 0.6608 - val_accuracy: 0.8200\n",
      "Epoch 75/100\n",
      "19/19 [==============================] - 0s 6ms/step - loss: 0.0834 - accuracy: 0.9694 - val_loss: 0.9644 - val_accuracy: 0.8400\n",
      "Epoch 76/100\n",
      "19/19 [==============================] - 0s 7ms/step - loss: 0.0951 - accuracy: 0.9643 - val_loss: 1.1534 - val_accuracy: 0.8200\n",
      "Epoch 77/100\n",
      "19/19 [==============================] - 0s 6ms/step - loss: 0.1186 - accuracy: 0.9593 - val_loss: 0.5252 - val_accuracy: 0.8400\n",
      "Epoch 78/100\n",
      "19/19 [==============================] - 0s 6ms/step - loss: 0.0948 - accuracy: 0.9660 - val_loss: 0.3785 - val_accuracy: 0.8200\n",
      "Epoch 79/100\n",
      "19/19 [==============================] - 0s 6ms/step - loss: 0.0827 - accuracy: 0.9660 - val_loss: 0.9169 - val_accuracy: 0.7700\n",
      "Epoch 80/100\n",
      "19/19 [==============================] - 0s 7ms/step - loss: 0.0639 - accuracy: 0.9711 - val_loss: 0.5971 - val_accuracy: 0.8200\n",
      "Epoch 81/100\n",
      "19/19 [==============================] - 0s 6ms/step - loss: 0.0726 - accuracy: 0.9745 - val_loss: 0.2772 - val_accuracy: 0.8900\n",
      "Epoch 82/100\n",
      "19/19 [==============================] - 0s 6ms/step - loss: 0.0689 - accuracy: 0.9711 - val_loss: 0.7610 - val_accuracy: 0.8100\n",
      "Epoch 83/100\n",
      "19/19 [==============================] - 0s 6ms/step - loss: 0.0670 - accuracy: 0.9779 - val_loss: 0.4979 - val_accuracy: 0.8600\n",
      "Epoch 84/100\n",
      "19/19 [==============================] - 0s 6ms/step - loss: 0.0463 - accuracy: 0.9796 - val_loss: 0.4363 - val_accuracy: 0.8200\n",
      "Epoch 85/100\n",
      "19/19 [==============================] - 0s 6ms/step - loss: 0.0656 - accuracy: 0.9779 - val_loss: 1.0185 - val_accuracy: 0.7900\n",
      "Epoch 86/100\n",
      "19/19 [==============================] - 0s 6ms/step - loss: 0.0836 - accuracy: 0.9677 - val_loss: 0.6114 - val_accuracy: 0.8200\n",
      "Epoch 87/100\n",
      "19/19 [==============================] - 0s 6ms/step - loss: 0.1315 - accuracy: 0.9593 - val_loss: 0.7674 - val_accuracy: 0.8500\n",
      "Epoch 88/100\n",
      "19/19 [==============================] - 0s 6ms/step - loss: 0.0895 - accuracy: 0.9677 - val_loss: 0.4559 - val_accuracy: 0.8900\n",
      "Epoch 89/100\n",
      "19/19 [==============================] - 0s 6ms/step - loss: 0.0764 - accuracy: 0.9779 - val_loss: 0.2691 - val_accuracy: 0.9000\n",
      "Epoch 90/100\n",
      "19/19 [==============================] - 0s 6ms/step - loss: 0.0929 - accuracy: 0.9660 - val_loss: 0.3664 - val_accuracy: 0.8800\n",
      "Epoch 91/100\n",
      "19/19 [==============================] - 0s 6ms/step - loss: 0.0503 - accuracy: 0.9762 - val_loss: 0.3710 - val_accuracy: 0.8500\n",
      "Epoch 92/100\n",
      "19/19 [==============================] - 0s 6ms/step - loss: 0.0779 - accuracy: 0.9711 - val_loss: 0.4812 - val_accuracy: 0.8700\n",
      "Epoch 93/100\n",
      "19/19 [==============================] - 0s 6ms/step - loss: 0.0889 - accuracy: 0.9711 - val_loss: 0.7992 - val_accuracy: 0.8600\n",
      "Epoch 94/100\n",
      "19/19 [==============================] - 0s 6ms/step - loss: 0.0958 - accuracy: 0.9610 - val_loss: 0.4595 - val_accuracy: 0.8600\n",
      "Epoch 95/100\n",
      "19/19 [==============================] - 0s 6ms/step - loss: 0.1322 - accuracy: 0.9491 - val_loss: 0.8028 - val_accuracy: 0.7800\n",
      "Epoch 96/100\n",
      "19/19 [==============================] - 0s 6ms/step - loss: 0.0726 - accuracy: 0.9728 - val_loss: 0.3634 - val_accuracy: 0.8800\n",
      "Epoch 97/100\n",
      "19/19 [==============================] - 0s 6ms/step - loss: 0.0529 - accuracy: 0.9779 - val_loss: 0.6629 - val_accuracy: 0.8200\n",
      "Epoch 98/100\n",
      "19/19 [==============================] - 0s 6ms/step - loss: 0.0496 - accuracy: 0.9796 - val_loss: 0.6613 - val_accuracy: 0.8000\n",
      "Epoch 99/100\n",
      "19/19 [==============================] - 0s 6ms/step - loss: 0.0451 - accuracy: 0.9796 - val_loss: 0.6344 - val_accuracy: 0.8400\n",
      "Epoch 100/100\n",
      "19/19 [==============================] - 0s 6ms/step - loss: 0.0766 - accuracy: 0.9711 - val_loss: 0.8096 - val_accuracy: 0.8200\n"
     ]
    },
    {
     "data": {
      "text/plain": [
       "<tensorflow.python.keras.callbacks.History at 0x7f045c3d1a50>"
      ]
     },
     "execution_count": 50,
     "metadata": {},
     "output_type": "execute_result"
    }
   ],
   "source": [
    "ablation_model_landmark.fit([X_train_landmarks], Y_train,\n",
    "                            batch_size=batch_size,\n",
    "                            epochs=epochs,\n",
    "#                          callbacks=callbacks,\n",
    "                            verbose=1,\n",
    "                            validation_data=([X_val_landmarks], Y_val),\n",
    "                            shuffle=True)"
   ]
  },
  {
   "cell_type": "code",
   "execution_count": 55,
   "id": "45f2e22f",
   "metadata": {},
   "outputs": [],
   "source": [
    "Y_preds = ablation_model_landmark.predict([X_test_landmarks])"
   ]
  },
  {
   "cell_type": "code",
   "execution_count": 56,
   "id": "92947d85",
   "metadata": {},
   "outputs": [],
   "source": [
    "Y_test_labels = np.argmax(Y_test, axis=-1)\n",
    "Y_preds_labels = np.argmax(Y_preds, axis=-1)"
   ]
  },
  {
   "cell_type": "code",
   "execution_count": 57,
   "id": "42f289ba",
   "metadata": {},
   "outputs": [
    {
     "name": "stdout",
     "output_type": "stream",
     "text": [
      "              precision    recall  f1-score   support\n",
      "\n",
      "           0       0.75      0.88      0.81       133\n",
      "           1       0.30      0.19      0.23        16\n",
      "           2       0.29      0.11      0.15        19\n",
      "           3       0.78      0.44      0.56        16\n",
      "           4       0.89      1.00      0.94        16\n",
      "\n",
      "    accuracy                           0.73       200\n",
      "   macro avg       0.60      0.52      0.54       200\n",
      "weighted avg       0.68      0.72      0.69       200\n",
      "\n"
     ]
    }
   ],
   "source": [
    "print(sklearn.metrics.classification_report(Y_test_labels, Y_preds_labels))"
   ]
  },
  {
   "cell_type": "code",
   "execution_count": null,
   "id": "265b8f03",
   "metadata": {},
   "outputs": [],
   "source": []
  },
  {
   "cell_type": "code",
   "execution_count": null,
   "id": "40a4e850",
   "metadata": {},
   "outputs": [],
   "source": []
  },
  {
   "cell_type": "code",
   "execution_count": null,
   "id": "dacc66cd",
   "metadata": {},
   "outputs": [],
   "source": []
  }
 ],
 "metadata": {
  "environment": {
   "name": "tf2-gpu.2-3.m69",
   "type": "gcloud",
   "uri": "gcr.io/deeplearning-platform-release/tf2-gpu.2-3:m69"
  },
  "kernelspec": {
   "display_name": "Python 3",
   "language": "python",
   "name": "python3"
  },
  "language_info": {
   "codemirror_mode": {
    "name": "ipython",
    "version": 3
   },
   "file_extension": ".py",
   "mimetype": "text/x-python",
   "name": "python",
   "nbconvert_exporter": "python",
   "pygments_lexer": "ipython3",
   "version": "3.7.10"
  }
 },
 "nbformat": 4,
 "nbformat_minor": 5
}
