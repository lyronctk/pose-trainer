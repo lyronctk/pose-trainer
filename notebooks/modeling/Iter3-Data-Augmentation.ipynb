{
 "cells": [
  {
   "cell_type": "code",
   "execution_count": 1,
   "id": "77fb58c9",
   "metadata": {},
   "outputs": [
    {
     "name": "stderr",
     "output_type": "stream",
     "text": [
      "Using TensorFlow backend.\n"
     ]
    }
   ],
   "source": [
    "import tensorflow as tf\n",
    "\n",
    "import PIL\n",
    "import matplotlib.pyplot as plt\n",
    "import matplotlib.ticker as ticker\n",
    "import sklearn\n",
    "from sklearn.model_selection import train_test_split\n",
    "\n",
    "import itertools\n",
    "from typing import List, Tuple\n",
    "import copy\n",
    "import seaborn as sns\n",
    "import unicodedata\n",
    "import re\n",
    "import numpy as np\n",
    "import os\n",
    "import io\n",
    "from skimage.io import imread\n",
    "import time\n",
    "from ast import literal_eval\n",
    "import math\n",
    "from collections import defaultdict\n",
    "from statistics import median, mean\n",
    "\n",
    "from sklearn.metrics import confusion_matrix\n",
    "import keras\n",
    "from keras import optimizers\n",
    "from keras.preprocessing.image import load_img\n",
    "from keras.layers import Input, Dense, Flatten, Dropout, Conv2D, MaxPooling2D, Activation, concatenate, BatchNormalization\n",
    "from keras.layers.advanced_activations import LeakyReLU\n",
    "from keras.models import Model\n",
    "\n",
    "import pandas as pd\n",
    "\n",
    "import warnings\n",
    "warnings.filterwarnings('ignore')"
   ]
  },
  {
   "cell_type": "code",
   "execution_count": null,
   "id": "b0e46db7",
   "metadata": {},
   "outputs": [],
   "source": []
  },
  {
   "cell_type": "markdown",
   "id": "34f96def",
   "metadata": {},
   "source": [
    "# Parse and Load Dataset"
   ]
  },
  {
   "cell_type": "code",
   "execution_count": null,
   "id": "ec8214bf",
   "metadata": {},
   "outputs": [],
   "source": []
  },
  {
   "cell_type": "code",
   "execution_count": 7,
   "id": "936daa83",
   "metadata": {},
   "outputs": [],
   "source": [
    "TARGET_SIZE = (640, 360)\n",
    "IMAGE_EXAMPLE_SHAPE = TARGET_SIZE + (3,)\n",
    "\n",
    "LANDMARK_EXAMPLE_SHAPE = (39, )\n",
    "\n",
    "BASE_PATH = '/home/lancecotingkeh/aggregated/'\n",
    "LABEL_TO_ENCODING = {'proper': 0, 'crooked': 1, 'lockout': 2, 'rounded': 3, 'squat': 4}\n",
    "ENCODING_TO_LABEL = {v: k for k, v in LABEL_TO_ENCODING.items()}\n",
    "NUM_CLASSES = len(LABEL_TO_ENCODING)"
   ]
  },
  {
   "cell_type": "code",
   "execution_count": null,
   "id": "84d8a85c",
   "metadata": {},
   "outputs": [],
   "source": []
  },
  {
   "cell_type": "code",
   "execution_count": null,
   "id": "3af3e379",
   "metadata": {},
   "outputs": [],
   "source": []
  },
  {
   "cell_type": "code",
   "execution_count": 8,
   "id": "d4f2c4f4",
   "metadata": {},
   "outputs": [],
   "source": [
    "df_metadata = pd.read_csv('/home/lancecotingkeh/aggregated/pose_landmarks.csv')"
   ]
  },
  {
   "cell_type": "code",
   "execution_count": 9,
   "id": "a59a4d52",
   "metadata": {},
   "outputs": [
    {
     "data": {
      "text/html": [
       "<div>\n",
       "<style scoped>\n",
       "    .dataframe tbody tr th:only-of-type {\n",
       "        vertical-align: middle;\n",
       "    }\n",
       "\n",
       "    .dataframe tbody tr th {\n",
       "        vertical-align: top;\n",
       "    }\n",
       "\n",
       "    .dataframe thead th {\n",
       "        text-align: right;\n",
       "    }\n",
       "</style>\n",
       "<table border=\"1\" class=\"dataframe\">\n",
       "  <thead>\n",
       "    <tr style=\"text-align: right;\">\n",
       "      <th></th>\n",
       "      <th>relative_image_path</th>\n",
       "      <th>data_split</th>\n",
       "      <th>label</th>\n",
       "      <th>landmark_nose</th>\n",
       "      <th>landmark_left_shoulder</th>\n",
       "      <th>landmark_right_shoulder</th>\n",
       "      <th>landmark_left_elbow</th>\n",
       "      <th>landmark_right_elbow</th>\n",
       "      <th>landmark_left_wrist</th>\n",
       "      <th>landmark_right_wrist</th>\n",
       "      <th>landmark_left_hip</th>\n",
       "      <th>landmark_right_hip</th>\n",
       "      <th>landmark_left_knee</th>\n",
       "      <th>landmark_right_knee</th>\n",
       "      <th>landmark_left_ankle</th>\n",
       "      <th>landmark_right_ankle</th>\n",
       "    </tr>\n",
       "  </thead>\n",
       "  <tbody>\n",
       "    <tr>\n",
       "      <th>0</th>\n",
       "      <td>5_lockout/lyron_deg135_take2/frame46.jpg</td>\n",
       "      <td>train</td>\n",
       "      <td>proper</td>\n",
       "      <td>(0.8408212661743164, 0.44535547494888306, -0.6...</td>\n",
       "      <td>(0.7523922920227051, 0.483453631401062, -0.080...</td>\n",
       "      <td>(0.59047532081604, 0.4363204836845398, -0.5876...</td>\n",
       "      <td>(0.7419312596321106, 0.6247938871383667, 0.025...</td>\n",
       "      <td>(0.5161336064338684, 0.5835246443748474, -0.57...</td>\n",
       "      <td>(0.7500355839729309, 0.7468990683555603, -0.06...</td>\n",
       "      <td>(0.5082715749740601, 0.7348905205726624, -0.60...</td>\n",
       "      <td>(0.4615359604358673, 0.5611119866371155, 0.148...</td>\n",
       "      <td>(0.34500354528427124, 0.5380272269248962, -0.1...</td>\n",
       "      <td>(0.701583981513977, 0.6245787739753723, -0.039...</td>\n",
       "      <td>(0.5147499442100525, 0.576558530330658, -0.833...</td>\n",
       "      <td>(0.6168646812438965, 0.8138770461082458, 0.163...</td>\n",
       "      <td>(0.4869398772716522, 0.7884341478347778, -0.77...</td>\n",
       "    </tr>\n",
       "    <tr>\n",
       "      <th>1</th>\n",
       "      <td>5_lockout/lyron_deg135_take2/frame203.jpg</td>\n",
       "      <td>train</td>\n",
       "      <td>proper</td>\n",
       "      <td>(0.8654815554618835, 0.4472369849681854, -0.59...</td>\n",
       "      <td>(0.7866912484169006, 0.5048587322235107, -0.12...</td>\n",
       "      <td>(0.6134108901023865, 0.4505915343761444, -0.55...</td>\n",
       "      <td>(0.7522295713424683, 0.6383607983589172, -0.09...</td>\n",
       "      <td>(0.5366990566253662, 0.5983656644821167, -0.55...</td>\n",
       "      <td>(0.7443258762359619, 0.7658225893974304, -0.16...</td>\n",
       "      <td>(0.5270508527755737, 0.7469443678855896, -0.51...</td>\n",
       "      <td>(0.49029654264450073, 0.565066397190094, 0.141...</td>\n",
       "      <td>(0.3752322196960449, 0.5404682159423828, -0.14...</td>\n",
       "      <td>(0.721193253993988, 0.6225733160972595, 0.0097...</td>\n",
       "      <td>(0.604214072227478, 0.5913941860198975, -0.544...</td>\n",
       "      <td>(0.6175094246864319, 0.7968677282333374, 0.155...</td>\n",
       "      <td>(0.4880143404006958, 0.7921530604362488, -0.41...</td>\n",
       "    </tr>\n",
       "    <tr>\n",
       "      <th>2</th>\n",
       "      <td>5_lockout/lyron_deg135_take2/frame207.jpg</td>\n",
       "      <td>train</td>\n",
       "      <td>proper</td>\n",
       "      <td>(0.8618521690368652, 0.42703595757484436, -0.5...</td>\n",
       "      <td>(0.7759232521057129, 0.48765045404434204, -0.0...</td>\n",
       "      <td>(0.6108279228210449, 0.43047401309013367, -0.4...</td>\n",
       "      <td>(0.7476211786270142, 0.6245181560516357, 0.032...</td>\n",
       "      <td>(0.526120126247406, 0.5700463652610779, -0.489...</td>\n",
       "      <td>(0.7355574369430542, 0.7427244186401367, -0.06...</td>\n",
       "      <td>(0.5221640467643738, 0.7184542417526245, -0.49...</td>\n",
       "      <td>(0.4879094958305359, 0.5496541261672974, 0.132...</td>\n",
       "      <td>(0.37393078207969666, 0.5203757286071777, -0.1...</td>\n",
       "      <td>(0.7107850313186646, 0.6180444359779358, 0.138...</td>\n",
       "      <td>(0.574447512626648, 0.5620325207710266, -0.697...</td>\n",
       "      <td>(0.5569970607757568, 0.7731618285179138, 0.340...</td>\n",
       "      <td>(0.47665083408355713, 0.7690679430961609, -0.6...</td>\n",
       "    </tr>\n",
       "  </tbody>\n",
       "</table>\n",
       "</div>"
      ],
      "text/plain": [
       "                         relative_image_path data_split   label  \\\n",
       "0   5_lockout/lyron_deg135_take2/frame46.jpg      train  proper   \n",
       "1  5_lockout/lyron_deg135_take2/frame203.jpg      train  proper   \n",
       "2  5_lockout/lyron_deg135_take2/frame207.jpg      train  proper   \n",
       "\n",
       "                                       landmark_nose  \\\n",
       "0  (0.8408212661743164, 0.44535547494888306, -0.6...   \n",
       "1  (0.8654815554618835, 0.4472369849681854, -0.59...   \n",
       "2  (0.8618521690368652, 0.42703595757484436, -0.5...   \n",
       "\n",
       "                              landmark_left_shoulder  \\\n",
       "0  (0.7523922920227051, 0.483453631401062, -0.080...   \n",
       "1  (0.7866912484169006, 0.5048587322235107, -0.12...   \n",
       "2  (0.7759232521057129, 0.48765045404434204, -0.0...   \n",
       "\n",
       "                             landmark_right_shoulder  \\\n",
       "0  (0.59047532081604, 0.4363204836845398, -0.5876...   \n",
       "1  (0.6134108901023865, 0.4505915343761444, -0.55...   \n",
       "2  (0.6108279228210449, 0.43047401309013367, -0.4...   \n",
       "\n",
       "                                 landmark_left_elbow  \\\n",
       "0  (0.7419312596321106, 0.6247938871383667, 0.025...   \n",
       "1  (0.7522295713424683, 0.6383607983589172, -0.09...   \n",
       "2  (0.7476211786270142, 0.6245181560516357, 0.032...   \n",
       "\n",
       "                                landmark_right_elbow  \\\n",
       "0  (0.5161336064338684, 0.5835246443748474, -0.57...   \n",
       "1  (0.5366990566253662, 0.5983656644821167, -0.55...   \n",
       "2  (0.526120126247406, 0.5700463652610779, -0.489...   \n",
       "\n",
       "                                 landmark_left_wrist  \\\n",
       "0  (0.7500355839729309, 0.7468990683555603, -0.06...   \n",
       "1  (0.7443258762359619, 0.7658225893974304, -0.16...   \n",
       "2  (0.7355574369430542, 0.7427244186401367, -0.06...   \n",
       "\n",
       "                                landmark_right_wrist  \\\n",
       "0  (0.5082715749740601, 0.7348905205726624, -0.60...   \n",
       "1  (0.5270508527755737, 0.7469443678855896, -0.51...   \n",
       "2  (0.5221640467643738, 0.7184542417526245, -0.49...   \n",
       "\n",
       "                                   landmark_left_hip  \\\n",
       "0  (0.4615359604358673, 0.5611119866371155, 0.148...   \n",
       "1  (0.49029654264450073, 0.565066397190094, 0.141...   \n",
       "2  (0.4879094958305359, 0.5496541261672974, 0.132...   \n",
       "\n",
       "                                  landmark_right_hip  \\\n",
       "0  (0.34500354528427124, 0.5380272269248962, -0.1...   \n",
       "1  (0.3752322196960449, 0.5404682159423828, -0.14...   \n",
       "2  (0.37393078207969666, 0.5203757286071777, -0.1...   \n",
       "\n",
       "                                  landmark_left_knee  \\\n",
       "0  (0.701583981513977, 0.6245787739753723, -0.039...   \n",
       "1  (0.721193253993988, 0.6225733160972595, 0.0097...   \n",
       "2  (0.7107850313186646, 0.6180444359779358, 0.138...   \n",
       "\n",
       "                                 landmark_right_knee  \\\n",
       "0  (0.5147499442100525, 0.576558530330658, -0.833...   \n",
       "1  (0.604214072227478, 0.5913941860198975, -0.544...   \n",
       "2  (0.574447512626648, 0.5620325207710266, -0.697...   \n",
       "\n",
       "                                 landmark_left_ankle  \\\n",
       "0  (0.6168646812438965, 0.8138770461082458, 0.163...   \n",
       "1  (0.6175094246864319, 0.7968677282333374, 0.155...   \n",
       "2  (0.5569970607757568, 0.7731618285179138, 0.340...   \n",
       "\n",
       "                                landmark_right_ankle  \n",
       "0  (0.4869398772716522, 0.7884341478347778, -0.77...  \n",
       "1  (0.4880143404006958, 0.7921530604362488, -0.41...  \n",
       "2  (0.47665083408355713, 0.7690679430961609, -0.6...  "
      ]
     },
     "execution_count": 9,
     "metadata": {},
     "output_type": "execute_result"
    }
   ],
   "source": [
    "df_metadata.head(3)"
   ]
  },
  {
   "cell_type": "code",
   "execution_count": 10,
   "id": "6d2d46f0",
   "metadata": {},
   "outputs": [
    {
     "data": {
      "text/plain": [
       "['landmark_nose',\n",
       " 'landmark_left_shoulder',\n",
       " 'landmark_right_shoulder',\n",
       " 'landmark_left_elbow',\n",
       " 'landmark_right_elbow',\n",
       " 'landmark_left_wrist',\n",
       " 'landmark_right_wrist',\n",
       " 'landmark_left_hip',\n",
       " 'landmark_right_hip',\n",
       " 'landmark_left_knee',\n",
       " 'landmark_right_knee',\n",
       " 'landmark_left_ankle',\n",
       " 'landmark_right_ankle']"
      ]
     },
     "execution_count": 10,
     "metadata": {},
     "output_type": "execute_result"
    }
   ],
   "source": [
    "landmark_columns = [col for col in df_metadata if col.startswith('landmark_')]\n",
    "landmark_columns"
   ]
  },
  {
   "cell_type": "code",
   "execution_count": 11,
   "id": "8307ff8b",
   "metadata": {},
   "outputs": [],
   "source": [
    "def load_preprocess_imgs(image_paths: List[str]) -> np.ndarray:\n",
    "    images = []\n",
    "    for image_path in image_paths:\n",
    "        img = load_img(image_path, target_size=TARGET_SIZE)        \n",
    "        np_img = np.asarray(img)\n",
    "\n",
    "        assert np_img.shape == IMAGE_EXAMPLE_SHAPE\n",
    "        \n",
    "        images.append(np_img)\n",
    "        \n",
    "        # horizontal flip both image\n",
    "        horizontal_flipped_img = img.transpose(PIL.Image.FLIP_LEFT_RIGHT)\n",
    "        np_img = np.asarray(img)\n",
    "        images.append(np_img)\n",
    "        \n",
    "    return np.array(images)"
   ]
  },
  {
   "cell_type": "code",
   "execution_count": 12,
   "id": "2ee19e5a",
   "metadata": {},
   "outputs": [],
   "source": [
    "def load_preprocess_landmarks(df_metadata) -> np.ndarray:\n",
    "    landmark_examples = []\n",
    "    \n",
    "    for row in df_metadata.iterrows():\n",
    "        single_example = []\n",
    "        flipped_example = []\n",
    "        \n",
    "        for landmark in landmark_columns:\n",
    "            x, y, z = literal_eval(row[1][landmark])\n",
    "            \n",
    "            single_example.extend([x, y, z])\n",
    "            \n",
    "            # horizontal flip landmark\n",
    "            \n",
    "            flipped_example.extend([1-x, y, z])\n",
    "        \n",
    "        landmark_examples.append(np.array(single_example))\n",
    "        landmark_examples.append(np.array(flipped_example))\n",
    "    return np.array(landmark_examples)"
   ]
  },
  {
   "cell_type": "code",
   "execution_count": 13,
   "id": "48d0a675",
   "metadata": {},
   "outputs": [],
   "source": [
    "def interleave_np_arrays(a, b):\n",
    "    a_shape = a.shape\n",
    "    c = np.empty((a_shape[0] * 2, a_shape[1]), dtype=a.dtype)\n",
    "    c[0::2] = a\n",
    "    c[1::2] = b\n",
    "    \n",
    "    return c"
   ]
  },
  {
   "cell_type": "code",
   "execution_count": 14,
   "id": "bb567b89",
   "metadata": {},
   "outputs": [],
   "source": [
    "# load training data\n",
    "\n",
    "df_train = df_metadata[df_metadata['data_split'] == 'train']\n",
    "X_train_imgs = load_preprocess_imgs([f'{BASE_PATH}{p}' for p in df_train['relative_image_path']])\n",
    "X_train_landmarks = load_preprocess_landmarks(df_train)\n",
    "Y_train = keras.utils.to_categorical([LABEL_TO_ENCODING[l] for l in df_train['label']], 5)\n",
    "Y_train = interleave_np_arrays(Y_train, Y_train)"
   ]
  },
  {
   "cell_type": "code",
   "execution_count": 15,
   "id": "edd439ef",
   "metadata": {},
   "outputs": [
    {
     "data": {
      "text/plain": [
       "(589, 1178, 1178, 1178)"
      ]
     },
     "execution_count": 15,
     "metadata": {},
     "output_type": "execute_result"
    }
   ],
   "source": [
    "len(df_train), len(X_train_imgs), len(X_train_landmarks), len(Y_train)"
   ]
  },
  {
   "cell_type": "code",
   "execution_count": 16,
   "id": "9c46344e",
   "metadata": {},
   "outputs": [],
   "source": [
    "# load validation data\n",
    "df_val = df_metadata[df_metadata['data_split'] == 'val']\n",
    "X_val_imgs = load_preprocess_imgs([f'{BASE_PATH}{p}' for p in df_val['relative_image_path']])\n",
    "X_val_landmarks = load_preprocess_landmarks(df_val)\n",
    "Y_val = keras.utils.to_categorical([LABEL_TO_ENCODING[l] for l in df_val['label']], 5)\n",
    "Y_val = interleave_np_arrays(Y_val, Y_val)"
   ]
  },
  {
   "cell_type": "code",
   "execution_count": 17,
   "id": "7a219056",
   "metadata": {},
   "outputs": [
    {
     "data": {
      "text/plain": [
       "(100, 200, 200, 200)"
      ]
     },
     "execution_count": 17,
     "metadata": {},
     "output_type": "execute_result"
    }
   ],
   "source": [
    "len(df_val), len(X_val_imgs), len(X_val_landmarks), len(Y_val)"
   ]
  },
  {
   "cell_type": "code",
   "execution_count": 18,
   "id": "641582ae",
   "metadata": {},
   "outputs": [],
   "source": [
    "# load test data\n",
    "df_test = df_metadata[df_metadata['data_split'] == 'test']\n",
    "X_test_imgs = load_preprocess_imgs([f'{BASE_PATH}{p}' for p in df_test['relative_image_path']])\n",
    "X_test_landmarks = load_preprocess_landmarks(df_test)\n",
    "Y_test = keras.utils.to_categorical([LABEL_TO_ENCODING[l] for l in df_test['label']], 5)\n",
    "Y_test = interleave_np_arrays(Y_test, Y_test)"
   ]
  },
  {
   "cell_type": "code",
   "execution_count": 19,
   "id": "ba59a956",
   "metadata": {},
   "outputs": [
    {
     "data": {
      "text/plain": [
       "(200, 400, 400, 400)"
      ]
     },
     "execution_count": 19,
     "metadata": {},
     "output_type": "execute_result"
    }
   ],
   "source": [
    "len(df_test), len(X_test_imgs), len(X_test_landmarks), len(Y_test)"
   ]
  },
  {
   "cell_type": "code",
   "execution_count": null,
   "id": "9805e146",
   "metadata": {},
   "outputs": [],
   "source": []
  },
  {
   "cell_type": "code",
   "execution_count": 20,
   "id": "6b58471a",
   "metadata": {},
   "outputs": [
    {
     "data": {
      "text/plain": [
       "(640, 360, 3)"
      ]
     },
     "execution_count": 20,
     "metadata": {},
     "output_type": "execute_result"
    }
   ],
   "source": [
    "IMAGE_EXAMPLE_SHAPE"
   ]
  },
  {
   "cell_type": "markdown",
   "id": "7e94dec2",
   "metadata": {},
   "source": [
    "# Define Layers"
   ]
  },
  {
   "cell_type": "code",
   "execution_count": 21,
   "id": "82e8c0d1",
   "metadata": {},
   "outputs": [],
   "source": [
    "initializer = tf.initializers.VarianceScaling(scale=2.0)\n",
    "\n",
    "class ConvGroupLayer(tf.keras.layers.Layer):\n",
    "    def __init__(self, channel_size: int, filter_size: Tuple[int, int], dropout_rate: float):\n",
    "        self.conv = Conv2D(channel_size, filter_size, padding='same', kernel_initializer=initializer)\n",
    "        self.max_pool = MaxPooling2D(filter_size)\n",
    "        self.bn = BatchNormalization(axis=-1)\n",
    "        self.relu = LeakyReLU(alpha=0.1)\n",
    "        self.drop_out = Dropout(dropout_rate)\n",
    "    \n",
    "    def __call__(self, x):\n",
    "        x = self.conv(x)\n",
    "        x = self.max_pool(x)\n",
    "        x = self.bn(x)\n",
    "        x = self.relu(x)\n",
    "        x = self.drop_out(x)\n",
    "        \n",
    "        return x\n",
    "\n",
    "class CNNTower(tf.keras.layers.Layer):\n",
    "    def __init__(self, num_conv_layers:int, initial_channel_size: int, initial_filter_size: Tuple[int, int], dropout_rate: float):\n",
    "        self.initial_conv = Conv2D(initial_channel_size, initial_filter_size, padding='same', kernel_initializer=initializer, input_shape=IMAGE_EXAMPLE_SHAPE)\n",
    "        self.initial_max_pool = MaxPooling2D(initial_filter_size, padding='same')\n",
    "        self.initial_bn = BatchNormalization(axis=-1)\n",
    "        self.initial_relu = LeakyReLU(alpha=0.1)\n",
    "        self.initial_drop_out = Dropout(dropout_rate)\n",
    "        \n",
    "        self.intermediate_conv_layers = []\n",
    "        \n",
    "        for idx in range(num_conv_layers):\n",
    "            channel_size = initial_channel_size//(2**(idx+1))\n",
    "            \n",
    "            self.intermediate_conv_layers.append(ConvGroupLayer(channel_size, initial_filter_size, dropout_rate))\n",
    "            \n",
    "    def __call__(self, x):\n",
    "        x = self.initial_conv(x)\n",
    "        x = self.initial_max_pool(x)\n",
    "        x = self.initial_bn(x)\n",
    "        x = self.initial_relu(x)\n",
    "        x = self.initial_drop_out(x)\n",
    "        \n",
    "        for layer in self.intermediate_conv_layers:\n",
    "            x = layer(x)\n",
    "            \n",
    "        return Flatten()(x)\n",
    "            \n",
    "        \n",
    "        \n",
    "        \n",
    "        "
   ]
  },
  {
   "cell_type": "code",
   "execution_count": 22,
   "id": "7191764b",
   "metadata": {},
   "outputs": [],
   "source": [
    "# cnn_tower = CNNTower(num_conv_layers = 3,\n",
    "#                      initial_channel_size = 128,\n",
    "#                      initial_filter_size = (3, 3),\n",
    "#                      dropout_rate = 0.20\n",
    "#                     )\n",
    "# cnn_tower(tf.random.uniform((32, 640, 360, 3), dtype=tf.float32, minval=0, maxval=256))"
   ]
  },
  {
   "cell_type": "code",
   "execution_count": null,
   "id": "c472afb8",
   "metadata": {},
   "outputs": [],
   "source": []
  },
  {
   "cell_type": "code",
   "execution_count": null,
   "id": "7742c189",
   "metadata": {},
   "outputs": [],
   "source": []
  },
  {
   "cell_type": "code",
   "execution_count": null,
   "id": "4dd7c631",
   "metadata": {},
   "outputs": [],
   "source": []
  },
  {
   "cell_type": "code",
   "execution_count": null,
   "id": "f25045b0",
   "metadata": {},
   "outputs": [],
   "source": []
  },
  {
   "cell_type": "code",
   "execution_count": 23,
   "id": "cbd891bf",
   "metadata": {},
   "outputs": [],
   "source": [
    "class DNN(tf.keras.layers.Layer):\n",
    "    def __init__(self, num_layers: int, initial_dense_size: int, dropout_rate: float):\n",
    "        self.layers = []\n",
    "        \n",
    "        for idx in range(num_layers):\n",
    "            self.layers.append(Dense(initial_dense_size//(2**idx)))\n",
    "            self.layers.append(tf.keras.layers.BatchNormalization())\n",
    "            self.layers.append(LeakyReLU(alpha=0.1))\n",
    "            \n",
    "    def __call__(self, x):\n",
    "        for layer in self.layers:\n",
    "            x = layer(x)\n",
    "\n",
    "        return x\n",
    "            \n",
    "            \n",
    "    "
   ]
  },
  {
   "cell_type": "code",
   "execution_count": 24,
   "id": "f182ffa6",
   "metadata": {},
   "outputs": [],
   "source": [
    "# dnn = DNN(3, 256, 0.2)\n",
    "# dnn(tf.random.uniform((32, 488), dtype=tf.float32))"
   ]
  },
  {
   "cell_type": "code",
   "execution_count": null,
   "id": "251e394c",
   "metadata": {},
   "outputs": [],
   "source": []
  },
  {
   "cell_type": "markdown",
   "id": "80e8894b",
   "metadata": {},
   "source": [
    "# Two Tower Input Model"
   ]
  },
  {
   "cell_type": "code",
   "execution_count": 25,
   "id": "c3752dcb",
   "metadata": {},
   "outputs": [],
   "source": [
    "image_input = Input(shape=IMAGE_EXAMPLE_SHAPE)\n",
    "cnn_tower = CNNTower(num_conv_layers = 3,\n",
    "                     initial_channel_size = 128,\n",
    "                     initial_filter_size = (3, 3),\n",
    "                     dropout_rate = 0.20\n",
    "                    )\n",
    "x_cnn_tower = cnn_tower(image_input)"
   ]
  },
  {
   "cell_type": "code",
   "execution_count": 26,
   "id": "d4a2761f",
   "metadata": {},
   "outputs": [],
   "source": [
    "landmark_input = Input(shape=LANDMARK_EXAMPLE_SHAPE)\n",
    "dnn_tower = DNN(3, 1024, 0.2)\n",
    "\n",
    "x_dnn_tower = dnn_tower(landmark_input)"
   ]
  },
  {
   "cell_type": "code",
   "execution_count": 27,
   "id": "45bc6ca0",
   "metadata": {},
   "outputs": [],
   "source": [
    "x = concatenate([x_cnn_tower, x_dnn_tower])"
   ]
  },
  {
   "cell_type": "code",
   "execution_count": 28,
   "id": "9f2f8c11",
   "metadata": {},
   "outputs": [],
   "source": [
    "output_tower = DNN(3, 256, 0.2)\n",
    "x = output_tower(x)\n",
    "output = Dense(NUM_CLASSES, activation='softmax')(x)"
   ]
  },
  {
   "cell_type": "code",
   "execution_count": 29,
   "id": "a6134d00",
   "metadata": {},
   "outputs": [],
   "source": [
    "model = Model(inputs=[image_input, landmark_input], outputs=[output])"
   ]
  },
  {
   "cell_type": "code",
   "execution_count": 30,
   "id": "ff9e15b4",
   "metadata": {},
   "outputs": [],
   "source": [
    "opt = optimizers.Adam()\n",
    "\n",
    "model.compile(loss='categorical_crossentropy',\n",
    "              optimizer=opt,\n",
    "              metrics=['accuracy'])"
   ]
  },
  {
   "cell_type": "code",
   "execution_count": 31,
   "id": "a4010ed8",
   "metadata": {},
   "outputs": [
    {
     "name": "stdout",
     "output_type": "stream",
     "text": [
      "Model: \"functional_1\"\n",
      "__________________________________________________________________________________________________\n",
      "Layer (type)                    Output Shape         Param #     Connected to                     \n",
      "==================================================================================================\n",
      "input_1 (InputLayer)            [(None, 640, 360, 3) 0                                            \n",
      "__________________________________________________________________________________________________\n",
      "conv2d (Conv2D)                 (None, 640, 360, 128 3584        input_1[0][0]                    \n",
      "__________________________________________________________________________________________________\n",
      "max_pooling2d (MaxPooling2D)    (None, 214, 120, 128 0           conv2d[0][0]                     \n",
      "__________________________________________________________________________________________________\n",
      "batch_normalization (BatchNorma (None, 214, 120, 128 512         max_pooling2d[0][0]              \n",
      "__________________________________________________________________________________________________\n",
      "leaky_re_lu (LeakyReLU)         (None, 214, 120, 128 0           batch_normalization[0][0]        \n",
      "__________________________________________________________________________________________________\n",
      "dropout (Dropout)               (None, 214, 120, 128 0           leaky_re_lu[0][0]                \n",
      "__________________________________________________________________________________________________\n",
      "conv2d_1 (Conv2D)               (None, 214, 120, 64) 73792       dropout[0][0]                    \n",
      "__________________________________________________________________________________________________\n",
      "max_pooling2d_1 (MaxPooling2D)  (None, 71, 40, 64)   0           conv2d_1[0][0]                   \n",
      "__________________________________________________________________________________________________\n",
      "batch_normalization_1 (BatchNor (None, 71, 40, 64)   256         max_pooling2d_1[0][0]            \n",
      "__________________________________________________________________________________________________\n",
      "leaky_re_lu_1 (LeakyReLU)       (None, 71, 40, 64)   0           batch_normalization_1[0][0]      \n",
      "__________________________________________________________________________________________________\n",
      "dropout_1 (Dropout)             (None, 71, 40, 64)   0           leaky_re_lu_1[0][0]              \n",
      "__________________________________________________________________________________________________\n",
      "conv2d_2 (Conv2D)               (None, 71, 40, 32)   18464       dropout_1[0][0]                  \n",
      "__________________________________________________________________________________________________\n",
      "max_pooling2d_2 (MaxPooling2D)  (None, 23, 13, 32)   0           conv2d_2[0][0]                   \n",
      "__________________________________________________________________________________________________\n",
      "input_2 (InputLayer)            [(None, 39)]         0                                            \n",
      "__________________________________________________________________________________________________\n",
      "batch_normalization_2 (BatchNor (None, 23, 13, 32)   128         max_pooling2d_2[0][0]            \n",
      "__________________________________________________________________________________________________\n",
      "dense (Dense)                   (None, 1024)         40960       input_2[0][0]                    \n",
      "__________________________________________________________________________________________________\n",
      "leaky_re_lu_2 (LeakyReLU)       (None, 23, 13, 32)   0           batch_normalization_2[0][0]      \n",
      "__________________________________________________________________________________________________\n",
      "batch_normalization_4 (BatchNor (None, 1024)         4096        dense[0][0]                      \n",
      "__________________________________________________________________________________________________\n",
      "dropout_2 (Dropout)             (None, 23, 13, 32)   0           leaky_re_lu_2[0][0]              \n",
      "__________________________________________________________________________________________________\n",
      "leaky_re_lu_4 (LeakyReLU)       (None, 1024)         0           batch_normalization_4[0][0]      \n",
      "__________________________________________________________________________________________________\n",
      "conv2d_3 (Conv2D)               (None, 23, 13, 16)   4624        dropout_2[0][0]                  \n",
      "__________________________________________________________________________________________________\n",
      "dense_1 (Dense)                 (None, 512)          524800      leaky_re_lu_4[0][0]              \n",
      "__________________________________________________________________________________________________\n",
      "max_pooling2d_3 (MaxPooling2D)  (None, 7, 4, 16)     0           conv2d_3[0][0]                   \n",
      "__________________________________________________________________________________________________\n",
      "batch_normalization_5 (BatchNor (None, 512)          2048        dense_1[0][0]                    \n",
      "__________________________________________________________________________________________________\n",
      "batch_normalization_3 (BatchNor (None, 7, 4, 16)     64          max_pooling2d_3[0][0]            \n",
      "__________________________________________________________________________________________________\n",
      "leaky_re_lu_5 (LeakyReLU)       (None, 512)          0           batch_normalization_5[0][0]      \n",
      "__________________________________________________________________________________________________\n",
      "leaky_re_lu_3 (LeakyReLU)       (None, 7, 4, 16)     0           batch_normalization_3[0][0]      \n",
      "__________________________________________________________________________________________________\n",
      "dense_2 (Dense)                 (None, 256)          131328      leaky_re_lu_5[0][0]              \n",
      "__________________________________________________________________________________________________\n",
      "dropout_3 (Dropout)             (None, 7, 4, 16)     0           leaky_re_lu_3[0][0]              \n",
      "__________________________________________________________________________________________________\n",
      "batch_normalization_6 (BatchNor (None, 256)          1024        dense_2[0][0]                    \n",
      "__________________________________________________________________________________________________\n",
      "flatten (Flatten)               (None, 448)          0           dropout_3[0][0]                  \n",
      "__________________________________________________________________________________________________\n",
      "leaky_re_lu_6 (LeakyReLU)       (None, 256)          0           batch_normalization_6[0][0]      \n",
      "__________________________________________________________________________________________________\n",
      "concatenate (Concatenate)       (None, 704)          0           flatten[0][0]                    \n",
      "                                                                 leaky_re_lu_6[0][0]              \n",
      "__________________________________________________________________________________________________\n",
      "dense_3 (Dense)                 (None, 256)          180480      concatenate[0][0]                \n",
      "__________________________________________________________________________________________________\n",
      "batch_normalization_7 (BatchNor (None, 256)          1024        dense_3[0][0]                    \n",
      "__________________________________________________________________________________________________\n",
      "leaky_re_lu_7 (LeakyReLU)       (None, 256)          0           batch_normalization_7[0][0]      \n",
      "__________________________________________________________________________________________________\n",
      "dense_4 (Dense)                 (None, 128)          32896       leaky_re_lu_7[0][0]              \n",
      "__________________________________________________________________________________________________\n",
      "batch_normalization_8 (BatchNor (None, 128)          512         dense_4[0][0]                    \n",
      "__________________________________________________________________________________________________\n",
      "leaky_re_lu_8 (LeakyReLU)       (None, 128)          0           batch_normalization_8[0][0]      \n",
      "__________________________________________________________________________________________________\n",
      "dense_5 (Dense)                 (None, 64)           8256        leaky_re_lu_8[0][0]              \n",
      "__________________________________________________________________________________________________\n",
      "batch_normalization_9 (BatchNor (None, 64)           256         dense_5[0][0]                    \n",
      "__________________________________________________________________________________________________\n",
      "leaky_re_lu_9 (LeakyReLU)       (None, 64)           0           batch_normalization_9[0][0]      \n",
      "__________________________________________________________________________________________________\n",
      "dense_6 (Dense)                 (None, 5)            325         leaky_re_lu_9[0][0]              \n",
      "==================================================================================================\n",
      "Total params: 1,029,429\n",
      "Trainable params: 1,024,469\n",
      "Non-trainable params: 4,960\n",
      "__________________________________________________________________________________________________\n"
     ]
    }
   ],
   "source": [
    "model.summary()"
   ]
  },
  {
   "cell_type": "code",
   "execution_count": 31,
   "id": "638bc9e7",
   "metadata": {},
   "outputs": [],
   "source": [
    "epochs = 100\n",
    "batch_size = 32"
   ]
  },
  {
   "cell_type": "code",
   "execution_count": 32,
   "id": "188bdc97",
   "metadata": {},
   "outputs": [
    {
     "name": "stdout",
     "output_type": "stream",
     "text": [
      "Epoch 1/100\n",
      "37/37 [==============================] - 17s 470ms/step - loss: 1.4309 - accuracy: 0.5076 - val_loss: 5.1265 - val_accuracy: 0.6800\n",
      "Epoch 2/100\n",
      "37/37 [==============================] - 16s 423ms/step - loss: 0.6424 - accuracy: 0.8031 - val_loss: 2.4079 - val_accuracy: 0.6800\n",
      "Epoch 3/100\n",
      "37/37 [==============================] - 15s 414ms/step - loss: 0.4403 - accuracy: 0.8565 - val_loss: 1.1978 - val_accuracy: 0.6800\n",
      "Epoch 4/100\n",
      "37/37 [==============================] - 15s 412ms/step - loss: 0.3649 - accuracy: 0.8778 - val_loss: 0.6710 - val_accuracy: 0.7100\n",
      "Epoch 5/100\n",
      "37/37 [==============================] - 15s 414ms/step - loss: 0.2942 - accuracy: 0.9041 - val_loss: 0.6703 - val_accuracy: 0.6950\n",
      "Epoch 6/100\n",
      "37/37 [==============================] - 16s 419ms/step - loss: 0.2590 - accuracy: 0.8913 - val_loss: 0.7464 - val_accuracy: 0.6750\n",
      "Epoch 7/100\n",
      "37/37 [==============================] - 15s 418ms/step - loss: 0.2431 - accuracy: 0.9109 - val_loss: 0.6513 - val_accuracy: 0.7200\n",
      "Epoch 8/100\n",
      "37/37 [==============================] - 15s 416ms/step - loss: 0.1982 - accuracy: 0.9278 - val_loss: 0.7761 - val_accuracy: 0.6800\n",
      "Epoch 9/100\n",
      "37/37 [==============================] - 15s 414ms/step - loss: 0.1762 - accuracy: 0.9346 - val_loss: 0.6845 - val_accuracy: 0.7200\n",
      "Epoch 10/100\n",
      "37/37 [==============================] - 15s 415ms/step - loss: 0.1691 - accuracy: 0.9363 - val_loss: 0.6840 - val_accuracy: 0.7200\n",
      "Epoch 11/100\n",
      "37/37 [==============================] - 15s 416ms/step - loss: 0.1569 - accuracy: 0.9431 - val_loss: 0.5780 - val_accuracy: 0.7800\n",
      "Epoch 12/100\n",
      "37/37 [==============================] - 15s 416ms/step - loss: 0.1608 - accuracy: 0.9414 - val_loss: 0.6050 - val_accuracy: 0.7650\n",
      "Epoch 13/100\n",
      "37/37 [==============================] - 15s 416ms/step - loss: 0.1448 - accuracy: 0.9465 - val_loss: 0.3815 - val_accuracy: 0.8150\n",
      "Epoch 14/100\n",
      "37/37 [==============================] - 15s 416ms/step - loss: 0.1383 - accuracy: 0.9482 - val_loss: 0.5627 - val_accuracy: 0.7950\n",
      "Epoch 15/100\n",
      "37/37 [==============================] - 15s 416ms/step - loss: 0.1597 - accuracy: 0.9397 - val_loss: 0.3872 - val_accuracy: 0.8450\n",
      "Epoch 16/100\n",
      "37/37 [==============================] - 15s 416ms/step - loss: 0.1591 - accuracy: 0.9423 - val_loss: 0.8213 - val_accuracy: 0.7350\n",
      "Epoch 17/100\n",
      "37/37 [==============================] - 15s 416ms/step - loss: 0.1209 - accuracy: 0.9550 - val_loss: 0.6009 - val_accuracy: 0.7450\n",
      "Epoch 18/100\n",
      "37/37 [==============================] - 15s 416ms/step - loss: 0.1182 - accuracy: 0.9550 - val_loss: 0.3850 - val_accuracy: 0.8450\n",
      "Epoch 19/100\n",
      "37/37 [==============================] - 15s 416ms/step - loss: 0.1202 - accuracy: 0.9508 - val_loss: 0.8772 - val_accuracy: 0.7050\n",
      "Epoch 20/100\n",
      "37/37 [==============================] - 15s 416ms/step - loss: 0.1077 - accuracy: 0.9584 - val_loss: 0.4829 - val_accuracy: 0.8500\n",
      "Epoch 21/100\n",
      "37/37 [==============================] - 15s 415ms/step - loss: 0.1041 - accuracy: 0.9728 - val_loss: 0.7543 - val_accuracy: 0.7750\n",
      "Epoch 22/100\n",
      "37/37 [==============================] - 15s 416ms/step - loss: 0.1150 - accuracy: 0.9584 - val_loss: 0.4524 - val_accuracy: 0.8250\n",
      "Epoch 23/100\n",
      "37/37 [==============================] - 15s 416ms/step - loss: 0.1038 - accuracy: 0.9601 - val_loss: 0.6740 - val_accuracy: 0.7600\n",
      "Epoch 24/100\n",
      "37/37 [==============================] - 15s 415ms/step - loss: 0.0890 - accuracy: 0.9686 - val_loss: 1.0271 - val_accuracy: 0.6700\n",
      "Epoch 25/100\n",
      "37/37 [==============================] - 15s 416ms/step - loss: 0.0869 - accuracy: 0.9720 - val_loss: 0.6691 - val_accuracy: 0.7250\n",
      "Epoch 26/100\n",
      "37/37 [==============================] - 15s 416ms/step - loss: 0.0931 - accuracy: 0.9677 - val_loss: 0.6274 - val_accuracy: 0.7800\n",
      "Epoch 27/100\n",
      "37/37 [==============================] - 15s 416ms/step - loss: 0.1086 - accuracy: 0.9610 - val_loss: 0.4467 - val_accuracy: 0.7750\n",
      "Epoch 28/100\n",
      "37/37 [==============================] - 15s 415ms/step - loss: 0.1140 - accuracy: 0.9533 - val_loss: 0.4306 - val_accuracy: 0.8650\n",
      "Epoch 29/100\n",
      "37/37 [==============================] - 15s 415ms/step - loss: 0.0902 - accuracy: 0.9728 - val_loss: 0.3531 - val_accuracy: 0.8750\n",
      "Epoch 30/100\n",
      "37/37 [==============================] - 15s 416ms/step - loss: 0.0734 - accuracy: 0.9754 - val_loss: 0.5268 - val_accuracy: 0.8150\n",
      "Epoch 31/100\n",
      "37/37 [==============================] - 15s 416ms/step - loss: 0.0760 - accuracy: 0.9703 - val_loss: 0.5361 - val_accuracy: 0.7650\n",
      "Epoch 32/100\n",
      "37/37 [==============================] - 15s 416ms/step - loss: 0.0999 - accuracy: 0.9643 - val_loss: 0.6147 - val_accuracy: 0.7500\n",
      "Epoch 33/100\n",
      "37/37 [==============================] - 15s 416ms/step - loss: 0.0738 - accuracy: 0.9737 - val_loss: 0.6371 - val_accuracy: 0.7900\n",
      "Epoch 34/100\n",
      "37/37 [==============================] - 15s 415ms/step - loss: 0.0658 - accuracy: 0.9779 - val_loss: 0.3232 - val_accuracy: 0.8550\n",
      "Epoch 35/100\n",
      "37/37 [==============================] - 15s 416ms/step - loss: 0.0657 - accuracy: 0.9754 - val_loss: 0.6270 - val_accuracy: 0.7850\n",
      "Epoch 36/100\n",
      "37/37 [==============================] - 15s 416ms/step - loss: 0.0576 - accuracy: 0.9805 - val_loss: 0.4687 - val_accuracy: 0.7800\n",
      "Epoch 37/100\n",
      "37/37 [==============================] - 15s 415ms/step - loss: 0.0504 - accuracy: 0.9813 - val_loss: 0.3294 - val_accuracy: 0.8450\n",
      "Epoch 38/100\n",
      "37/37 [==============================] - 15s 416ms/step - loss: 0.0612 - accuracy: 0.9779 - val_loss: 0.4002 - val_accuracy: 0.8000\n",
      "Epoch 39/100\n",
      "37/37 [==============================] - 15s 417ms/step - loss: 0.0898 - accuracy: 0.9677 - val_loss: 0.5088 - val_accuracy: 0.7700\n",
      "Epoch 40/100\n",
      "37/37 [==============================] - 15s 416ms/step - loss: 0.0688 - accuracy: 0.9711 - val_loss: 0.5014 - val_accuracy: 0.8100\n",
      "Epoch 41/100\n",
      "37/37 [==============================] - 15s 416ms/step - loss: 0.0608 - accuracy: 0.9796 - val_loss: 0.6891 - val_accuracy: 0.7750\n",
      "Epoch 42/100\n",
      "37/37 [==============================] - 15s 416ms/step - loss: 0.0697 - accuracy: 0.9745 - val_loss: 0.8533 - val_accuracy: 0.8100\n",
      "Epoch 43/100\n",
      "37/37 [==============================] - 15s 415ms/step - loss: 0.0681 - accuracy: 0.9779 - val_loss: 0.5538 - val_accuracy: 0.7850\n",
      "Epoch 44/100\n",
      "37/37 [==============================] - 15s 416ms/step - loss: 0.0577 - accuracy: 0.9830 - val_loss: 0.5995 - val_accuracy: 0.7550\n",
      "Epoch 45/100\n",
      "37/37 [==============================] - 15s 416ms/step - loss: 0.0502 - accuracy: 0.9830 - val_loss: 0.6610 - val_accuracy: 0.8050\n",
      "Epoch 46/100\n",
      "37/37 [==============================] - 15s 416ms/step - loss: 0.0543 - accuracy: 0.9805 - val_loss: 0.7358 - val_accuracy: 0.7450\n",
      "Epoch 47/100\n",
      "37/37 [==============================] - 15s 415ms/step - loss: 0.0529 - accuracy: 0.9830 - val_loss: 0.6490 - val_accuracy: 0.7600\n",
      "Epoch 48/100\n",
      "37/37 [==============================] - 15s 416ms/step - loss: 0.0351 - accuracy: 0.9890 - val_loss: 0.6000 - val_accuracy: 0.8050\n",
      "Epoch 49/100\n",
      "37/37 [==============================] - 15s 416ms/step - loss: 0.0532 - accuracy: 0.9822 - val_loss: 0.4835 - val_accuracy: 0.7850\n",
      "Epoch 50/100\n",
      "37/37 [==============================] - 15s 417ms/step - loss: 0.0497 - accuracy: 0.9830 - val_loss: 0.4210 - val_accuracy: 0.8150\n",
      "Epoch 51/100\n",
      "37/37 [==============================] - 15s 416ms/step - loss: 0.0488 - accuracy: 0.9830 - val_loss: 0.4782 - val_accuracy: 0.8400\n",
      "Epoch 52/100\n",
      "37/37 [==============================] - 15s 415ms/step - loss: 0.0537 - accuracy: 0.9788 - val_loss: 0.5966 - val_accuracy: 0.8550\n",
      "Epoch 53/100\n",
      "37/37 [==============================] - 15s 416ms/step - loss: 0.0576 - accuracy: 0.9788 - val_loss: 0.2790 - val_accuracy: 0.8900\n",
      "Epoch 54/100\n",
      "37/37 [==============================] - 15s 415ms/step - loss: 0.0616 - accuracy: 0.9762 - val_loss: 0.6128 - val_accuracy: 0.8350\n",
      "Epoch 55/100\n",
      "37/37 [==============================] - 15s 416ms/step - loss: 0.0509 - accuracy: 0.9813 - val_loss: 0.4222 - val_accuracy: 0.8500\n",
      "Epoch 56/100\n",
      "37/37 [==============================] - 15s 417ms/step - loss: 0.0530 - accuracy: 0.9771 - val_loss: 0.4111 - val_accuracy: 0.8300\n",
      "Epoch 57/100\n",
      "37/37 [==============================] - 15s 417ms/step - loss: 0.0516 - accuracy: 0.9813 - val_loss: 0.2366 - val_accuracy: 0.9000\n",
      "Epoch 58/100\n",
      "37/37 [==============================] - 15s 416ms/step - loss: 0.0621 - accuracy: 0.9745 - val_loss: 0.3369 - val_accuracy: 0.8200\n",
      "Epoch 59/100\n",
      "37/37 [==============================] - 15s 416ms/step - loss: 0.0356 - accuracy: 0.9881 - val_loss: 0.3456 - val_accuracy: 0.9000\n",
      "Epoch 60/100\n",
      "37/37 [==============================] - 15s 417ms/step - loss: 0.0407 - accuracy: 0.9856 - val_loss: 0.2388 - val_accuracy: 0.8900\n",
      "Epoch 61/100\n",
      "37/37 [==============================] - 15s 417ms/step - loss: 0.0604 - accuracy: 0.9822 - val_loss: 0.4839 - val_accuracy: 0.8100\n",
      "Epoch 62/100\n",
      "37/37 [==============================] - 15s 415ms/step - loss: 0.0253 - accuracy: 0.9932 - val_loss: 0.3694 - val_accuracy: 0.8250\n",
      "Epoch 63/100\n",
      "37/37 [==============================] - 15s 415ms/step - loss: 0.0312 - accuracy: 0.9873 - val_loss: 0.6232 - val_accuracy: 0.8000\n",
      "Epoch 64/100\n",
      "37/37 [==============================] - 15s 415ms/step - loss: 0.0286 - accuracy: 0.9881 - val_loss: 0.3060 - val_accuracy: 0.8750\n",
      "Epoch 65/100\n",
      "37/37 [==============================] - 15s 417ms/step - loss: 0.0314 - accuracy: 0.9873 - val_loss: 0.5434 - val_accuracy: 0.8300\n",
      "Epoch 66/100\n",
      "37/37 [==============================] - 15s 417ms/step - loss: 0.0352 - accuracy: 0.9864 - val_loss: 0.4644 - val_accuracy: 0.8550\n",
      "Epoch 67/100\n",
      "37/37 [==============================] - 15s 416ms/step - loss: 0.0229 - accuracy: 0.9915 - val_loss: 0.5238 - val_accuracy: 0.8500\n",
      "Epoch 68/100\n",
      "37/37 [==============================] - 15s 417ms/step - loss: 0.0413 - accuracy: 0.9847 - val_loss: 0.5390 - val_accuracy: 0.8450\n",
      "Epoch 69/100\n",
      "37/37 [==============================] - 15s 416ms/step - loss: 0.0352 - accuracy: 0.9856 - val_loss: 0.5900 - val_accuracy: 0.8550\n",
      "Epoch 70/100\n",
      "37/37 [==============================] - 15s 415ms/step - loss: 0.0319 - accuracy: 0.9881 - val_loss: 0.5741 - val_accuracy: 0.8450\n",
      "Epoch 71/100\n",
      "37/37 [==============================] - 15s 416ms/step - loss: 0.0261 - accuracy: 0.9898 - val_loss: 0.3925 - val_accuracy: 0.8950\n",
      "Epoch 72/100\n",
      "37/37 [==============================] - 15s 414ms/step - loss: 0.0396 - accuracy: 0.9839 - val_loss: 0.3644 - val_accuracy: 0.8850\n",
      "Epoch 73/100\n",
      "37/37 [==============================] - 15s 414ms/step - loss: 0.0252 - accuracy: 0.9915 - val_loss: 0.3484 - val_accuracy: 0.9150\n",
      "Epoch 74/100\n",
      "37/37 [==============================] - 15s 415ms/step - loss: 0.0248 - accuracy: 0.9915 - val_loss: 0.3032 - val_accuracy: 0.9100\n",
      "Epoch 75/100\n",
      "37/37 [==============================] - 15s 416ms/step - loss: 0.0335 - accuracy: 0.9856 - val_loss: 0.7669 - val_accuracy: 0.7950\n",
      "Epoch 76/100\n",
      "37/37 [==============================] - 15s 416ms/step - loss: 0.0303 - accuracy: 0.9915 - val_loss: 0.4119 - val_accuracy: 0.8800\n",
      "Epoch 77/100\n",
      "37/37 [==============================] - 15s 416ms/step - loss: 0.0404 - accuracy: 0.9822 - val_loss: 0.5966 - val_accuracy: 0.8600\n",
      "Epoch 78/100\n",
      "37/37 [==============================] - 15s 416ms/step - loss: 0.0319 - accuracy: 0.9898 - val_loss: 0.7009 - val_accuracy: 0.8200\n",
      "Epoch 79/100\n",
      "37/37 [==============================] - 15s 416ms/step - loss: 0.0335 - accuracy: 0.9839 - val_loss: 0.3846 - val_accuracy: 0.8850\n",
      "Epoch 80/100\n",
      "37/37 [==============================] - 15s 416ms/step - loss: 0.0350 - accuracy: 0.9864 - val_loss: 0.4642 - val_accuracy: 0.8600\n",
      "Epoch 81/100\n",
      "37/37 [==============================] - 15s 416ms/step - loss: 0.0222 - accuracy: 0.9915 - val_loss: 0.3372 - val_accuracy: 0.8700\n",
      "Epoch 82/100\n",
      "37/37 [==============================] - 15s 415ms/step - loss: 0.0351 - accuracy: 0.9847 - val_loss: 0.2904 - val_accuracy: 0.9050\n",
      "Epoch 83/100\n",
      "37/37 [==============================] - 15s 415ms/step - loss: 0.0420 - accuracy: 0.9864 - val_loss: 0.3940 - val_accuracy: 0.8900\n",
      "Epoch 84/100\n",
      "37/37 [==============================] - 15s 416ms/step - loss: 0.0493 - accuracy: 0.9864 - val_loss: 0.4783 - val_accuracy: 0.8200\n",
      "Epoch 85/100\n",
      "37/37 [==============================] - 15s 416ms/step - loss: 0.0458 - accuracy: 0.9847 - val_loss: 0.3631 - val_accuracy: 0.8900\n",
      "Epoch 86/100\n",
      "37/37 [==============================] - 15s 416ms/step - loss: 0.0388 - accuracy: 0.9864 - val_loss: 0.1914 - val_accuracy: 0.9150\n",
      "Epoch 87/100\n",
      "37/37 [==============================] - 15s 416ms/step - loss: 0.0272 - accuracy: 0.9915 - val_loss: 0.3325 - val_accuracy: 0.8750\n",
      "Epoch 88/100\n",
      "37/37 [==============================] - 15s 416ms/step - loss: 0.0173 - accuracy: 0.9941 - val_loss: 0.3031 - val_accuracy: 0.9100\n",
      "Epoch 89/100\n",
      "37/37 [==============================] - 15s 415ms/step - loss: 0.0320 - accuracy: 0.9890 - val_loss: 0.4646 - val_accuracy: 0.8000\n",
      "Epoch 90/100\n",
      "37/37 [==============================] - 15s 415ms/step - loss: 0.0165 - accuracy: 0.9941 - val_loss: 0.4134 - val_accuracy: 0.8250\n",
      "Epoch 91/100\n",
      "37/37 [==============================] - 15s 415ms/step - loss: 0.0275 - accuracy: 0.9890 - val_loss: 0.3969 - val_accuracy: 0.8300\n",
      "Epoch 92/100\n",
      "37/37 [==============================] - 15s 416ms/step - loss: 0.0215 - accuracy: 0.9941 - val_loss: 0.5389 - val_accuracy: 0.8400\n",
      "Epoch 93/100\n",
      "37/37 [==============================] - 15s 415ms/step - loss: 0.0240 - accuracy: 0.9898 - val_loss: 0.3569 - val_accuracy: 0.8450\n",
      "Epoch 94/100\n",
      "37/37 [==============================] - 15s 416ms/step - loss: 0.0186 - accuracy: 0.9924 - val_loss: 0.3858 - val_accuracy: 0.8900\n",
      "Epoch 95/100\n",
      "37/37 [==============================] - 15s 415ms/step - loss: 0.0181 - accuracy: 0.9941 - val_loss: 0.3018 - val_accuracy: 0.8700\n",
      "Epoch 96/100\n",
      "37/37 [==============================] - 15s 416ms/step - loss: 0.0322 - accuracy: 0.9881 - val_loss: 0.4915 - val_accuracy: 0.8750\n",
      "Epoch 97/100\n",
      "37/37 [==============================] - 15s 415ms/step - loss: 0.0318 - accuracy: 0.9898 - val_loss: 0.2560 - val_accuracy: 0.8950\n",
      "Epoch 98/100\n",
      "37/37 [==============================] - 15s 415ms/step - loss: 0.0220 - accuracy: 0.9907 - val_loss: 0.4638 - val_accuracy: 0.8050\n",
      "Epoch 99/100\n",
      "37/37 [==============================] - 15s 415ms/step - loss: 0.0227 - accuracy: 0.9907 - val_loss: 0.4052 - val_accuracy: 0.8300\n",
      "Epoch 100/100\n",
      "37/37 [==============================] - 15s 415ms/step - loss: 0.0262 - accuracy: 0.9907 - val_loss: 0.6244 - val_accuracy: 0.8600\n"
     ]
    },
    {
     "data": {
      "text/plain": [
       "<tensorflow.python.keras.callbacks.History at 0x7f9fbe423b90>"
      ]
     },
     "execution_count": 32,
     "metadata": {},
     "output_type": "execute_result"
    }
   ],
   "source": [
    "model.fit([X_train_imgs, X_train_landmarks], Y_train,\n",
    "          batch_size=batch_size,\n",
    "          epochs=epochs,\n",
    "#           callbacks=callbacks,\n",
    "          verbose=1,\n",
    "          validation_data=([X_val_imgs, X_val_landmarks], Y_val),\n",
    "          shuffle=True)"
   ]
  },
  {
   "cell_type": "code",
   "execution_count": 33,
   "id": "7896c8c9",
   "metadata": {},
   "outputs": [
    {
     "name": "stdout",
     "output_type": "stream",
     "text": [
      "13/13 [==============================] - 2s 171ms/step - loss: 0.9322 - accuracy: 0.7825\n"
     ]
    },
    {
     "data": {
      "text/plain": [
       "[0.9321689605712891, 0.7825000286102295]"
      ]
     },
     "execution_count": 33,
     "metadata": {},
     "output_type": "execute_result"
    }
   ],
   "source": [
    "model.evaluate([X_test_imgs, X_test_landmarks], Y_test, verbose=1)"
   ]
  },
  {
   "cell_type": "code",
   "execution_count": null,
   "id": "74aa4e37",
   "metadata": {},
   "outputs": [],
   "source": []
  },
  {
   "cell_type": "code",
   "execution_count": 34,
   "id": "4a556eba",
   "metadata": {},
   "outputs": [],
   "source": [
    "Y_preds = model.predict([X_test_imgs, X_test_landmarks])"
   ]
  },
  {
   "cell_type": "code",
   "execution_count": 35,
   "id": "aef79a66",
   "metadata": {},
   "outputs": [],
   "source": [
    "Y_test_labels = np.argmax(Y_test, axis=-1)\n",
    "Y_preds_labels = np.argmax(Y_preds, axis=-1)"
   ]
  },
  {
   "cell_type": "code",
   "execution_count": 36,
   "id": "19da35b1",
   "metadata": {},
   "outputs": [
    {
     "name": "stdout",
     "output_type": "stream",
     "text": [
      "              precision    recall  f1-score   support\n",
      "\n",
      "           0       0.78      0.95      0.86       266\n",
      "           1       0.50      0.06      0.11        32\n",
      "           2       0.87      0.71      0.78        38\n",
      "           3       0.70      0.44      0.54        32\n",
      "           4       0.89      0.50      0.64        32\n",
      "\n",
      "    accuracy                           0.78       400\n",
      "   macro avg       0.75      0.53      0.59       400\n",
      "weighted avg       0.77      0.78      0.75       400\n",
      "\n"
     ]
    }
   ],
   "source": [
    "print(sklearn.metrics.classification_report(Y_test_labels, Y_preds_labels))"
   ]
  },
  {
   "cell_type": "code",
   "execution_count": 78,
   "id": "796cedb5",
   "metadata": {},
   "outputs": [],
   "source": [
    "def confusion_matrix(y_true: List[int], y_pred: List[int], labels=list(LABEL_TO_ENCODING.keys()), ymap=None, figsize=(10,10)):\n",
    "    if ymap is not None:\n",
    "        y_pred = [ymap[yi] for yi in y_pred]\n",
    "        y_true = [ymap[yi] for yi in y_true]\n",
    "        labels = [ymap[yi] for yi in labels]\n",
    "    cm = sklearn.metrics.confusion_matrix(y_true, y_pred, labels=labels)\n",
    "    \n",
    "    cm_sum = np.sum(cm, axis=1, keepdims=True)\n",
    "    cm_perc = cm / cm_sum.astype(float) * 100\n",
    "    annot = np.empty_like(cm).astype(str)\n",
    "    nrows, ncols = cm.shape\n",
    "    for i in range(nrows):\n",
    "        for j in range(ncols):\n",
    "            c = cm[i, j]\n",
    "            p = cm_perc[i, j]\n",
    "            if i == j:\n",
    "                s = cm_sum[i]\n",
    "                annot[i, j] = '%.1f%%\\n%d/%d' % (p, c, s)\n",
    "            elif c == 0:\n",
    "                annot[i, j] = ''\n",
    "            else:\n",
    "                annot[i, j] = '%.1f%%\\n%d' % (p, c)\n",
    "    cm = pd.DataFrame(cm, index=labels, columns=labels)\n",
    "    cm.index.name = 'Actual'\n",
    "    cm.columns.name = 'Predicted'\n",
    "    fig, ax = plt.subplots(figsize=figsize)\n",
    "    sns.heatmap(cm, annot=annot, fmt='', ax=ax)\n",
    "    # plt.savefig(filename)"
   ]
  },
  {
   "cell_type": "code",
   "execution_count": 82,
   "id": "f6c89644",
   "metadata": {},
   "outputs": [],
   "source": [
    "Y_test_labels_str = [ENCODING_TO_LABEL[l] for l in Y_test_labels]\n",
    "Y_preds_labels_str = [ENCODING_TO_LABEL[l] for l in Y_preds_labels]"
   ]
  },
  {
   "cell_type": "code",
   "execution_count": 83,
   "id": "6a4af65d",
   "metadata": {},
   "outputs": [
    {
     "data": {
      "image/png": "[encoded data removed]",
      "text/plain": [
       "<Figure size 720x720 with 2 Axes>"
      ]
     },
     "metadata": {
      "needs_background": "light"
     },
     "output_type": "display_data"
    }
   ],
   "source": [
    "confusion_matrix(Y_test_labels_str, Y_preds_labels_str, list(LABEL_TO_ENCODING.keys()))"
   ]
  },
  {
   "cell_type": "code",
   "execution_count": null,
   "id": "15fc289e",
   "metadata": {},
   "outputs": [],
   "source": []
  },
  {
   "cell_type": "code",
   "execution_count": null,
   "id": "14ccbb13",
   "metadata": {},
   "outputs": [],
   "source": []
  },
  {
   "cell_type": "markdown",
   "id": "a9fe7265",
   "metadata": {},
   "source": [
    "# [Ablation] Image only"
   ]
  },
  {
   "cell_type": "code",
   "execution_count": 37,
   "id": "e5aa8c75",
   "metadata": {},
   "outputs": [],
   "source": [
    "image_input = Input(shape=IMAGE_EXAMPLE_SHAPE)\n",
    "cnn_tower = CNNTower(num_conv_layers = 3,\n",
    "                     initial_channel_size = 128,\n",
    "                     initial_filter_size = (3, 3),\n",
    "                     dropout_rate = 0.20\n",
    "                    )\n",
    "x_cnn_tower = cnn_tower(image_input)"
   ]
  },
  {
   "cell_type": "code",
   "execution_count": 38,
   "id": "dd565205",
   "metadata": {},
   "outputs": [],
   "source": [
    "output_tower = DNN(3, 256, 0.2)\n",
    "x = output_tower(x_cnn_tower)\n",
    "output = Dense(NUM_CLASSES, activation='softmax')(x)"
   ]
  },
  {
   "cell_type": "code",
   "execution_count": 39,
   "id": "f947b9a7",
   "metadata": {},
   "outputs": [],
   "source": [
    "ablation_model_image = Model(inputs=[image_input], outputs=[output])"
   ]
  },
  {
   "cell_type": "code",
   "execution_count": 40,
   "id": "6e1d41fa",
   "metadata": {},
   "outputs": [],
   "source": [
    "opt = optimizers.Adam()\n",
    "\n",
    "ablation_model_image.compile(loss='categorical_crossentropy',\n",
    "                             optimizer=opt,\n",
    "                             metrics=['accuracy'])"
   ]
  },
  {
   "cell_type": "code",
   "execution_count": 41,
   "id": "7fae7634",
   "metadata": {},
   "outputs": [],
   "source": [
    "epochs = 100\n",
    "batch_size = 32"
   ]
  },
  {
   "cell_type": "code",
   "execution_count": 42,
   "id": "65ff4943",
   "metadata": {},
   "outputs": [
    {
     "name": "stdout",
     "output_type": "stream",
     "text": [
      "Epoch 1/100\n",
      "37/37 [==============================] - 16s 421ms/step - loss: 1.1272 - accuracy: 0.5518 - val_loss: 7.3947 - val_accuracy: 0.6800\n",
      "Epoch 2/100\n",
      "37/37 [==============================] - 15s 414ms/step - loss: 0.6491 - accuracy: 0.7504 - val_loss: 4.1670 - val_accuracy: 0.6800\n",
      "Epoch 3/100\n",
      "37/37 [==============================] - 15s 414ms/step - loss: 0.5068 - accuracy: 0.8048 - val_loss: 1.8176 - val_accuracy: 0.6800\n",
      "Epoch 4/100\n",
      "37/37 [==============================] - 15s 415ms/step - loss: 0.4100 - accuracy: 0.8438 - val_loss: 0.5996 - val_accuracy: 0.7900\n",
      "Epoch 5/100\n",
      "37/37 [==============================] - 15s 415ms/step - loss: 0.3834 - accuracy: 0.8438 - val_loss: 0.5394 - val_accuracy: 0.7800\n",
      "Epoch 6/100\n",
      "37/37 [==============================] - 15s 414ms/step - loss: 0.3206 - accuracy: 0.8667 - val_loss: 0.4395 - val_accuracy: 0.8300\n",
      "Epoch 7/100\n",
      "37/37 [==============================] - 15s 414ms/step - loss: 0.2961 - accuracy: 0.8778 - val_loss: 0.4606 - val_accuracy: 0.8600\n",
      "Epoch 8/100\n",
      "37/37 [==============================] - 15s 414ms/step - loss: 0.2499 - accuracy: 0.8998 - val_loss: 0.5326 - val_accuracy: 0.8500\n",
      "Epoch 9/100\n",
      "37/37 [==============================] - 15s 413ms/step - loss: 0.2355 - accuracy: 0.9092 - val_loss: 0.5614 - val_accuracy: 0.7800\n",
      "Epoch 10/100\n",
      "37/37 [==============================] - 15s 413ms/step - loss: 0.2320 - accuracy: 0.9015 - val_loss: 0.6778 - val_accuracy: 0.7300\n",
      "Epoch 11/100\n",
      "37/37 [==============================] - 15s 413ms/step - loss: 0.2056 - accuracy: 0.9185 - val_loss: 0.9112 - val_accuracy: 0.6900\n",
      "Epoch 12/100\n",
      "37/37 [==============================] - 15s 414ms/step - loss: 0.2054 - accuracy: 0.9270 - val_loss: 0.7122 - val_accuracy: 0.7800\n",
      "Epoch 13/100\n",
      "37/37 [==============================] - 15s 414ms/step - loss: 0.1559 - accuracy: 0.9406 - val_loss: 0.6779 - val_accuracy: 0.7700\n",
      "Epoch 14/100\n",
      "37/37 [==============================] - 15s 414ms/step - loss: 0.1690 - accuracy: 0.9338 - val_loss: 0.7707 - val_accuracy: 0.7600\n",
      "Epoch 15/100\n",
      "37/37 [==============================] - 15s 414ms/step - loss: 0.1638 - accuracy: 0.9389 - val_loss: 0.5927 - val_accuracy: 0.8000\n",
      "Epoch 16/100\n",
      "37/37 [==============================] - 15s 414ms/step - loss: 0.1355 - accuracy: 0.9448 - val_loss: 0.6638 - val_accuracy: 0.7800\n",
      "Epoch 17/100\n",
      "37/37 [==============================] - 15s 413ms/step - loss: 0.1400 - accuracy: 0.9474 - val_loss: 0.8591 - val_accuracy: 0.7600\n",
      "Epoch 18/100\n",
      "37/37 [==============================] - 15s 414ms/step - loss: 0.1466 - accuracy: 0.9491 - val_loss: 0.5390 - val_accuracy: 0.7900\n",
      "Epoch 19/100\n",
      "37/37 [==============================] - 15s 414ms/step - loss: 0.1285 - accuracy: 0.9491 - val_loss: 0.6676 - val_accuracy: 0.7900\n",
      "Epoch 20/100\n",
      "37/37 [==============================] - 15s 414ms/step - loss: 0.1114 - accuracy: 0.9703 - val_loss: 0.7036 - val_accuracy: 0.7800\n",
      "Epoch 21/100\n",
      "37/37 [==============================] - 15s 413ms/step - loss: 0.1177 - accuracy: 0.9559 - val_loss: 1.0049 - val_accuracy: 0.6900\n",
      "Epoch 22/100\n",
      "37/37 [==============================] - 15s 414ms/step - loss: 0.1158 - accuracy: 0.9576 - val_loss: 0.9848 - val_accuracy: 0.7100\n",
      "Epoch 23/100\n",
      "37/37 [==============================] - 15s 414ms/step - loss: 0.1193 - accuracy: 0.9542 - val_loss: 0.9548 - val_accuracy: 0.7500\n",
      "Epoch 24/100\n",
      "37/37 [==============================] - 15s 414ms/step - loss: 0.0899 - accuracy: 0.9686 - val_loss: 1.0242 - val_accuracy: 0.7400\n",
      "Epoch 25/100\n",
      "37/37 [==============================] - 15s 414ms/step - loss: 0.0940 - accuracy: 0.9652 - val_loss: 0.9561 - val_accuracy: 0.7400\n",
      "Epoch 26/100\n",
      "37/37 [==============================] - 15s 414ms/step - loss: 0.1036 - accuracy: 0.9601 - val_loss: 1.0653 - val_accuracy: 0.7400\n",
      "Epoch 27/100\n",
      "37/37 [==============================] - 15s 414ms/step - loss: 0.1021 - accuracy: 0.9593 - val_loss: 0.7862 - val_accuracy: 0.8100\n",
      "Epoch 28/100\n",
      "37/37 [==============================] - 15s 414ms/step - loss: 0.0756 - accuracy: 0.9728 - val_loss: 0.8573 - val_accuracy: 0.7500\n",
      "Epoch 29/100\n",
      "37/37 [==============================] - 15s 413ms/step - loss: 0.0751 - accuracy: 0.9754 - val_loss: 0.5759 - val_accuracy: 0.7900\n",
      "Epoch 30/100\n",
      "37/37 [==============================] - 15s 414ms/step - loss: 0.0926 - accuracy: 0.9652 - val_loss: 0.7670 - val_accuracy: 0.7500\n",
      "Epoch 31/100\n",
      "37/37 [==============================] - 15s 414ms/step - loss: 0.0637 - accuracy: 0.9771 - val_loss: 0.7746 - val_accuracy: 0.7800\n",
      "Epoch 32/100\n",
      "37/37 [==============================] - 15s 414ms/step - loss: 0.0747 - accuracy: 0.9711 - val_loss: 0.9020 - val_accuracy: 0.7400\n",
      "Epoch 33/100\n",
      "37/37 [==============================] - 15s 414ms/step - loss: 0.0814 - accuracy: 0.9754 - val_loss: 0.9625 - val_accuracy: 0.7500\n",
      "Epoch 34/100\n",
      "37/37 [==============================] - 15s 414ms/step - loss: 0.0741 - accuracy: 0.9745 - val_loss: 0.7946 - val_accuracy: 0.7700\n",
      "Epoch 35/100\n",
      "37/37 [==============================] - 15s 414ms/step - loss: 0.0639 - accuracy: 0.9779 - val_loss: 0.6307 - val_accuracy: 0.8300\n",
      "Epoch 36/100\n",
      "37/37 [==============================] - 15s 414ms/step - loss: 0.0630 - accuracy: 0.9796 - val_loss: 0.7513 - val_accuracy: 0.8000\n",
      "Epoch 37/100\n",
      "37/37 [==============================] - 15s 413ms/step - loss: 0.0534 - accuracy: 0.9813 - val_loss: 0.7020 - val_accuracy: 0.8300\n",
      "Epoch 38/100\n",
      "37/37 [==============================] - 15s 413ms/step - loss: 0.0580 - accuracy: 0.9805 - val_loss: 0.6456 - val_accuracy: 0.8200\n",
      "Epoch 39/100\n",
      "37/37 [==============================] - 15s 414ms/step - loss: 0.0612 - accuracy: 0.9796 - val_loss: 0.6236 - val_accuracy: 0.8300\n",
      "Epoch 40/100\n",
      "37/37 [==============================] - 15s 414ms/step - loss: 0.0672 - accuracy: 0.9728 - val_loss: 0.6988 - val_accuracy: 0.7800\n",
      "Epoch 41/100\n",
      "37/37 [==============================] - 15s 414ms/step - loss: 0.0583 - accuracy: 0.9771 - val_loss: 0.8091 - val_accuracy: 0.7700\n",
      "Epoch 42/100\n",
      "37/37 [==============================] - 15s 414ms/step - loss: 0.0638 - accuracy: 0.9728 - val_loss: 0.8875 - val_accuracy: 0.7000\n",
      "Epoch 43/100\n",
      "37/37 [==============================] - 15s 413ms/step - loss: 0.0533 - accuracy: 0.9813 - val_loss: 0.5915 - val_accuracy: 0.7700\n",
      "Epoch 44/100\n",
      "37/37 [==============================] - 15s 414ms/step - loss: 0.0582 - accuracy: 0.9805 - val_loss: 0.6633 - val_accuracy: 0.7500\n",
      "Epoch 45/100\n",
      "37/37 [==============================] - 15s 414ms/step - loss: 0.0450 - accuracy: 0.9822 - val_loss: 0.5624 - val_accuracy: 0.8100\n",
      "Epoch 46/100\n",
      "37/37 [==============================] - 15s 414ms/step - loss: 0.0295 - accuracy: 0.9890 - val_loss: 0.4750 - val_accuracy: 0.8500\n",
      "Epoch 47/100\n",
      "37/37 [==============================] - 15s 415ms/step - loss: 0.0304 - accuracy: 0.9907 - val_loss: 0.6216 - val_accuracy: 0.8000\n",
      "Epoch 48/100\n",
      "37/37 [==============================] - 15s 415ms/step - loss: 0.0611 - accuracy: 0.9779 - val_loss: 0.5836 - val_accuracy: 0.8000\n",
      "Epoch 49/100\n",
      "37/37 [==============================] - 15s 414ms/step - loss: 0.0457 - accuracy: 0.9839 - val_loss: 0.5355 - val_accuracy: 0.8400\n",
      "Epoch 50/100\n",
      "37/37 [==============================] - 15s 413ms/step - loss: 0.0394 - accuracy: 0.9873 - val_loss: 0.7346 - val_accuracy: 0.7900\n",
      "Epoch 51/100\n",
      "37/37 [==============================] - 15s 414ms/step - loss: 0.0351 - accuracy: 0.9890 - val_loss: 0.8133 - val_accuracy: 0.7800\n",
      "Epoch 52/100\n",
      "37/37 [==============================] - 15s 413ms/step - loss: 0.0284 - accuracy: 0.9907 - val_loss: 0.6731 - val_accuracy: 0.7900\n",
      "Epoch 53/100\n",
      "37/37 [==============================] - 15s 415ms/step - loss: 0.0339 - accuracy: 0.9881 - val_loss: 0.7317 - val_accuracy: 0.8400\n",
      "Epoch 54/100\n",
      "37/37 [==============================] - 15s 416ms/step - loss: 0.0505 - accuracy: 0.9796 - val_loss: 0.6379 - val_accuracy: 0.8400\n",
      "Epoch 55/100\n",
      "37/37 [==============================] - 15s 413ms/step - loss: 0.0690 - accuracy: 0.9703 - val_loss: 0.9268 - val_accuracy: 0.7600\n",
      "Epoch 56/100\n",
      "37/37 [==============================] - 15s 414ms/step - loss: 0.0636 - accuracy: 0.9813 - val_loss: 0.7333 - val_accuracy: 0.8400\n",
      "Epoch 57/100\n",
      "37/37 [==============================] - 15s 413ms/step - loss: 0.0498 - accuracy: 0.9830 - val_loss: 0.8086 - val_accuracy: 0.8000\n",
      "Epoch 58/100\n",
      "37/37 [==============================] - 15s 415ms/step - loss: 0.0478 - accuracy: 0.9847 - val_loss: 0.5313 - val_accuracy: 0.8500\n",
      "Epoch 59/100\n",
      "37/37 [==============================] - 15s 414ms/step - loss: 0.0615 - accuracy: 0.9771 - val_loss: 0.6789 - val_accuracy: 0.8400\n",
      "Epoch 60/100\n",
      "37/37 [==============================] - 15s 414ms/step - loss: 0.0466 - accuracy: 0.9822 - val_loss: 0.6000 - val_accuracy: 0.8500\n",
      "Epoch 61/100\n",
      "37/37 [==============================] - 15s 415ms/step - loss: 0.0431 - accuracy: 0.9839 - val_loss: 0.7215 - val_accuracy: 0.8300\n",
      "Epoch 62/100\n",
      "37/37 [==============================] - 15s 414ms/step - loss: 0.0348 - accuracy: 0.9847 - val_loss: 0.7610 - val_accuracy: 0.8400\n",
      "Epoch 63/100\n",
      "37/37 [==============================] - 15s 414ms/step - loss: 0.0311 - accuracy: 0.9898 - val_loss: 0.6869 - val_accuracy: 0.8100\n",
      "Epoch 64/100\n",
      "37/37 [==============================] - 15s 415ms/step - loss: 0.0426 - accuracy: 0.9839 - val_loss: 0.6347 - val_accuracy: 0.8300\n",
      "Epoch 65/100\n",
      "37/37 [==============================] - 15s 415ms/step - loss: 0.0312 - accuracy: 0.9898 - val_loss: 0.7101 - val_accuracy: 0.8300\n",
      "Epoch 66/100\n",
      "37/37 [==============================] - 15s 414ms/step - loss: 0.0395 - accuracy: 0.9873 - val_loss: 0.6278 - val_accuracy: 0.8800\n",
      "Epoch 67/100\n",
      "37/37 [==============================] - 15s 413ms/step - loss: 0.0347 - accuracy: 0.9873 - val_loss: 0.7096 - val_accuracy: 0.8300\n",
      "Epoch 68/100\n",
      "37/37 [==============================] - 15s 413ms/step - loss: 0.0460 - accuracy: 0.9830 - val_loss: 0.4984 - val_accuracy: 0.8700\n",
      "Epoch 69/100\n",
      "37/37 [==============================] - 15s 413ms/step - loss: 0.0381 - accuracy: 0.9847 - val_loss: 0.6016 - val_accuracy: 0.8700\n",
      "Epoch 70/100\n",
      "37/37 [==============================] - 15s 414ms/step - loss: 0.0502 - accuracy: 0.9822 - val_loss: 0.6253 - val_accuracy: 0.8500\n",
      "Epoch 71/100\n",
      "37/37 [==============================] - 15s 414ms/step - loss: 0.0352 - accuracy: 0.9881 - val_loss: 0.6143 - val_accuracy: 0.8600\n",
      "Epoch 72/100\n",
      "37/37 [==============================] - 15s 413ms/step - loss: 0.0451 - accuracy: 0.9873 - val_loss: 0.6770 - val_accuracy: 0.8000\n",
      "Epoch 73/100\n",
      "37/37 [==============================] - 15s 413ms/step - loss: 0.0286 - accuracy: 0.9890 - val_loss: 0.8434 - val_accuracy: 0.8200\n",
      "Epoch 74/100\n",
      "37/37 [==============================] - 15s 414ms/step - loss: 0.0272 - accuracy: 0.9915 - val_loss: 0.6094 - val_accuracy: 0.8500\n",
      "Epoch 75/100\n",
      "37/37 [==============================] - 15s 415ms/step - loss: 0.0276 - accuracy: 0.9907 - val_loss: 0.6049 - val_accuracy: 0.8700\n",
      "Epoch 76/100\n",
      "37/37 [==============================] - 15s 414ms/step - loss: 0.0306 - accuracy: 0.9924 - val_loss: 0.5350 - val_accuracy: 0.8700\n",
      "Epoch 77/100\n",
      "37/37 [==============================] - 15s 414ms/step - loss: 0.0241 - accuracy: 0.9941 - val_loss: 0.6798 - val_accuracy: 0.8800\n",
      "Epoch 78/100\n",
      "37/37 [==============================] - 15s 414ms/step - loss: 0.0351 - accuracy: 0.9864 - val_loss: 0.6879 - val_accuracy: 0.7900\n",
      "Epoch 79/100\n",
      "37/37 [==============================] - 15s 413ms/step - loss: 0.0275 - accuracy: 0.9890 - val_loss: 0.5495 - val_accuracy: 0.8600\n",
      "Epoch 80/100\n",
      "37/37 [==============================] - 15s 414ms/step - loss: 0.0273 - accuracy: 0.9907 - val_loss: 0.6532 - val_accuracy: 0.8600\n",
      "Epoch 81/100\n",
      "37/37 [==============================] - 15s 414ms/step - loss: 0.0445 - accuracy: 0.9856 - val_loss: 0.6606 - val_accuracy: 0.8600\n",
      "Epoch 82/100\n",
      "37/37 [==============================] - 15s 414ms/step - loss: 0.0311 - accuracy: 0.9898 - val_loss: 0.5552 - val_accuracy: 0.8500\n",
      "Epoch 83/100\n",
      "37/37 [==============================] - 15s 413ms/step - loss: 0.0278 - accuracy: 0.9881 - val_loss: 0.5932 - val_accuracy: 0.8400\n",
      "Epoch 84/100\n",
      "37/37 [==============================] - 15s 414ms/step - loss: 0.0314 - accuracy: 0.9839 - val_loss: 0.5960 - val_accuracy: 0.8300\n",
      "Epoch 85/100\n",
      "37/37 [==============================] - 15s 413ms/step - loss: 0.0310 - accuracy: 0.9881 - val_loss: 0.6409 - val_accuracy: 0.8100\n",
      "Epoch 86/100\n",
      "37/37 [==============================] - 15s 415ms/step - loss: 0.0331 - accuracy: 0.9890 - val_loss: 0.5846 - val_accuracy: 0.8500\n",
      "Epoch 87/100\n",
      "37/37 [==============================] - 15s 414ms/step - loss: 0.0334 - accuracy: 0.9864 - val_loss: 0.7252 - val_accuracy: 0.8200\n",
      "Epoch 88/100\n",
      "37/37 [==============================] - 15s 415ms/step - loss: 0.0322 - accuracy: 0.9890 - val_loss: 0.5054 - val_accuracy: 0.8500\n",
      "Epoch 89/100\n",
      "37/37 [==============================] - 15s 415ms/step - loss: 0.0376 - accuracy: 0.9873 - val_loss: 0.5697 - val_accuracy: 0.8400\n",
      "Epoch 90/100\n",
      "37/37 [==============================] - 15s 414ms/step - loss: 0.0426 - accuracy: 0.9839 - val_loss: 0.3831 - val_accuracy: 0.8700\n",
      "Epoch 91/100\n",
      "37/37 [==============================] - 15s 415ms/step - loss: 0.0335 - accuracy: 0.9873 - val_loss: 0.4379 - val_accuracy: 0.9000\n",
      "Epoch 92/100\n",
      "37/37 [==============================] - 15s 415ms/step - loss: 0.0464 - accuracy: 0.9839 - val_loss: 0.5786 - val_accuracy: 0.8700\n",
      "Epoch 93/100\n",
      "37/37 [==============================] - 15s 415ms/step - loss: 0.0313 - accuracy: 0.9898 - val_loss: 0.6726 - val_accuracy: 0.8500\n",
      "Epoch 94/100\n",
      "37/37 [==============================] - 15s 414ms/step - loss: 0.0291 - accuracy: 0.9898 - val_loss: 0.4494 - val_accuracy: 0.8900\n",
      "Epoch 95/100\n",
      "37/37 [==============================] - 15s 414ms/step - loss: 0.0226 - accuracy: 0.9932 - val_loss: 0.7239 - val_accuracy: 0.8300\n",
      "Epoch 96/100\n",
      "37/37 [==============================] - 15s 414ms/step - loss: 0.0265 - accuracy: 0.9915 - val_loss: 0.5345 - val_accuracy: 0.8400\n",
      "Epoch 97/100\n",
      "37/37 [==============================] - 15s 414ms/step - loss: 0.0216 - accuracy: 0.9898 - val_loss: 0.5367 - val_accuracy: 0.8700\n",
      "Epoch 98/100\n",
      "37/37 [==============================] - 15s 414ms/step - loss: 0.0246 - accuracy: 0.9898 - val_loss: 0.6025 - val_accuracy: 0.8200\n",
      "Epoch 99/100\n",
      "37/37 [==============================] - 15s 414ms/step - loss: 0.0232 - accuracy: 0.9907 - val_loss: 0.6659 - val_accuracy: 0.8000\n",
      "Epoch 100/100\n",
      "37/37 [==============================] - 15s 414ms/step - loss: 0.0161 - accuracy: 0.9941 - val_loss: 0.6627 - val_accuracy: 0.7900\n"
     ]
    },
    {
     "data": {
      "text/plain": [
       "<tensorflow.python.keras.callbacks.History at 0x7f9fb4503950>"
      ]
     },
     "execution_count": 42,
     "metadata": {},
     "output_type": "execute_result"
    }
   ],
   "source": [
    "ablation_model_image.fit([X_train_imgs], Y_train,\n",
    "                         batch_size=batch_size,\n",
    "                         epochs=epochs,\n",
    "#                          callbacks=callbacks,\n",
    "                         verbose=1,\n",
    "                         validation_data=([X_val_imgs], Y_val),\n",
    "                         shuffle=True)"
   ]
  },
  {
   "cell_type": "code",
   "execution_count": 43,
   "id": "45d39fc2",
   "metadata": {},
   "outputs": [],
   "source": [
    "Y_preds = ablation_model_image.predict([X_test_imgs, X_test_landmarks])"
   ]
  },
  {
   "cell_type": "code",
   "execution_count": 44,
   "id": "50ccf036",
   "metadata": {},
   "outputs": [],
   "source": [
    "Y_test_labels = np.argmax(Y_test, axis=-1)\n",
    "Y_preds_labels = np.argmax(Y_preds, axis=-1)"
   ]
  },
  {
   "cell_type": "code",
   "execution_count": 45,
   "id": "2c595fea",
   "metadata": {},
   "outputs": [
    {
     "name": "stdout",
     "output_type": "stream",
     "text": [
      "              precision    recall  f1-score   support\n",
      "\n",
      "           0       0.78      0.89      0.83       266\n",
      "           1       0.46      0.38      0.41        32\n",
      "           2       0.75      0.79      0.77        38\n",
      "           3       0.70      0.44      0.54        32\n",
      "           4       0.80      0.25      0.38        32\n",
      "\n",
      "    accuracy                           0.75       400\n",
      "   macro avg       0.70      0.55      0.59       400\n",
      "weighted avg       0.74      0.75      0.73       400\n",
      "\n"
     ]
    }
   ],
   "source": [
    "print(sklearn.metrics.classification_report(Y_test_labels, Y_preds_labels))"
   ]
  },
  {
   "cell_type": "code",
   "execution_count": null,
   "id": "4b82c7af",
   "metadata": {},
   "outputs": [],
   "source": []
  },
  {
   "cell_type": "markdown",
   "id": "26ac0b0a",
   "metadata": {},
   "source": [
    "# [Ablation] Pose Landmarks Only"
   ]
  },
  {
   "cell_type": "code",
   "execution_count": 46,
   "id": "87f927b5",
   "metadata": {},
   "outputs": [],
   "source": [
    "landmark_input = Input(shape=LANDMARK_EXAMPLE_SHAPE)\n",
    "dnn_tower = DNN(3, 1024, 0.2)\n",
    "\n",
    "x_dnn_tower = dnn_tower(landmark_input)"
   ]
  },
  {
   "cell_type": "code",
   "execution_count": 47,
   "id": "0f54c4b0",
   "metadata": {},
   "outputs": [],
   "source": [
    "output_tower = DNN(3, 256, 0.2)\n",
    "x = output_tower(x_dnn_tower)\n",
    "output = Dense(NUM_CLASSES, activation='softmax')(x)"
   ]
  },
  {
   "cell_type": "code",
   "execution_count": 48,
   "id": "59e5aa4b",
   "metadata": {},
   "outputs": [],
   "source": [
    "ablation_model_landmark = Model(inputs=[landmark_input], outputs=[output])"
   ]
  },
  {
   "cell_type": "code",
   "execution_count": 49,
   "id": "074a665d",
   "metadata": {},
   "outputs": [],
   "source": [
    "opt = optimizers.Adam()\n",
    "\n",
    "ablation_model_landmark.compile(loss='categorical_crossentropy',\n",
    "                                optimizer=opt,\n",
    "                                metrics=['accuracy'])"
   ]
  },
  {
   "cell_type": "code",
   "execution_count": 50,
   "id": "c8ed23fa",
   "metadata": {},
   "outputs": [],
   "source": [
    "epochs = 100\n",
    "batch_size = 32"
   ]
  },
  {
   "cell_type": "code",
   "execution_count": 51,
   "id": "9f59685a",
   "metadata": {},
   "outputs": [
    {
     "name": "stdout",
     "output_type": "stream",
     "text": [
      "Epoch 1/100\n",
      "37/37 [==============================] - 0s 10ms/step - loss: 1.2390 - accuracy: 0.5263 - val_loss: 1.3335 - val_accuracy: 0.6700\n",
      "Epoch 2/100\n",
      "37/37 [==============================] - 0s 5ms/step - loss: 0.7091 - accuracy: 0.7419 - val_loss: 1.1049 - val_accuracy: 0.6800\n",
      "Epoch 3/100\n",
      "37/37 [==============================] - 0s 5ms/step - loss: 0.5279 - accuracy: 0.7988 - val_loss: 1.0908 - val_accuracy: 0.6800\n",
      "Epoch 4/100\n",
      "37/37 [==============================] - 0s 5ms/step - loss: 0.5179 - accuracy: 0.7929 - val_loss: 1.0871 - val_accuracy: 0.6800\n",
      "Epoch 5/100\n",
      "37/37 [==============================] - 0s 5ms/step - loss: 0.4808 - accuracy: 0.8081 - val_loss: 1.1723 - val_accuracy: 0.6800\n",
      "Epoch 6/100\n",
      "37/37 [==============================] - 0s 5ms/step - loss: 0.4013 - accuracy: 0.8345 - val_loss: 1.3099 - val_accuracy: 0.6800\n",
      "Epoch 7/100\n",
      "37/37 [==============================] - 0s 5ms/step - loss: 0.3852 - accuracy: 0.8413 - val_loss: 1.3995 - val_accuracy: 0.5700\n",
      "Epoch 8/100\n",
      "37/37 [==============================] - 0s 5ms/step - loss: 0.3792 - accuracy: 0.8421 - val_loss: 1.4858 - val_accuracy: 0.5800\n",
      "Epoch 9/100\n",
      "37/37 [==============================] - 0s 5ms/step - loss: 0.3844 - accuracy: 0.8438 - val_loss: 1.4623 - val_accuracy: 0.6800\n",
      "Epoch 10/100\n",
      "37/37 [==============================] - 0s 5ms/step - loss: 0.3624 - accuracy: 0.8523 - val_loss: 1.5170 - val_accuracy: 0.4850\n",
      "Epoch 11/100\n",
      "37/37 [==============================] - 0s 5ms/step - loss: 0.3499 - accuracy: 0.8531 - val_loss: 1.0830 - val_accuracy: 0.6350\n",
      "Epoch 12/100\n",
      "37/37 [==============================] - 0s 5ms/step - loss: 0.2900 - accuracy: 0.8786 - val_loss: 0.8947 - val_accuracy: 0.7100\n",
      "Epoch 13/100\n",
      "37/37 [==============================] - 0s 5ms/step - loss: 0.2968 - accuracy: 0.8727 - val_loss: 0.8077 - val_accuracy: 0.7300\n",
      "Epoch 14/100\n",
      "37/37 [==============================] - 0s 5ms/step - loss: 0.3115 - accuracy: 0.8812 - val_loss: 1.0242 - val_accuracy: 0.6250\n",
      "Epoch 15/100\n",
      "37/37 [==============================] - 0s 5ms/step - loss: 0.2876 - accuracy: 0.8896 - val_loss: 0.7037 - val_accuracy: 0.7550\n",
      "Epoch 16/100\n",
      "37/37 [==============================] - 0s 5ms/step - loss: 0.2694 - accuracy: 0.9024 - val_loss: 0.8315 - val_accuracy: 0.6900\n",
      "Epoch 17/100\n",
      "37/37 [==============================] - 0s 5ms/step - loss: 0.3076 - accuracy: 0.8769 - val_loss: 1.0120 - val_accuracy: 0.6200\n",
      "Epoch 18/100\n",
      "37/37 [==============================] - 0s 5ms/step - loss: 0.2773 - accuracy: 0.8786 - val_loss: 0.7088 - val_accuracy: 0.7150\n",
      "Epoch 19/100\n",
      "37/37 [==============================] - 0s 5ms/step - loss: 0.2382 - accuracy: 0.9075 - val_loss: 0.6352 - val_accuracy: 0.7450\n",
      "Epoch 20/100\n",
      "37/37 [==============================] - 0s 5ms/step - loss: 0.2353 - accuracy: 0.9151 - val_loss: 0.6018 - val_accuracy: 0.7750\n",
      "Epoch 21/100\n",
      "37/37 [==============================] - 0s 5ms/step - loss: 0.2343 - accuracy: 0.8973 - val_loss: 0.6527 - val_accuracy: 0.7750\n",
      "Epoch 22/100\n",
      "37/37 [==============================] - 0s 5ms/step - loss: 0.2155 - accuracy: 0.9151 - val_loss: 0.9484 - val_accuracy: 0.7450\n",
      "Epoch 23/100\n",
      "37/37 [==============================] - 0s 5ms/step - loss: 0.2432 - accuracy: 0.8973 - val_loss: 0.5326 - val_accuracy: 0.7850\n",
      "Epoch 24/100\n",
      "37/37 [==============================] - 0s 5ms/step - loss: 0.2122 - accuracy: 0.9168 - val_loss: 0.6559 - val_accuracy: 0.7200\n",
      "Epoch 25/100\n",
      "37/37 [==============================] - 0s 5ms/step - loss: 0.2284 - accuracy: 0.9066 - val_loss: 0.8166 - val_accuracy: 0.7250\n",
      "Epoch 26/100\n",
      "37/37 [==============================] - 0s 5ms/step - loss: 0.2025 - accuracy: 0.9295 - val_loss: 0.6578 - val_accuracy: 0.8050\n",
      "Epoch 27/100\n",
      "37/37 [==============================] - 0s 5ms/step - loss: 0.2054 - accuracy: 0.9160 - val_loss: 0.9973 - val_accuracy: 0.6600\n",
      "Epoch 28/100\n",
      "37/37 [==============================] - 0s 5ms/step - loss: 0.2031 - accuracy: 0.9117 - val_loss: 0.6086 - val_accuracy: 0.8000\n",
      "Epoch 29/100\n",
      "37/37 [==============================] - 0s 5ms/step - loss: 0.1889 - accuracy: 0.9219 - val_loss: 0.6135 - val_accuracy: 0.7500\n",
      "Epoch 30/100\n",
      "37/37 [==============================] - 0s 5ms/step - loss: 0.1851 - accuracy: 0.9236 - val_loss: 0.6902 - val_accuracy: 0.7450\n",
      "Epoch 31/100\n",
      "37/37 [==============================] - 0s 5ms/step - loss: 0.1956 - accuracy: 0.9287 - val_loss: 0.8555 - val_accuracy: 0.6900\n",
      "Epoch 32/100\n",
      "37/37 [==============================] - 0s 5ms/step - loss: 0.2332 - accuracy: 0.9041 - val_loss: 0.8758 - val_accuracy: 0.6800\n",
      "Epoch 33/100\n",
      "37/37 [==============================] - 0s 5ms/step - loss: 0.1906 - accuracy: 0.9253 - val_loss: 1.1208 - val_accuracy: 0.5950\n",
      "Epoch 34/100\n",
      "37/37 [==============================] - 0s 5ms/step - loss: 0.2171 - accuracy: 0.9024 - val_loss: 1.3598 - val_accuracy: 0.5950\n",
      "Epoch 35/100\n",
      "37/37 [==============================] - 0s 5ms/step - loss: 0.1980 - accuracy: 0.9151 - val_loss: 0.6475 - val_accuracy: 0.7850\n",
      "Epoch 36/100\n",
      "37/37 [==============================] - 0s 5ms/step - loss: 0.2002 - accuracy: 0.9211 - val_loss: 0.9498 - val_accuracy: 0.7000\n",
      "Epoch 37/100\n",
      "37/37 [==============================] - 0s 5ms/step - loss: 0.1655 - accuracy: 0.9346 - val_loss: 0.4567 - val_accuracy: 0.8000\n",
      "Epoch 38/100\n",
      "37/37 [==============================] - 0s 5ms/step - loss: 0.1703 - accuracy: 0.9355 - val_loss: 0.7601 - val_accuracy: 0.7600\n",
      "Epoch 39/100\n",
      "37/37 [==============================] - 0s 5ms/step - loss: 0.1933 - accuracy: 0.9219 - val_loss: 0.9822 - val_accuracy: 0.7000\n",
      "Epoch 40/100\n",
      "37/37 [==============================] - 0s 5ms/step - loss: 0.1563 - accuracy: 0.9389 - val_loss: 0.9066 - val_accuracy: 0.7050\n",
      "Epoch 41/100\n",
      "37/37 [==============================] - 0s 5ms/step - loss: 0.1966 - accuracy: 0.9160 - val_loss: 0.6030 - val_accuracy: 0.7750\n",
      "Epoch 42/100\n",
      "37/37 [==============================] - 0s 5ms/step - loss: 0.1846 - accuracy: 0.9278 - val_loss: 0.6087 - val_accuracy: 0.7800\n",
      "Epoch 43/100\n",
      "37/37 [==============================] - 0s 5ms/step - loss: 0.1788 - accuracy: 0.9261 - val_loss: 0.9986 - val_accuracy: 0.7600\n",
      "Epoch 44/100\n",
      "37/37 [==============================] - 0s 5ms/step - loss: 0.1611 - accuracy: 0.9372 - val_loss: 0.5213 - val_accuracy: 0.8150\n",
      "Epoch 45/100\n",
      "37/37 [==============================] - 0s 5ms/step - loss: 0.1476 - accuracy: 0.9406 - val_loss: 0.7356 - val_accuracy: 0.8000\n",
      "Epoch 46/100\n",
      "37/37 [==============================] - 0s 5ms/step - loss: 0.1667 - accuracy: 0.9312 - val_loss: 0.9855 - val_accuracy: 0.7200\n",
      "Epoch 47/100\n",
      "37/37 [==============================] - 0s 5ms/step - loss: 0.1432 - accuracy: 0.9525 - val_loss: 0.5087 - val_accuracy: 0.7950\n",
      "Epoch 48/100\n",
      "37/37 [==============================] - 0s 5ms/step - loss: 0.1451 - accuracy: 0.9406 - val_loss: 0.8117 - val_accuracy: 0.7250\n",
      "Epoch 49/100\n",
      "37/37 [==============================] - 0s 5ms/step - loss: 0.1465 - accuracy: 0.9457 - val_loss: 0.5523 - val_accuracy: 0.8550\n",
      "Epoch 50/100\n",
      "37/37 [==============================] - 0s 5ms/step - loss: 0.1499 - accuracy: 0.9414 - val_loss: 0.6772 - val_accuracy: 0.8350\n",
      "Epoch 51/100\n",
      "37/37 [==============================] - 0s 5ms/step - loss: 0.1225 - accuracy: 0.9516 - val_loss: 0.7308 - val_accuracy: 0.8150\n",
      "Epoch 52/100\n",
      "37/37 [==============================] - 0s 5ms/step - loss: 0.1340 - accuracy: 0.9499 - val_loss: 0.7068 - val_accuracy: 0.7750\n",
      "Epoch 53/100\n",
      "37/37 [==============================] - 0s 5ms/step - loss: 0.1392 - accuracy: 0.9397 - val_loss: 0.7116 - val_accuracy: 0.7900\n",
      "Epoch 54/100\n",
      "37/37 [==============================] - 0s 5ms/step - loss: 0.1293 - accuracy: 0.9508 - val_loss: 0.8905 - val_accuracy: 0.7550\n",
      "Epoch 55/100\n",
      "37/37 [==============================] - 0s 5ms/step - loss: 0.1756 - accuracy: 0.9355 - val_loss: 0.7511 - val_accuracy: 0.7050\n",
      "Epoch 56/100\n",
      "37/37 [==============================] - 0s 5ms/step - loss: 0.1452 - accuracy: 0.9457 - val_loss: 0.5356 - val_accuracy: 0.7950\n",
      "Epoch 57/100\n",
      "37/37 [==============================] - 0s 5ms/step - loss: 0.1418 - accuracy: 0.9389 - val_loss: 0.6045 - val_accuracy: 0.8250\n",
      "Epoch 58/100\n",
      "37/37 [==============================] - 0s 5ms/step - loss: 0.1135 - accuracy: 0.9576 - val_loss: 0.5165 - val_accuracy: 0.8350\n",
      "Epoch 59/100\n",
      "37/37 [==============================] - 0s 5ms/step - loss: 0.1361 - accuracy: 0.9550 - val_loss: 0.4818 - val_accuracy: 0.8750\n",
      "Epoch 60/100\n",
      "37/37 [==============================] - 0s 5ms/step - loss: 0.1245 - accuracy: 0.9448 - val_loss: 0.7414 - val_accuracy: 0.7900\n",
      "Epoch 61/100\n",
      "37/37 [==============================] - 0s 5ms/step - loss: 0.1129 - accuracy: 0.9567 - val_loss: 1.1287 - val_accuracy: 0.7550\n",
      "Epoch 62/100\n",
      "37/37 [==============================] - 0s 5ms/step - loss: 0.1007 - accuracy: 0.9610 - val_loss: 0.8401 - val_accuracy: 0.7900\n",
      "Epoch 63/100\n",
      "37/37 [==============================] - 0s 5ms/step - loss: 0.1532 - accuracy: 0.9448 - val_loss: 0.8268 - val_accuracy: 0.7500\n",
      "Epoch 64/100\n",
      "37/37 [==============================] - 0s 5ms/step - loss: 0.1483 - accuracy: 0.9457 - val_loss: 0.8351 - val_accuracy: 0.7600\n",
      "Epoch 65/100\n",
      "37/37 [==============================] - 0s 6ms/step - loss: 0.1409 - accuracy: 0.9482 - val_loss: 0.6483 - val_accuracy: 0.8350\n",
      "Epoch 66/100\n",
      "37/37 [==============================] - 0s 5ms/step - loss: 0.1383 - accuracy: 0.9448 - val_loss: 0.6930 - val_accuracy: 0.7800\n",
      "Epoch 67/100\n",
      "37/37 [==============================] - 0s 5ms/step - loss: 0.1338 - accuracy: 0.9491 - val_loss: 1.0592 - val_accuracy: 0.7200\n",
      "Epoch 68/100\n",
      "37/37 [==============================] - 0s 5ms/step - loss: 0.1115 - accuracy: 0.9576 - val_loss: 0.8436 - val_accuracy: 0.7600\n",
      "Epoch 69/100\n",
      "37/37 [==============================] - 0s 5ms/step - loss: 0.1275 - accuracy: 0.9533 - val_loss: 0.8114 - val_accuracy: 0.7900\n",
      "Epoch 70/100\n",
      "37/37 [==============================] - 0s 5ms/step - loss: 0.1208 - accuracy: 0.9559 - val_loss: 0.7644 - val_accuracy: 0.8000\n",
      "Epoch 71/100\n",
      "37/37 [==============================] - 0s 5ms/step - loss: 0.1129 - accuracy: 0.9610 - val_loss: 0.8341 - val_accuracy: 0.8200\n",
      "Epoch 72/100\n",
      "37/37 [==============================] - 0s 5ms/step - loss: 0.1402 - accuracy: 0.9457 - val_loss: 1.3942 - val_accuracy: 0.7000\n",
      "Epoch 73/100\n",
      "37/37 [==============================] - 0s 5ms/step - loss: 0.1207 - accuracy: 0.9525 - val_loss: 0.7559 - val_accuracy: 0.8000\n",
      "Epoch 74/100\n",
      "37/37 [==============================] - 0s 5ms/step - loss: 0.1223 - accuracy: 0.9542 - val_loss: 1.0188 - val_accuracy: 0.7600\n",
      "Epoch 75/100\n",
      "37/37 [==============================] - 0s 5ms/step - loss: 0.1179 - accuracy: 0.9542 - val_loss: 0.7047 - val_accuracy: 0.7750\n",
      "Epoch 76/100\n",
      "37/37 [==============================] - 0s 5ms/step - loss: 0.1252 - accuracy: 0.9508 - val_loss: 0.6844 - val_accuracy: 0.7700\n",
      "Epoch 77/100\n",
      "37/37 [==============================] - 0s 5ms/step - loss: 0.0971 - accuracy: 0.9593 - val_loss: 1.0964 - val_accuracy: 0.7650\n",
      "Epoch 78/100\n",
      "37/37 [==============================] - 0s 5ms/step - loss: 0.1138 - accuracy: 0.9601 - val_loss: 1.0274 - val_accuracy: 0.7150\n",
      "Epoch 79/100\n",
      "37/37 [==============================] - 0s 5ms/step - loss: 0.1324 - accuracy: 0.9465 - val_loss: 0.7363 - val_accuracy: 0.8050\n",
      "Epoch 80/100\n",
      "37/37 [==============================] - 0s 5ms/step - loss: 0.1210 - accuracy: 0.9576 - val_loss: 0.9215 - val_accuracy: 0.7950\n",
      "Epoch 81/100\n",
      "37/37 [==============================] - 0s 5ms/step - loss: 0.0946 - accuracy: 0.9618 - val_loss: 1.0336 - val_accuracy: 0.7500\n",
      "Epoch 82/100\n",
      "37/37 [==============================] - 0s 5ms/step - loss: 0.1363 - accuracy: 0.9508 - val_loss: 0.7890 - val_accuracy: 0.8400\n",
      "Epoch 83/100\n",
      "37/37 [==============================] - 0s 5ms/step - loss: 0.1734 - accuracy: 0.9389 - val_loss: 1.1383 - val_accuracy: 0.7200\n",
      "Epoch 84/100\n",
      "37/37 [==============================] - 0s 5ms/step - loss: 0.1128 - accuracy: 0.9584 - val_loss: 0.7654 - val_accuracy: 0.7350\n",
      "Epoch 85/100\n",
      "37/37 [==============================] - 0s 5ms/step - loss: 0.1099 - accuracy: 0.9593 - val_loss: 0.6207 - val_accuracy: 0.8150\n",
      "Epoch 86/100\n",
      "37/37 [==============================] - 0s 5ms/step - loss: 0.0957 - accuracy: 0.9610 - val_loss: 0.6795 - val_accuracy: 0.7700\n",
      "Epoch 87/100\n",
      "37/37 [==============================] - 0s 5ms/step - loss: 0.0994 - accuracy: 0.9584 - val_loss: 0.6879 - val_accuracy: 0.8000\n",
      "Epoch 88/100\n",
      "37/37 [==============================] - 0s 5ms/step - loss: 0.1232 - accuracy: 0.9542 - val_loss: 0.6968 - val_accuracy: 0.8350\n",
      "Epoch 89/100\n",
      "37/37 [==============================] - 0s 5ms/step - loss: 0.1112 - accuracy: 0.9610 - val_loss: 0.7512 - val_accuracy: 0.8350\n",
      "Epoch 90/100\n",
      "37/37 [==============================] - 0s 5ms/step - loss: 0.1172 - accuracy: 0.9550 - val_loss: 0.8645 - val_accuracy: 0.8000\n",
      "Epoch 91/100\n",
      "37/37 [==============================] - 0s 5ms/step - loss: 0.1257 - accuracy: 0.9584 - val_loss: 0.7614 - val_accuracy: 0.7850\n",
      "Epoch 92/100\n",
      "37/37 [==============================] - 0s 5ms/step - loss: 0.1260 - accuracy: 0.9508 - val_loss: 0.6592 - val_accuracy: 0.8300\n",
      "Epoch 93/100\n",
      "37/37 [==============================] - 0s 5ms/step - loss: 0.1201 - accuracy: 0.9516 - val_loss: 0.5986 - val_accuracy: 0.8400\n",
      "Epoch 94/100\n",
      "37/37 [==============================] - 0s 5ms/step - loss: 0.0775 - accuracy: 0.9686 - val_loss: 0.7284 - val_accuracy: 0.8050\n",
      "Epoch 95/100\n",
      "37/37 [==============================] - 0s 5ms/step - loss: 0.0761 - accuracy: 0.9694 - val_loss: 0.6940 - val_accuracy: 0.8400\n",
      "Epoch 96/100\n",
      "37/37 [==============================] - 0s 5ms/step - loss: 0.0988 - accuracy: 0.9643 - val_loss: 0.7952 - val_accuracy: 0.7900\n",
      "Epoch 97/100\n",
      "37/37 [==============================] - 0s 5ms/step - loss: 0.0852 - accuracy: 0.9694 - val_loss: 0.9524 - val_accuracy: 0.7600\n",
      "Epoch 98/100\n",
      "37/37 [==============================] - 0s 5ms/step - loss: 0.0905 - accuracy: 0.9745 - val_loss: 1.0509 - val_accuracy: 0.7850\n",
      "Epoch 99/100\n",
      "37/37 [==============================] - 0s 5ms/step - loss: 0.0915 - accuracy: 0.9703 - val_loss: 0.7090 - val_accuracy: 0.7650\n",
      "Epoch 100/100\n",
      "37/37 [==============================] - 0s 5ms/step - loss: 0.0921 - accuracy: 0.9660 - val_loss: 0.8241 - val_accuracy: 0.8350\n"
     ]
    },
    {
     "data": {
      "text/plain": [
       "<tensorflow.python.keras.callbacks.History at 0x7f9f64638f90>"
      ]
     },
     "execution_count": 51,
     "metadata": {},
     "output_type": "execute_result"
    }
   ],
   "source": [
    "ablation_model_landmark.fit([X_train_landmarks], Y_train,\n",
    "                            batch_size=batch_size,\n",
    "                            epochs=epochs,\n",
    "#                          callbacks=callbacks,\n",
    "                            verbose=1,\n",
    "                            validation_data=([X_val_landmarks], Y_val),\n",
    "                            shuffle=True)"
   ]
  },
  {
   "cell_type": "code",
   "execution_count": 52,
   "id": "f88a4845",
   "metadata": {},
   "outputs": [],
   "source": [
    "Y_preds = ablation_model_landmark.predict([X_test_landmarks])"
   ]
  },
  {
   "cell_type": "code",
   "execution_count": 53,
   "id": "39903091",
   "metadata": {},
   "outputs": [],
   "source": [
    "Y_test_labels = np.argmax(Y_test, axis=-1)\n",
    "Y_preds_labels = np.argmax(Y_preds, axis=-1)"
   ]
  },
  {
   "cell_type": "code",
   "execution_count": 54,
   "id": "cf9f2560",
   "metadata": {},
   "outputs": [
    {
     "name": "stdout",
     "output_type": "stream",
     "text": [
      "              precision    recall  f1-score   support\n",
      "\n",
      "           0       0.76      0.82      0.79       266\n",
      "           1       0.34      0.31      0.33        32\n",
      "           2       0.80      0.32      0.45        38\n",
      "           3       0.41      0.44      0.42        32\n",
      "           4       0.84      0.97      0.90        32\n",
      "\n",
      "    accuracy                           0.71       400\n",
      "   macro avg       0.63      0.57      0.58       400\n",
      "weighted avg       0.71      0.71      0.70       400\n",
      "\n"
     ]
    }
   ],
   "source": [
    "print(sklearn.metrics.classification_report(Y_test_labels, Y_preds_labels))"
   ]
  },
  {
   "cell_type": "code",
   "execution_count": null,
   "id": "848b4e4a",
   "metadata": {},
   "outputs": [],
   "source": []
  },
  {
   "cell_type": "code",
   "execution_count": null,
   "id": "ed0ec680",
   "metadata": {},
   "outputs": [],
   "source": []
  },
  {
   "cell_type": "code",
   "execution_count": null,
   "id": "17edd26d",
   "metadata": {},
   "outputs": [],
   "source": []
  }
 ],
 "metadata": {
  "environment": {
   "name": "tf2-gpu.2-3.m69",
   "type": "gcloud",
   "uri": "gcr.io/deeplearning-platform-release/tf2-gpu.2-3:m69"
  },
  "kernelspec": {
   "display_name": "Python [conda env:root] *",
   "language": "python",
   "name": "conda-root-py"
  },
  "language_info": {
   "codemirror_mode": {
    "name": "ipython",
    "version": 3
   },
   "file_extension": ".py",
   "mimetype": "text/x-python",
   "name": "python",
   "nbconvert_exporter": "python",
   "pygments_lexer": "ipython3",
   "version": "3.7.10"
  }
 },
 "nbformat": 4,
 "nbformat_minor": 5
}
