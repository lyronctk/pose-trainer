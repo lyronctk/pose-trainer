{
 "cells": [
  {
   "cell_type": "code",
   "execution_count": 4,
   "id": "increased-muslim",
   "metadata": {},
   "outputs": [],
   "source": [
    "import os\n",
    "import cv2"
   ]
  },
  {
   "cell_type": "code",
   "execution_count": 5,
   "id": "honest-quarterly",
   "metadata": {},
   "outputs": [],
   "source": [
    "PROJ_ROOT= '/home/amolsingh/gcloud/trainer/'\n",
    "outcsv = PROJ_ROOT+'data/class5.csv'\n",
    "rootdir = PROJ_ROOT+'data/frames/5_lockout'"
   ]
  },
  {
   "cell_type": "code",
   "execution_count": null,
   "id": "organic-reynolds",
   "metadata": {
    "scrolled": true
   },
   "outputs": [],
   "source": [
    "for subdir, dirs, files in os.walk(rootdir):\n",
    "    vid_id = os.path.split(subdir)[1]\n",
    "    for file in files: \n",
    "        img_path = os.path.join(subdir, file)\n",
    "        os.system(\"python /home/amolsingh/gcloud/trainer/form_classification/clf_rule_set.py --image-path {} --vid-id {} --frame-id {} --out-csv {}\".format(img_path, vid_id, file, outcsv))"
   ]
  },
  {
   "cell_type": "code",
   "execution_count": null,
   "id": "dynamic-operations",
   "metadata": {},
   "outputs": [],
   "source": []
  },
  {
   "cell_type": "code",
   "execution_count": null,
   "id": "everyday-fitting",
   "metadata": {},
   "outputs": [],
   "source": []
  }
 ],
 "metadata": {
  "kernelspec": {
   "display_name": "Python 3",
   "language": "python",
   "name": "python3"
  },
  "language_info": {
   "codemirror_mode": {
    "name": "ipython",
    "version": 3
   },
   "file_extension": ".py",
   "mimetype": "text/x-python",
   "name": "python",
   "nbconvert_exporter": "python",
   "pygments_lexer": "ipython3",
   "version": "3.7.10"
  }
 },
 "nbformat": 4,
 "nbformat_minor": 5
}
